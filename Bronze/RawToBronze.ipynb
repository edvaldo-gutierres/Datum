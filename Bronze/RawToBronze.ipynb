{
 "cells": [
  {
   "cell_type": "code",
   "execution_count": 0,
   "metadata": {
    "application/vnd.databricks.v1+cell": {
     "cellMetadata": {
      "byteLimit": 2048000,
      "rowLimit": 10000
     },
     "inputWidgets": {},
     "nuid": "52ecf179-e212-4886-b54c-f1a0a04bfa8f",
     "showTitle": false,
     "title": ""
    }
   },
   "outputs": [],
   "source": [
    "# Define os parâmetros da Job\n",
    "dbutils.widgets.text('p_path_file_location','')\n",
    "dbutils.widgets.text('p_layer','')\n",
    "dbutils.widgets.text('p_file_name_raw','')\n",
    "dbutils.widgets.text('p_file_type_raw','')\n",
    "dbutils.widgets.text('p_mode_write_bronze','')"
   ]
  },
  {
   "cell_type": "markdown",
   "metadata": {
    "application/vnd.databricks.v1+cell": {
     "cellMetadata": {
      "byteLimit": 2048000,
      "rowLimit": 10000
     },
     "inputWidgets": {},
     "nuid": "499ccde6-937a-4382-9872-43926f01d784",
     "showTitle": false,
     "title": ""
    }
   },
   "source": [
    "###Premissa: Escolher um conjunto de dados do Kaggle relacionado a vendas. \n",
    "Obs.: Certifique-se de que o conjunto de dados inclui informações como datas, produtos, quantidades vendidas, etc.\n",
    "\n",
    "**Dataset escolhido**: https://www.kaggle.com/datasets/olistbr/brazilian-ecommerce/data"
   ]
  },
  {
   "cell_type": "code",
   "execution_count": 0,
   "metadata": {
    "application/vnd.databricks.v1+cell": {
     "cellMetadata": {
      "byteLimit": 2048000,
      "rowLimit": 10000
     },
     "inputWidgets": {},
     "nuid": "552ee890-8431-4102-a998-7ad47b23f78a",
     "showTitle": true,
     "title": "Importa bilbiotecas"
    }
   },
   "outputs": [],
   "source": [
    "# Importando Bibliotecas\n",
    "from pyspark.sql import DataFrame\n",
    "from pyspark.sql.functions import current_timestamp"
   ]
  },
  {
   "cell_type": "markdown",
   "metadata": {
    "application/vnd.databricks.v1+cell": {
     "cellMetadata": {
      "byteLimit": 2048000,
      "rowLimit": 10000
     },
     "inputWidgets": {},
     "nuid": "45969bdd-4520-490c-a9df-c871dc08747b",
     "showTitle": false,
     "title": ""
    }
   },
   "source": [
    "####Funções para leitura, processamento e gravação de dados"
   ]
  },
  {
   "cell_type": "code",
   "execution_count": 0,
   "metadata": {
    "application/vnd.databricks.v1+cell": {
     "cellMetadata": {
      "byteLimit": 2048000,
      "rowLimit": 10000
     },
     "inputWidgets": {},
     "nuid": "643a8874-def1-4a0f-a9fb-47882538848c",
     "showTitle": true,
     "title": "Cria função para leitura de arquivo .csv"
    }
   },
   "outputs": [],
   "source": [
    "def ler_csv(path :str, layer :str, file_name_raw :str, file_type_raw :str) -> DataFrame:\n",
    "    \"\"\"\n",
    "    Lê um arquivo CSV do ADSL Gen2.\n",
    "\n",
    "    Args:\n",
    "        layer (str): Camada do arquivo.\n",
    "        file_name (str): Nome do arquivo.\n",
    "        file_type (str): Tipo do arquivo.\n",
    "\n",
    "    Returns:\n",
    "        DataFrame: O DataFrame resultante da leitura do arquivo CSV.\n",
    "    \"\"\"\n",
    "    try:\n",
    "        # Opção de leitura do arquivo CSV\n",
    "        infer_schema = \"true\"\n",
    "        first_row_is_header = \"true\"\n",
    "        delimiter = \",\"\n",
    "\n",
    "        # Lê arquivo csv\n",
    "        df = spark.read.format(file_type_raw)\\\n",
    "            .option('header',first_row_is_header)\\\n",
    "            .option('inferschema',infer_schema)\\\n",
    "            .load(f'{path}/{layer}/{file_name_raw}.{file_type_raw}')\n",
    "\n",
    "        return df\n",
    "    except Exception as e:\n",
    "        print(f\"Erro ao ler o arquivo CSV: {e}\")\n",
    "        return None"
   ]
  },
  {
   "cell_type": "code",
   "execution_count": 0,
   "metadata": {
    "application/vnd.databricks.v1+cell": {
     "cellMetadata": {
      "byteLimit": 2048000,
      "rowLimit": 10000
     },
     "inputWidgets": {},
     "nuid": "845a63f4-d168-4a65-8fc2-39923e42e483",
     "showTitle": true,
     "title": "Cria função para inserir coluna row_ingestion_timestamp"
    }
   },
   "outputs": [],
   "source": [
    "def add_timestamp(df:DataFrame) -> DataFrame:\n",
    "    \"\"\"\n",
    "    Adiciona uma coluna com a data e hora atuais a um DataFrame do Spark.\n",
    "\n",
    "    Args:\n",
    "        df (DataFrame): DataFrame do Spark.\n",
    "        nome_coluna (str): Nome da coluna a ser adicionada.\n",
    "\n",
    "    Returns:\n",
    "        DataFrame: O DataFrame original com a nova coluna adicionada.\n",
    "    \"\"\"\n",
    "    try:\n",
    "        # Adiciona uma coluna com a data e hora atuais\n",
    "        df_timestamp = df.withColumn('row_ingestion_timestamp', current_timestamp())\n",
    "        \n",
    "        return df_timestamp\n",
    "    except Exception as e:\n",
    "        print(f\"Erro ao adicionar timestamp: {e}\")\n",
    "        return None"
   ]
  },
  {
   "cell_type": "code",
   "execution_count": 0,
   "metadata": {
    "application/vnd.databricks.v1+cell": {
     "cellMetadata": {
      "byteLimit": 2048000,
      "rowLimit": 10000
     },
     "inputWidgets": {},
     "nuid": "ba5cc8cb-62a9-4834-a0ea-7888e487996e",
     "showTitle": true,
     "title": "Função para gravar os dados em parquet no ADSL"
    }
   },
   "outputs": [],
   "source": [
    "def gravar_parquet(df :DataFrame, destination_path :str, mode_write_bronze :str) -> None:\n",
    "    \"\"\"\n",
    "    Grava os dados de um DataFrame no formato Parquet.\n",
    "\n",
    "    Args:\n",
    "        df (DataFrame): DataFrame do Spark.\n",
    "        caminho_destino (str): Caminho de destino para salvar o arquivo Parquet.\n",
    "    \"\"\"\n",
    "    # Grava o DataFrame no formato Parquet\n",
    "    df.write.mode(mode_write_bronze).parquet(destination_path)\n",
    "\n",
    "    print(\"Dados salvos com sucesso no formato Parquet.\")\n"
   ]
  },
  {
   "cell_type": "code",
   "execution_count": 0,
   "metadata": {
    "application/vnd.databricks.v1+cell": {
     "cellMetadata": {
      "byteLimit": 2048000,
      "rowLimit": 10000
     },
     "inputWidgets": {},
     "nuid": "581f7459-72d6-4f96-a65f-75a124506a40",
     "showTitle": true,
     "title": "Função para criar uma delta table a partir de um parquet"
    }
   },
   "outputs": [],
   "source": [
    "def criar_tabela_databricks(file_path_parquet :str, table_name :str) -> None:\n",
    "    \"\"\"\n",
    "    Cria tabela no formato delta no Databricks a partir de um arquivo parquet\n",
    "\n",
    "    Args:\n",
    "        file_path_parquet: Caminho da container (pasta) onde se encontra o arquivo parquet\n",
    "        schema_name: Nome do Schema \n",
    "        table_name: Nome da tabela\n",
    "    \"\"\"\n",
    "\n",
    "    # Verifica se a tabela existe\n",
    "    spark.sql('use catalog poc_datum')\n",
    "    tabelas_existentes = spark.sql(\"SHOW TABLES\")\n",
    "    if table_name not in [row.tableName for row in tabelas_existentes.collect()]:\n",
    "        # Carrega o DataFrame a partir do arquivo parquet\n",
    "        df = spark.read.parquet(file_path_parquet)\n",
    "\n",
    "        # Salva o Dataframe como uma tabela no Databricks\n",
    "        df.write.format('delta').mode(\"overwrite\").saveAsTable(f'{table_name}')\n",
    "\n",
    "        print(f\"A tabela '{table_name}' foi criada com sucesso no Databricks.\")\n",
    "    else:\n",
    "        print(f\"A tabela '{table_name}' já existe no Databricks.\")"
   ]
  },
  {
   "cell_type": "markdown",
   "metadata": {
    "application/vnd.databricks.v1+cell": {
     "cellMetadata": {
      "byteLimit": 2048000,
      "rowLimit": 10000
     },
     "inputWidgets": {},
     "nuid": "1dea22a0-6c94-4039-a361-963244ffa9b0",
     "showTitle": false,
     "title": ""
    }
   },
   "source": [
    "###Premissa: \n",
    "  - Carregue o conjunto de dados no Databricks.\n",
    "  - Explore o esquema dos dados e faça ajustes conforme necessário."
   ]
  },
  {
   "cell_type": "code",
   "execution_count": 0,
   "metadata": {
    "application/vnd.databricks.v1+cell": {
     "cellMetadata": {
      "byteLimit": 2048000,
      "rowLimit": 10000
     },
     "inputWidgets": {},
     "nuid": "0cc160dd-c396-4c0b-bec2-a334227d1d68",
     "showTitle": true,
     "title": "Lê arquivo .csv e adiciona coluna de controle row_ingestion_timestamp"
    }
   },
   "outputs": [
    {
     "output_type": "display_data",
     "data": {
      "text/html": [
       "<style scoped>\n",
       "  .table-result-container {\n",
       "    max-height: 300px;\n",
       "    overflow: auto;\n",
       "  }\n",
       "  table, th, td {\n",
       "    border: 1px solid black;\n",
       "    border-collapse: collapse;\n",
       "  }\n",
       "  th, td {\n",
       "    padding: 5px;\n",
       "  }\n",
       "  th {\n",
       "    text-align: left;\n",
       "  }\n",
       "</style><div class='table-result-container'><table class='table-result'><thead style='background-color: white'><tr><th>customer_id</th><th>customer_unique_id</th><th>customer_zip_code_prefix</th><th>customer_city</th><th>customer_state</th><th>row_ingestion_timestamp</th></tr></thead><tbody><tr><td>06b8999e2fba1a1fbc88172c00ba8bc7</td><td>861eff4711a542e4b93843c6dd7febb0</td><td>14409</td><td>franca</td><td>SP</td><td>2024-04-29T15:28:31.813Z</td></tr><tr><td>18955e83d337fd6b2def6b18a428ac77</td><td>290c77bc529b7ac935b93aa66c333dc3</td><td>9790</td><td>sao bernardo do campo</td><td>SP</td><td>2024-04-29T15:28:31.813Z</td></tr><tr><td>4e7b3e00288586ebd08712fdd0374a03</td><td>060e732b5b29e8181a18229c7b0b2b5e</td><td>1151</td><td>sao paulo</td><td>SP</td><td>2024-04-29T15:28:31.813Z</td></tr><tr><td>b2b6027bc5c5109e529d4dc6358b12c3</td><td>259dac757896d24d7702b9acbbff3f3c</td><td>8775</td><td>mogi das cruzes</td><td>SP</td><td>2024-04-29T15:28:31.813Z</td></tr><tr><td>4f2d8ab171c80ec8364f7c12e35b23ad</td><td>345ecd01c38d18a9036ed96c73b8d066</td><td>13056</td><td>campinas</td><td>SP</td><td>2024-04-29T15:28:31.813Z</td></tr><tr><td>879864dab9bc3047522c92c82e1212b8</td><td>4c93744516667ad3b8f1fb645a3116a4</td><td>89254</td><td>jaragua do sul</td><td>SC</td><td>2024-04-29T15:28:31.813Z</td></tr><tr><td>fd826e7cf63160e536e0908c76c3f441</td><td>addec96d2e059c80c30fe6871d30d177</td><td>4534</td><td>sao paulo</td><td>SP</td><td>2024-04-29T15:28:31.813Z</td></tr><tr><td>5e274e7a0c3809e14aba7ad5aae0d407</td><td>57b2a98a409812fe9618067b6b8ebe4f</td><td>35182</td><td>timoteo</td><td>MG</td><td>2024-04-29T15:28:31.813Z</td></tr><tr><td>5adf08e34b2e993982a47070956c5c65</td><td>1175e95fb47ddff9de6b2b06188f7e0d</td><td>81560</td><td>curitiba</td><td>PR</td><td>2024-04-29T15:28:31.813Z</td></tr><tr><td>4b7139f34592b3a31687243a302fa75b</td><td>9afe194fb833f79e300e37e580171f22</td><td>30575</td><td>belo horizonte</td><td>MG</td><td>2024-04-29T15:28:31.813Z</td></tr></tbody></table></div>"
      ]
     },
     "metadata": {
      "application/vnd.databricks.v1+output": {
       "addedWidgets": {},
       "aggData": [],
       "aggError": "",
       "aggOverflow": false,
       "aggSchema": [],
       "aggSeriesLimitReached": false,
       "aggType": "",
       "arguments": {},
       "columnCustomDisplayInfos": {},
       "data": [
        [
         "06b8999e2fba1a1fbc88172c00ba8bc7",
         "861eff4711a542e4b93843c6dd7febb0",
         14409,
         "franca",
         "SP",
         "2024-04-29T15:28:31.813Z"
        ],
        [
         "18955e83d337fd6b2def6b18a428ac77",
         "290c77bc529b7ac935b93aa66c333dc3",
         9790,
         "sao bernardo do campo",
         "SP",
         "2024-04-29T15:28:31.813Z"
        ],
        [
         "4e7b3e00288586ebd08712fdd0374a03",
         "060e732b5b29e8181a18229c7b0b2b5e",
         1151,
         "sao paulo",
         "SP",
         "2024-04-29T15:28:31.813Z"
        ],
        [
         "b2b6027bc5c5109e529d4dc6358b12c3",
         "259dac757896d24d7702b9acbbff3f3c",
         8775,
         "mogi das cruzes",
         "SP",
         "2024-04-29T15:28:31.813Z"
        ],
        [
         "4f2d8ab171c80ec8364f7c12e35b23ad",
         "345ecd01c38d18a9036ed96c73b8d066",
         13056,
         "campinas",
         "SP",
         "2024-04-29T15:28:31.813Z"
        ],
        [
         "879864dab9bc3047522c92c82e1212b8",
         "4c93744516667ad3b8f1fb645a3116a4",
         89254,
         "jaragua do sul",
         "SC",
         "2024-04-29T15:28:31.813Z"
        ],
        [
         "fd826e7cf63160e536e0908c76c3f441",
         "addec96d2e059c80c30fe6871d30d177",
         4534,
         "sao paulo",
         "SP",
         "2024-04-29T15:28:31.813Z"
        ],
        [
         "5e274e7a0c3809e14aba7ad5aae0d407",
         "57b2a98a409812fe9618067b6b8ebe4f",
         35182,
         "timoteo",
         "MG",
         "2024-04-29T15:28:31.813Z"
        ],
        [
         "5adf08e34b2e993982a47070956c5c65",
         "1175e95fb47ddff9de6b2b06188f7e0d",
         81560,
         "curitiba",
         "PR",
         "2024-04-29T15:28:31.813Z"
        ],
        [
         "4b7139f34592b3a31687243a302fa75b",
         "9afe194fb833f79e300e37e580171f22",
         30575,
         "belo horizonte",
         "MG",
         "2024-04-29T15:28:31.813Z"
        ]
       ],
       "datasetInfos": [],
       "dbfsResultPath": null,
       "isJsonSchema": true,
       "metadata": {},
       "overflow": false,
       "plotOptions": {
        "customPlotOptions": {},
        "displayType": "table",
        "pivotAggregation": null,
        "pivotColumns": null,
        "xColumns": null,
        "yColumns": null
       },
       "removedWidgets": [],
       "schema": [
        {
         "metadata": "{}",
         "name": "customer_id",
         "type": "\"string\""
        },
        {
         "metadata": "{}",
         "name": "customer_unique_id",
         "type": "\"string\""
        },
        {
         "metadata": "{}",
         "name": "customer_zip_code_prefix",
         "type": "\"integer\""
        },
        {
         "metadata": "{}",
         "name": "customer_city",
         "type": "\"string\""
        },
        {
         "metadata": "{}",
         "name": "customer_state",
         "type": "\"string\""
        },
        {
         "metadata": "{}",
         "name": "row_ingestion_timestamp",
         "type": "\"timestamp\""
        }
       ],
       "type": "table"
      }
     },
     "output_type": "display_data"
    }
   ],
   "source": [
    "# Parâmetros de leitura de arquivo\n",
    "path_file_location = dbutils.widgets.get('p_path_file_location') #\"abfss://datum-metastore@proofconceptdatum.dfs.core.windows.net\"\n",
    "layer = dbutils.widgets.get('p_layer') #\"raw/olistbr-brazilian-ecommerce\"\n",
    "file_name_raw = dbutils.widgets.get('p_file_name_raw') #\"olist_customers_dataset\"\n",
    "file_type_raw = dbutils.widgets.get('p_file_type_raw') #\"csv\"\n",
    "\n",
    "# Lê o CSV\n",
    "df = ler_csv(path=path_file_location, layer=layer, file_name_raw=file_name_raw, file_type_raw=file_type_raw)\n",
    "\n",
    "# Adiciona coluna row_ingestion_timestamp\n",
    "df_rits = add_timestamp(df=df)\n",
    "\n",
    "display(df_rits.limit(10))"
   ]
  },
  {
   "cell_type": "markdown",
   "metadata": {
    "application/vnd.databricks.v1+cell": {
     "cellMetadata": {
      "byteLimit": 2048000,
      "rowLimit": 10000
     },
     "inputWidgets": {},
     "nuid": "d14110ca-1823-411d-894c-26e7288026af",
     "showTitle": false,
     "title": ""
    }
   },
   "source": [
    "### Premissa: Grave os dados transformados e agregados em um formato Parquet para persistência eficiente.\n",
    "\n",
    "Obs.: Aqui não estamos considerando opções avançadas de carga de dados, como carga incremental, upsert ou Auto Loader, pois este é um cenário de prova de conceito (POC). Entretanto, é crucial considerar essas estratégias em um ambiente de produção para garantir eficiência e precisão na gestão de dados. Além disso, o particionamento de dados também deve ser cuidadosamente avaliado e implementado para otimizar o desempenho e a escalabilidade do sistema."
   ]
  },
  {
   "cell_type": "code",
   "execution_count": 0,
   "metadata": {
    "application/vnd.databricks.v1+cell": {
     "cellMetadata": {
      "byteLimit": 2048000,
      "rowLimit": 10000
     },
     "inputWidgets": {},
     "nuid": "0eb1d9d1-e1eb-4207-92de-a4d194dfeef5",
     "showTitle": true,
     "title": "Grava os dados em formato parquet na camada Raw do ASDL"
    }
   },
   "outputs": [
    {
     "output_type": "stream",
     "name": "stdout",
     "output_type": "stream",
     "text": [
      "Dados salvos com sucesso no formato Parquet.\n"
     ]
    }
   ],
   "source": [
    "# Parâmetros de gravação de arquivo\n",
    "file_name_bronze = file_name_raw\n",
    "destination_path = f'{path_file_location}/bronze/olistbr-brazilian-ecommerce/{file_name_bronze}'\n",
    "mode_write_bronze = dbutils.widgets.get('p_mode_write_bronze') #'overwrite'\n",
    "\n",
    "# Salva arquivo no ADLS (Azure Data Lake Storage) em formato parquet, na camada bronze\n",
    "gravar_parquet(df_rits, destination_path=destination_path, mode_write_bronze=mode_write_bronze)"
   ]
  }
 ],
 "metadata": {
  "application/vnd.databricks.v1+notebook": {
   "dashboards": [],
   "language": "python",
   "notebookMetadata": {
    "mostRecentlyExecutedCommandWithImplicitDF": {
     "commandId": 2194175968404450,
     "dataframes": [
      "_sqldf"
     ]
    },
    "pythonIndentUnit": 4
   },
   "notebookName": "RawToBronze",
   "widgets": {
    "p_file_name_raw": {
     "currentValue": "olist_customers_dataset",
     "nuid": "bf6a9e5d-210e-415d-a8cb-3113f338a958",
     "typedWidgetInfo": null,
     "widgetInfo": {
      "widgetType": "text",
      "defaultValue": "",
      "label": null,
      "name": "p_file_name_raw",
      "options": {
       "widgetType": "text",
       "autoCreated": null,
       "validationRegex": null
      }
     }
    },
    "p_file_type_raw": {
     "currentValue": "csv",
     "nuid": "2108ca87-dcff-4729-a182-a13e424bee50",
     "typedWidgetInfo": null,
     "widgetInfo": {
      "widgetType": "text",
      "defaultValue": "",
      "label": null,
      "name": "p_file_type_raw",
      "options": {
       "widgetType": "text",
       "autoCreated": null,
       "validationRegex": null
      }
     }
    },
    "p_layer": {
     "currentValue": "raw/olistbr-brazilian-ecommerce",
     "nuid": "c99068dd-595a-476f-82bb-3c1f590912c7",
     "typedWidgetInfo": null,
     "widgetInfo": {
      "widgetType": "text",
      "defaultValue": "",
      "label": null,
      "name": "p_layer",
      "options": {
       "widgetType": "text",
       "autoCreated": null,
       "validationRegex": null
      }
     }
    },
    "p_mode_write_bronze": {
     "currentValue": "overwrite",
     "nuid": "7cbc73f1-d047-445d-9eff-ce6f8c26a154",
     "typedWidgetInfo": null,
     "widgetInfo": {
      "widgetType": "text",
      "defaultValue": "",
      "label": null,
      "name": "p_mode_write_bronze",
      "options": {
       "widgetType": "text",
       "autoCreated": null,
       "validationRegex": null
      }
     }
    },
    "p_path_file_location": {
     "currentValue": "dbfs:/FileStore/datum/",
     "nuid": "0a4ec350-e818-4d23-b870-61c754aa95f5",
     "typedWidgetInfo": null,
     "widgetInfo": {
      "widgetType": "text",
      "defaultValue": "",
      "label": null,
      "name": "p_path_file_location",
      "options": {
       "widgetType": "text",
       "autoCreated": null,
       "validationRegex": null
      }
     }
    }
   }
  }
 },
 "nbformat": 4,
 "nbformat_minor": 0
}
