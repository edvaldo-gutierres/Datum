{
 "cells": [
  {
   "cell_type": "markdown",
   "metadata": {
    "application/vnd.databricks.v1+cell": {
     "cellMetadata": {},
     "inputWidgets": {},
     "nuid": "597a139a-54f3-4329-a8ee-b2e66c50e509",
     "showTitle": false,
     "title": ""
    }
   },
   "source": [
    "# Analise de Dados"
   ]
  },
  {
   "cell_type": "markdown",
   "metadata": {
    "application/vnd.databricks.v1+cell": {
     "cellMetadata": {},
     "inputWidgets": {},
     "nuid": "724851aa-8ae7-4e78-b72f-8a1ea7552f51",
     "showTitle": false,
     "title": ""
    }
   },
   "source": [
    "**Premissa**: Execute consultas exploratórias para entender melhor os dados e validar as transformações.\n",
    "Crie visualizações ou relatórios para comunicar insights."
   ]
  },
  {
   "cell_type": "markdown",
   "metadata": {
    "application/vnd.databricks.v1+cell": {
     "cellMetadata": {
      "byteLimit": 2048000,
      "rowLimit": 10000
     },
     "inputWidgets": {},
     "nuid": "06b011e8-7e9a-416c-baf2-fe29b6a70451",
     "showTitle": false,
     "title": ""
    }
   },
   "source": [
    "# Tabelas\n",
    "\n",
    "  - **olist_orders_dataset** : Tabela principal, usada para conectar todos os detalhes relacionados a um pedido de compra.\n",
    "  - **olist_order_items_dataset** : Contém os detalhes de um item que foi comprado.\n",
    "  - **olist_order_reviews_dataset** : Contém detalhes relacionados a quaisquer comentários postados pelo cliente sobre um produto.\n",
    "  - **olist_products_dataset** : Contém informações relacionadas a um produto.\n",
    "  - **olist_order_payments_dataset** : Contém informações relacionadas aos detalhes de pagamento.\n",
    "  - **olist_customers_dataset** : Contém informações de clientes.\n",
    "  - **olist_geolocation_dataset** : Contém informações geográficas relacionadas aos vendedores e clientes.\n",
    "  - **olist_sellers_dataset** : Contém informações relativas a todos os vendedores que se cadastraram nesta empresa."
   ]
  },
  {
   "cell_type": "markdown",
   "metadata": {
    "application/vnd.databricks.v1+cell": {
     "cellMetadata": {},
     "inputWidgets": {},
     "nuid": "104b294e-c22b-4230-8a67-1e7d218596cb",
     "showTitle": false,
     "title": ""
    }
   },
   "source": [
    "#### Quantidade de pedidos\n"
   ]
  },
  {
   "cell_type": "code",
   "execution_count": 0,
   "metadata": {
    "application/vnd.databricks.v1+cell": {
     "cellMetadata": {
      "byteLimit": 2048000,
      "implicitDf": true,
      "rowLimit": 10000
     },
     "inputWidgets": {},
     "nuid": "51b5e000-4814-4589-81c9-a2203a640648",
     "showTitle": false,
     "title": ""
    }
   },
   "outputs": [
    {
     "output_type": "display_data",
     "data": {
      "text/html": [
       "<style scoped>\n",
       "  .table-result-container {\n",
       "    max-height: 300px;\n",
       "    overflow: auto;\n",
       "  }\n",
       "  table, th, td {\n",
       "    border: 1px solid black;\n",
       "    border-collapse: collapse;\n",
       "  }\n",
       "  th, td {\n",
       "    padding: 5px;\n",
       "  }\n",
       "  th {\n",
       "    text-align: left;\n",
       "  }\n",
       "</style><div class='table-result-container'><table class='table-result'><thead style='background-color: white'><tr><th>total_pedidos_entregues</th></tr></thead><tbody><tr><td>99441</td></tr></tbody></table></div>"
      ]
     },
     "metadata": {
      "application/vnd.databricks.v1+output": {
       "addedWidgets": {},
       "aggData": [],
       "aggError": "",
       "aggOverflow": false,
       "aggSchema": [],
       "aggSeriesLimitReached": false,
       "aggType": "",
       "arguments": {},
       "columnCustomDisplayInfos": {},
       "data": [
        [
         99441
        ]
       ],
       "datasetInfos": [],
       "dbfsResultPath": null,
       "isJsonSchema": true,
       "metadata": {
        "dataframeName": "_sqldf",
        "executionCount": 39
       },
       "overflow": false,
       "plotOptions": {
        "customPlotOptions": {},
        "displayType": "table",
        "pivotAggregation": null,
        "pivotColumns": null,
        "xColumns": null,
        "yColumns": null
       },
       "removedWidgets": [],
       "schema": [
        {
         "metadata": "{}",
         "name": "total_pedidos_entregues",
         "type": "\"long\""
        }
       ],
       "type": "table"
      }
     },
     "output_type": "display_data"
    },
    {
     "output_type": "display_data",
     "data": {
      "text/plain": [
       "Databricks visualization. Run in Databricks to view."
      ]
     },
     "metadata": {
      "application/vnd.databricks.v1.subcommand+json": {
       "baseErrorDetails": null,
       "bindings": {},
       "collapsed": false,
       "command": "%sql\nSELECT \n    COUNT(*) AS total_pedidos_entregues\n    FROM poc_datum.olist.order_silver",
       "commandTitle": "Visualization 1",
       "commandType": "auto",
       "commandVersion": 0,
       "commentThread": [],
       "commentsVisible": false,
       "contentSha256Hex": null,
       "customPlotOptions": {
        "redashChart": [
         {
          "key": "type",
          "value": "COUNTER"
         },
         {
          "key": "options",
          "value": {
           "counterColName": "total_pedidos_entregues",
           "counterLabel": "Total de Pedidos",
           "formatTargetValue": false,
           "rowNumber": 1,
           "stringDecChar": ".",
           "stringDecimal": 0,
           "stringThouSep": ",",
           "targetColName": "",
           "targetRowNumber": 1,
           "tooltipFormat": "0,0.000"
          }
         }
        ]
       },
       "datasetPreviewNameToCmdIdMap": {},
       "diffDeletes": [],
       "diffInserts": [],
       "displayType": "redashChart",
       "error": null,
       "errorDetails": null,
       "errorSummary": null,
       "errorTraceType": null,
       "finishTime": 0,
       "globalVars": {},
       "guid": "",
       "height": "auto",
       "hideCommandCode": false,
       "hideCommandResult": false,
       "iPythonMetadata": null,
       "inputWidgets": {},
       "isLockedInExamMode": false,
       "latestUser": "a user",
       "latestUserId": null,
       "listResultMetadata": null,
       "metadata": {},
       "nuid": "27b083c7-cdd5-4de7-8657-43e262ec178d",
       "origId": 0,
       "parentHierarchy": [],
       "pivotAggregation": null,
       "pivotColumns": null,
       "position": 3.75,
       "resultDbfsErrorMessage": null,
       "resultDbfsStatus": "INLINED_IN_TREE",
       "results": null,
       "showCommandTitle": false,
       "startTime": 0,
       "state": "input",
       "streamStates": {},
       "subcommandOptions": {},
       "submitTime": 0,
       "subtype": "tableResultSubCmd.visualization",
       "tableResultIndex": 0,
       "useConsistentColors": false,
       "version": "CommandV1",
       "width": "auto",
       "workflows": [],
       "xColumns": null,
       "yColumns": null
      }
     },
     "output_type": "display_data"
    }
   ],
   "source": [
    "%sql\n",
    "SELECT \n",
    "    COUNT(*) AS total_pedidos_entregues\n",
    "    FROM poc_datum.olist.order_silver"
   ]
  },
  {
   "cell_type": "markdown",
   "metadata": {
    "application/vnd.databricks.v1+cell": {
     "cellMetadata": {},
     "inputWidgets": {},
     "nuid": "ab90294d-19f5-4c79-a370-31ca221770c7",
     "showTitle": false,
     "title": ""
    }
   },
   "source": [
    "#### Quantidade de pedidos por Status"
   ]
  },
  {
   "cell_type": "code",
   "execution_count": 0,
   "metadata": {
    "application/vnd.databricks.v1+cell": {
     "cellMetadata": {
      "byteLimit": 2048000,
      "implicitDf": true,
      "rowLimit": 10000
     },
     "inputWidgets": {},
     "nuid": "55a44f58-cf5c-4fb7-9b16-12a074979203",
     "showTitle": true,
     "title": "Quantidade de pedidos por Status"
    }
   },
   "outputs": [
    {
     "output_type": "display_data",
     "data": {
      "text/html": [
       "<style scoped>\n",
       "  .table-result-container {\n",
       "    max-height: 300px;\n",
       "    overflow: auto;\n",
       "  }\n",
       "  table, th, td {\n",
       "    border: 1px solid black;\n",
       "    border-collapse: collapse;\n",
       "  }\n",
       "  th, td {\n",
       "    padding: 5px;\n",
       "  }\n",
       "  th {\n",
       "    text-align: left;\n",
       "  }\n",
       "</style><div class='table-result-container'><table class='table-result'><thead style='background-color: white'><tr><th>status</th><th>total_pedidos_entregues</th></tr></thead><tbody><tr><td>Delivery</td><td>96478</td></tr><tr><td>No Delivery</td><td>2963</td></tr></tbody></table></div>"
      ]
     },
     "metadata": {
      "application/vnd.databricks.v1+output": {
       "addedWidgets": {},
       "aggData": [],
       "aggError": "",
       "aggOverflow": false,
       "aggSchema": [],
       "aggSeriesLimitReached": false,
       "aggType": "",
       "arguments": {},
       "columnCustomDisplayInfos": {},
       "data": [
        [
         "Delivery",
         96478
        ],
        [
         "No Delivery",
         2963
        ]
       ],
       "datasetInfos": [],
       "dbfsResultPath": null,
       "isJsonSchema": true,
       "metadata": {
        "dataframeName": "_sqldf",
        "executionCount": 31
       },
       "overflow": false,
       "plotOptions": {
        "customPlotOptions": {},
        "displayType": "table",
        "pivotAggregation": null,
        "pivotColumns": null,
        "xColumns": null,
        "yColumns": null
       },
       "removedWidgets": [],
       "schema": [
        {
         "metadata": "{}",
         "name": "status",
         "type": "\"string\""
        },
        {
         "metadata": "{}",
         "name": "total_pedidos_entregues",
         "type": "\"long\""
        }
       ],
       "type": "table"
      }
     },
     "output_type": "display_data"
    },
    {
     "output_type": "display_data",
     "data": {
      "text/plain": [
       "Databricks visualization. Run in Databricks to view."
      ]
     },
     "metadata": {
      "application/vnd.databricks.v1.subcommand+json": {
       "baseErrorDetails": null,
       "bindings": {},
       "collapsed": false,
       "command": "%sql WITH q AS (SELECT \n  DISTINCT\n  order_status,\n  count(*) as qtde\nFROM poc_datum.olist.order_silver\nGROUP BY order_status) SELECT `order_status`,SUM(`qtde`) `column_20ad4ebb2` FROM q GROUP BY `order_status`",
       "commandTitle": "Visualization 1",
       "commandType": "auto",
       "commandVersion": 0,
       "commentThread": [],
       "commentsVisible": false,
       "contentSha256Hex": null,
       "customPlotOptions": {
        "redashChart": [
         {
          "key": "type",
          "value": "CHART"
         },
         {
          "key": "options",
          "value": {
           "alignYAxesAtZero": true,
           "coefficient": 1,
           "columnConfigurationMap": {
            "series": {
             "column": "status",
             "id": "column_20ad4ebb57"
            },
            "x": {
             "column": "status",
             "id": "column_20ad4ebb27"
            },
            "y": [
             {
              "column": "total_pedidos_entregues",
              "id": "column_20ad4ebb2",
              "transform": "SUM"
             }
            ]
           },
           "dateTimeFormat": "DD/MM/YYYY HH:mm",
           "direction": {
            "type": "counterclockwise"
           },
           "error_y": {
            "type": "data",
            "visible": true
           },
           "globalSeriesType": "column",
           "hideXAxis": false,
           "hideYAxes": true,
           "isAggregationOn": true,
           "legend": {
            "traceorder": "normal"
           },
           "missingValuesAsZero": true,
           "numberFormat": "0,0.[00000]",
           "percentFormat": "0[.]00%",
           "series": {
            "error_y": {
             "type": "data",
             "visible": true
            },
            "stacking": null
           },
           "seriesOptions": {
            "No Delivery": {
             "color": "#FF3621"
            },
            "column_20ad4ebb2": {
             "name": "qtde",
             "type": "column",
             "yAxis": 0
            }
           },
           "showDataLabels": true,
           "sizemode": "diameter",
           "sortX": false,
           "sortY": true,
           "swappedAxes": false,
           "textFormat": "",
           "useAggregationsUi": true,
           "valuesOptions": {
            "No Delivery": {
             "color": "#FFAB00"
            }
           },
           "version": 2,
           "xAxis": {
            "labels": {
             "enabled": true
            },
            "type": "-"
           },
           "yAxis": [
            {
             "type": "-"
            },
            {
             "opposite": true,
             "type": "-"
            }
           ]
          }
         }
        ]
       },
       "datasetPreviewNameToCmdIdMap": {},
       "diffDeletes": [],
       "diffInserts": [],
       "displayType": "redashChart",
       "error": null,
       "errorDetails": null,
       "errorSummary": null,
       "errorTraceType": null,
       "finishTime": 0,
       "globalVars": {},
       "guid": "",
       "height": "auto",
       "hideCommandCode": false,
       "hideCommandResult": false,
       "iPythonMetadata": null,
       "inputWidgets": {},
       "isLockedInExamMode": false,
       "latestUser": "a user",
       "latestUserId": null,
       "listResultMetadata": null,
       "metadata": {},
       "nuid": "c1a12605-8c50-4e17-9dce-80ef45861241",
       "origId": 0,
       "parentHierarchy": [],
       "pivotAggregation": null,
       "pivotColumns": null,
       "position": 4.0,
       "resultDbfsErrorMessage": null,
       "resultDbfsStatus": "INLINED_IN_TREE",
       "results": null,
       "showCommandTitle": false,
       "startTime": 0,
       "state": "input",
       "streamStates": {},
       "subcommandOptions": {
        "queryPlan": {
         "groups": [
          {
           "column": "status",
           "type": "column"
          },
          {
           "column": "status",
           "type": "column"
          }
         ],
         "selects": [
          {
           "column": "status",
           "type": "column"
          },
          {
           "alias": "column_20ad4ebb2",
           "args": [
            {
             "column": "total_pedidos_entregues",
             "type": "column"
            }
           ],
           "function": "SUM",
           "type": "function"
          },
          {
           "column": "status",
           "type": "column"
          }
         ]
        }
       },
       "submitTime": 0,
       "subtype": "tableResultSubCmd.visualization",
       "tableResultIndex": 0,
       "useConsistentColors": false,
       "version": "CommandV1",
       "width": "auto",
       "workflows": [],
       "xColumns": null,
       "yColumns": null
      }
     },
     "output_type": "display_data"
    }
   ],
   "source": [
    "%sql\n",
    "WITH total_pedidos_entregues \n",
    "AS (\n",
    "    SELECT \n",
    "    COUNT(*) AS total_pedidos_entregues\n",
    "    FROM poc_datum.olist.order_silver\n",
    "    WHERE order_status = 'delivered'\n",
    "),\n",
    "total_pedidos_n_entregue \n",
    "AS (\n",
    "    SELECT \n",
    "    COUNT(*) AS total_pedidos_n_entregues\n",
    "    FROM poc_datum.olist.order_silver\n",
    "    WHERE order_status <> 'delivered'\n",
    ")\n",
    "\n",
    "SELECT 'Delivery' AS status, tpe.total_pedidos_entregues FROM  total_pedidos_entregues AS tpe\n",
    "UNION\n",
    "SELECT 'No Delivery' AS status, tpne.total_pedidos_n_entregues FROM  total_pedidos_n_entregue AS tpne\n",
    "\n"
   ]
  },
  {
   "cell_type": "code",
   "execution_count": 0,
   "metadata": {
    "application/vnd.databricks.v1+cell": {
     "cellMetadata": {
      "byteLimit": 2048000,
      "rowLimit": 10000
     },
     "inputWidgets": {},
     "nuid": "101715b6-b06f-4e45-98ce-a6fee36248e3",
     "showTitle": false,
     "title": ""
    }
   },
   "outputs": [
    {
     "output_type": "stream",
     "name": "stdout",
     "output_type": "stream",
     "text": [
      "#Percentual de pedidos não entregues: 2.98%\n"
     ]
    }
   ],
   "source": [
    "total_pedidos_n_entregue = spark.sql(\"\"\"\n",
    "                                    SELECT \n",
    "                                        COUNT(*) AS total_pedidos_n_entregues\n",
    "                                    FROM poc_datum.olist.order_silver\n",
    "                                        WHERE order_status <> 'delivered'\n",
    "                                    \"\"\").collect()[0][0]\n",
    "\n",
    "total_pedidos = spark.sql(\"\"\"\n",
    "                            SELECT \n",
    "                                COUNT(*) AS total_pedidos\n",
    "                            FROM poc_datum.olist.order_silver\n",
    "                            \"\"\").collect()[0][0]\n",
    "\n",
    "percent_no_delivery = total_pedidos_n_entregue / total_pedidos\n",
    "\n",
    "print(\"Percentual de pedidos não entregues: {:.2%}\".format(percent_no_delivery))"
   ]
  },
  {
   "cell_type": "markdown",
   "metadata": {
    "application/vnd.databricks.v1+cell": {
     "cellMetadata": {},
     "inputWidgets": {},
     "nuid": "6d69f304-2987-49c0-be2c-7c868018573f",
     "showTitle": false,
     "title": ""
    }
   },
   "source": [
    "1. **Eficiência nas Entregas**: A diferença entre as barras é bastante acentuada, com a barra de entregas muito maior que a de não entregues. Isso sugere que a maioria dos pedidos é concluída com sucesso.\n",
    "\n",
    "2. **Pedidos Não Entregues**: Apesar que a quantidade seja significativamente menor (aprox. **2,98%**), ainda representa uma quantidade de pedidos que não chegaram ao destino final. É importante entender os motivos por trás desses casos para melhorar a eficácia da entrega."
   ]
  },
  {
   "cell_type": "code",
   "execution_count": 0,
   "metadata": {
    "application/vnd.databricks.v1+cell": {
     "cellMetadata": {
      "byteLimit": 2048000,
      "implicitDf": true,
      "rowLimit": 10000
     },
     "inputWidgets": {},
     "nuid": "120b0978-ece9-4ce2-9bf9-2acd20d10f4e",
     "showTitle": true,
     "title": "Quantidade de pedidos não entregues"
    }
   },
   "outputs": [
    {
     "output_type": "display_data",
     "data": {
      "text/html": [
       "<style scoped>\n",
       "  .table-result-container {\n",
       "    max-height: 300px;\n",
       "    overflow: auto;\n",
       "  }\n",
       "  table, th, td {\n",
       "    border: 1px solid black;\n",
       "    border-collapse: collapse;\n",
       "  }\n",
       "  th, td {\n",
       "    padding: 5px;\n",
       "  }\n",
       "  th {\n",
       "    text-align: left;\n",
       "  }\n",
       "</style><div class='table-result-container'><table class='table-result'><thead style='background-color: white'><tr><th>order_status</th><th>total_pedidos</th><th>percentual</th></tr></thead><tbody><tr><td>shipped</td><td>1107</td><td>37.36078299021262</td></tr><tr><td>canceled</td><td>625</td><td>21.09348633142086</td></tr><tr><td>unavailable</td><td>609</td><td>20.55349308133648</td></tr><tr><td>invoiced</td><td>314</td><td>10.59736753290584</td></tr><tr><td>processing</td><td>301</td><td>10.15862301721228</td></tr><tr><td>created</td><td>5</td><td>0.16874789065137</td></tr><tr><td>approved</td><td>2</td><td>0.06749915626055</td></tr></tbody></table></div>"
      ]
     },
     "metadata": {
      "application/vnd.databricks.v1+output": {
       "addedWidgets": {},
       "aggData": [],
       "aggError": "",
       "aggOverflow": false,
       "aggSchema": [],
       "aggSeriesLimitReached": false,
       "aggType": "",
       "arguments": {},
       "columnCustomDisplayInfos": {},
       "data": [
        [
         "shipped",
         1107,
         "37.36078299021262"
        ],
        [
         "canceled",
         625,
         "21.09348633142086"
        ],
        [
         "unavailable",
         609,
         "20.55349308133648"
        ],
        [
         "invoiced",
         314,
         "10.59736753290584"
        ],
        [
         "processing",
         301,
         "10.15862301721228"
        ],
        [
         "created",
         5,
         "0.16874789065137"
        ],
        [
         "approved",
         2,
         "0.06749915626055"
        ]
       ],
       "datasetInfos": [],
       "dbfsResultPath": null,
       "isJsonSchema": true,
       "metadata": {
        "dataframeName": "_sqldf",
        "executionCount": 23
       },
       "overflow": false,
       "plotOptions": {
        "customPlotOptions": {},
        "displayType": "table",
        "pivotAggregation": null,
        "pivotColumns": null,
        "xColumns": null,
        "yColumns": null
       },
       "removedWidgets": [],
       "schema": [
        {
         "metadata": "{}",
         "name": "order_status",
         "type": "\"string\""
        },
        {
         "metadata": "{}",
         "name": "total_pedidos",
         "type": "\"long\""
        },
        {
         "metadata": "{}",
         "name": "percentual",
         "type": "\"decimal(38,14)\""
        }
       ],
       "type": "table"
      }
     },
     "output_type": "display_data"
    },
    {
     "output_type": "display_data",
     "data": {
      "text/plain": [
       "Databricks visualization. Run in Databricks to view."
      ]
     },
     "metadata": {
      "application/vnd.databricks.v1.subcommand+json": {
       "baseErrorDetails": null,
       "bindings": {},
       "collapsed": false,
       "command": "%sql WITH q AS (WITH status_pedidos_n_entregue AS \n(SELECT \n  DISTINCT\n  order_status,\n  count(*) as qtde\nFROM poc_datum.olist.order_silver\nWHERE order_status <> 'delivered'\nGROUP BY order_status)\n\nSELECT * FROM status_pedidos_n_entregue\nORDER BY 2 DESC) SELECT `order_status`,SUM(`qtde`) `column_20ad4ebb7` FROM q GROUP BY `order_status`",
       "commandTitle": "Visualization 1",
       "commandType": "auto",
       "commandVersion": 0,
       "commentThread": [],
       "commentsVisible": false,
       "contentSha256Hex": null,
       "customPlotOptions": {
        "redashChart": [
         {
          "key": "type",
          "value": "CHART"
         },
         {
          "key": "options",
          "value": {
           "alignYAxesAtZero": true,
           "coefficient": 1,
           "columnConfigurationMap": {
            "x": {
             "column": "order_status",
             "id": "column_20ad4ebb6"
            },
            "y": [
             {
              "column": "total_pedidos",
              "id": "column_20ad4ebb7",
              "transform": "SUM"
             }
            ]
           },
           "dateTimeFormat": "DD/MM/YYYY HH:mm",
           "direction": {
            "type": "counterclockwise"
           },
           "error_y": {
            "type": "data",
            "visible": true
           },
           "globalSeriesType": "column",
           "hideXAxis": false,
           "hideYAxes": true,
           "isAggregationOn": true,
           "legend": {
            "traceorder": "normal"
           },
           "missingValuesAsZero": true,
           "numberFormat": "0,0.[00000]",
           "percentFormat": "0[.]00%",
           "series": {
            "error_y": {
             "type": "data",
             "visible": true
            },
            "stacking": null
           },
           "seriesOptions": {
            "column_20ad4ebb7": {
             "name": "qtde",
             "type": "column",
             "yAxis": 0
            }
           },
           "showDataLabels": true,
           "sizemode": "diameter",
           "sortX": false,
           "sortY": true,
           "swappedAxes": true,
           "textFormat": "",
           "useAggregationsUi": true,
           "valuesOptions": {},
           "version": 2,
           "xAxis": {
            "labels": {
             "enabled": true
            },
            "type": "-"
           },
           "yAxis": [
            {
             "type": "-"
            },
            {
             "opposite": true,
             "type": "-"
            }
           ]
          }
         }
        ]
       },
       "datasetPreviewNameToCmdIdMap": {},
       "diffDeletes": [],
       "diffInserts": [],
       "displayType": "redashChart",
       "error": null,
       "errorDetails": null,
       "errorSummary": null,
       "errorTraceType": null,
       "finishTime": 0,
       "globalVars": {},
       "guid": "",
       "height": "auto",
       "hideCommandCode": false,
       "hideCommandResult": false,
       "iPythonMetadata": null,
       "inputWidgets": {},
       "isLockedInExamMode": false,
       "latestUser": "a user",
       "latestUserId": null,
       "listResultMetadata": null,
       "metadata": {},
       "nuid": "7b5e6ce8-5706-4f80-83eb-ae02e6bc2d69",
       "origId": 0,
       "parentHierarchy": [],
       "pivotAggregation": null,
       "pivotColumns": null,
       "position": 5.0,
       "resultDbfsErrorMessage": null,
       "resultDbfsStatus": "INLINED_IN_TREE",
       "results": null,
       "showCommandTitle": false,
       "startTime": 0,
       "state": "input",
       "streamStates": {},
       "subcommandOptions": {
        "queryPlan": {
         "groups": [
          {
           "column": "order_status",
           "type": "column"
          }
         ],
         "selects": [
          {
           "column": "order_status",
           "type": "column"
          },
          {
           "alias": "column_20ad4ebb7",
           "args": [
            {
             "column": "total_pedidos",
             "type": "column"
            }
           ],
           "function": "SUM",
           "type": "function"
          }
         ]
        }
       },
       "submitTime": 0,
       "subtype": "tableResultSubCmd.visualization",
       "tableResultIndex": 0,
       "useConsistentColors": false,
       "version": "CommandV1",
       "width": "auto",
       "workflows": [],
       "xColumns": null,
       "yColumns": null
      }
     },
     "output_type": "display_data"
    }
   ],
   "source": [
    "%sql\n",
    "WITH total_pedidos AS (\n",
    "    SELECT \n",
    "    COUNT(*) AS total_geral_pedidos\n",
    "    FROM poc_datum.olist.order_silver\n",
    "    WHERE order_status <> 'delivered'\n",
    "),\n",
    "\n",
    "total_pedidos_n_entregue AS (\n",
    "    SELECT \n",
    "    DISTINCT\n",
    "    order_status,\n",
    "    COUNT(*) AS total_pedidos\n",
    "    FROM poc_datum.olist.order_silver\n",
    "    WHERE order_status <> 'delivered'\n",
    "    GROUP BY order_status\n",
    ")\n",
    "\n",
    "SELECT \n",
    "    s.order_status,\n",
    "    s.total_pedidos,\n",
    "    (s.total_pedidos * 100.0 / t.total_geral_pedidos) AS percentual\n",
    "FROM \n",
    "    total_pedidos_n_entregue s,\n",
    "    total_pedidos t\n",
    "ORDER BY \n",
    "    s.total_pedidos DESC;"
   ]
  },
  {
   "cell_type": "markdown",
   "metadata": {
    "application/vnd.databricks.v1+cell": {
     "cellMetadata": {},
     "inputWidgets": {},
     "nuid": "0764e051-6ad8-40e5-9baf-205bd1a920cc",
     "showTitle": false,
     "title": ""
    }
   },
   "source": [
    "\n",
    "1. **Maior Categoria**: A maior barra representa pedidos que foram enviados (\"shipped\"), indicando que esta é a etapa mais comum atualmente no status dos pedidos. Isso é esperado, já que em qualquer momento, muitos pedidos estarão em trânsito.\n",
    "\n",
    "2. **Pedidos Cancelados**: A segunda maior barra indica uma quantidade significativa de pedidos cancelados. Isso pode sinalizar uma área que merece investigação, pois altas taxas de cancelamento podem indicar problemas no processo de compra, insatisfação do cliente ou problemas de estoque.\n",
    "\n",
    "3. **Disponibilidade**: A terceira maior barra, \"unavailable\", sugere que muitos produtos não estão disponíveis. Isso pode ser um ponto de atenção para a gestão de estoque, podendo afetar a satisfação dos clientes e marketing negativo por falta de produtos.\n",
    "\n",
    "4. **Processamento e Faturamento**: As barras para \"processing\" e \"invoiced\" mostram números menores. Isso aparentemente é normal, pois representam etapas transitórias rápidas no ciclo de vida de um pedido. Se esses números fossem anormalmente altos, poderia indicar gargalos no processamento de pedidos ou na faturamento da nota.\n",
    "\n",
    "5. **Criação e Aprovação**: Existem muito poucos pedidos nas etapas iniciais de \"created\" e \"approved\". Isso pode indicar que os pedidos estão sendo processados rapidamente através dessas etapas iniciais, o que geralmente é um bom sinal de eficiência."
   ]
  },
  {
   "cell_type": "markdown",
   "metadata": {
    "application/vnd.databricks.v1+cell": {
     "cellMetadata": {},
     "inputWidgets": {},
     "nuid": "6f0b21a8-9aac-48c1-9ca3-664936efb329",
     "showTitle": false,
     "title": ""
    }
   },
   "source": [
    "#### Evolução ao longo do tempo"
   ]
  },
  {
   "cell_type": "code",
   "execution_count": 0,
   "metadata": {
    "application/vnd.databricks.v1+cell": {
     "cellMetadata": {
      "byteLimit": 2048000,
      "implicitDf": true,
      "rowLimit": 10000
     },
     "inputWidgets": {},
     "nuid": "fad41edb-35eb-4edd-822e-e409bffc9259",
     "showTitle": true,
     "title": "Evolução de Pedidos ao mês/ano"
    }
   },
   "outputs": [
    {
     "output_type": "display_data",
     "data": {
      "text/html": [
       "<style scoped>\n",
       "  .table-result-container {\n",
       "    max-height: 300px;\n",
       "    overflow: auto;\n",
       "  }\n",
       "  table, th, td {\n",
       "    border: 1px solid black;\n",
       "    border-collapse: collapse;\n",
       "  }\n",
       "  th, td {\n",
       "    padding: 5px;\n",
       "  }\n",
       "  th {\n",
       "    text-align: left;\n",
       "  }\n",
       "</style><div class='table-result-container'><table class='table-result'><thead style='background-color: white'><tr><th>mes_ano</th><th>total_pedidos</th></tr></thead><tbody><tr><td>2016-09</td><td>4</td></tr><tr><td>2016-10</td><td>324</td></tr><tr><td>2016-12</td><td>1</td></tr><tr><td>2017-01</td><td>800</td></tr><tr><td>2017-02</td><td>1780</td></tr><tr><td>2017-03</td><td>2682</td></tr><tr><td>2017-04</td><td>2404</td></tr><tr><td>2017-05</td><td>3700</td></tr><tr><td>2017-06</td><td>3245</td></tr><tr><td>2017-07</td><td>4026</td></tr><tr><td>2017-08</td><td>4331</td></tr><tr><td>2017-09</td><td>4285</td></tr><tr><td>2017-10</td><td>4631</td></tr><tr><td>2017-11</td><td>7544</td></tr><tr><td>2017-12</td><td>5673</td></tr><tr><td>2018-01</td><td>7269</td></tr><tr><td>2018-02</td><td>6728</td></tr><tr><td>2018-03</td><td>7211</td></tr><tr><td>2018-04</td><td>6939</td></tr><tr><td>2018-05</td><td>6873</td></tr><tr><td>2018-06</td><td>6167</td></tr><tr><td>2018-07</td><td>6292</td></tr><tr><td>2018-08</td><td>6512</td></tr><tr><td>2018-09</td><td>16</td></tr><tr><td>2018-10</td><td>4</td></tr></tbody></table></div>"
      ]
     },
     "metadata": {
      "application/vnd.databricks.v1+output": {
       "addedWidgets": {},
       "aggData": [],
       "aggError": "",
       "aggOverflow": false,
       "aggSchema": [],
       "aggSeriesLimitReached": false,
       "aggType": "",
       "arguments": {},
       "columnCustomDisplayInfos": {},
       "data": [
        [
         "2016-09",
         4
        ],
        [
         "2016-10",
         324
        ],
        [
         "2016-12",
         1
        ],
        [
         "2017-01",
         800
        ],
        [
         "2017-02",
         1780
        ],
        [
         "2017-03",
         2682
        ],
        [
         "2017-04",
         2404
        ],
        [
         "2017-05",
         3700
        ],
        [
         "2017-06",
         3245
        ],
        [
         "2017-07",
         4026
        ],
        [
         "2017-08",
         4331
        ],
        [
         "2017-09",
         4285
        ],
        [
         "2017-10",
         4631
        ],
        [
         "2017-11",
         7544
        ],
        [
         "2017-12",
         5673
        ],
        [
         "2018-01",
         7269
        ],
        [
         "2018-02",
         6728
        ],
        [
         "2018-03",
         7211
        ],
        [
         "2018-04",
         6939
        ],
        [
         "2018-05",
         6873
        ],
        [
         "2018-06",
         6167
        ],
        [
         "2018-07",
         6292
        ],
        [
         "2018-08",
         6512
        ],
        [
         "2018-09",
         16
        ],
        [
         "2018-10",
         4
        ]
       ],
       "datasetInfos": [],
       "dbfsResultPath": null,
       "isJsonSchema": true,
       "metadata": {
        "dataframeName": "_sqldf",
        "executionCount": 83
       },
       "overflow": false,
       "plotOptions": {
        "customPlotOptions": {},
        "displayType": "table",
        "pivotAggregation": null,
        "pivotColumns": null,
        "xColumns": null,
        "yColumns": null
       },
       "removedWidgets": [],
       "schema": [
        {
         "metadata": "{}",
         "name": "mes_ano",
         "type": "\"string\""
        },
        {
         "metadata": "{}",
         "name": "total_pedidos",
         "type": "\"long\""
        }
       ],
       "type": "table"
      }
     },
     "output_type": "display_data"
    },
    {
     "output_type": "display_data",
     "data": {
      "text/plain": [
       "Databricks visualization. Run in Databricks to view."
      ]
     },
     "metadata": {
      "application/vnd.databricks.v1.subcommand+json": {
       "baseErrorDetails": null,
       "bindings": {},
       "collapsed": false,
       "command": "%sql WITH q AS (SELECT DISTINCT\ndate_format(order_purchase_timestamp, 'yyyy-MM'),\ncount(*) as total_pedidos\nFROM poc_datum.olist.order_silver\nGROUP BY ALL\nORDER BY 1) SELECT `date_format(order_purchase_timestamp, yyyy-MM)`,SUM(`total_pedidos`) `column_20ad4ebb30` FROM q GROUP BY `date_format(order_purchase_timestamp, yyyy-MM)`",
       "commandTitle": "Visualization 1",
       "commandType": "auto",
       "commandVersion": 0,
       "commentThread": [],
       "commentsVisible": false,
       "contentSha256Hex": null,
       "customPlotOptions": {
        "redashChart": [
         {
          "key": "type",
          "value": "CHART"
         },
         {
          "key": "options",
          "value": {
           "alignYAxesAtZero": true,
           "coefficient": 1,
           "columnConfigurationMap": {
            "x": {
             "column": "mes_ano",
             "id": "column_20ad4ebb35"
            },
            "y": [
             {
              "column": "total_pedidos",
              "id": "column_20ad4ebb30",
              "transform": "SUM"
             }
            ]
           },
           "dateTimeFormat": "DD/MM/YYYY HH:mm",
           "direction": {
            "type": "counterclockwise"
           },
           "error_y": {
            "type": "data",
            "visible": true
           },
           "globalSeriesType": "area",
           "isAggregationOn": true,
           "legend": {
            "traceorder": "normal"
           },
           "missingValuesAsZero": true,
           "numberFormat": "0,0.[00000]",
           "percentFormat": "0[.]00%",
           "series": {
            "error_y": {
             "type": "data",
             "visible": true
            },
            "stacking": null
           },
           "seriesOptions": {
            "column_20ad4ebb30": {
             "name": "total_pedidos",
             "type": "area",
             "yAxis": 0
            }
           },
           "showDataLabels": false,
           "sizemode": "diameter",
           "sortX": true,
           "sortY": true,
           "swappedAxes": false,
           "textFormat": "",
           "useAggregationsUi": true,
           "valuesOptions": {},
           "version": 2,
           "xAxis": {
            "labels": {
             "enabled": true
            },
            "type": "-"
           },
           "yAxis": [
            {
             "type": "-"
            },
            {
             "opposite": true,
             "type": "-"
            }
           ]
          }
         }
        ]
       },
       "datasetPreviewNameToCmdIdMap": {},
       "diffDeletes": [],
       "diffInserts": [],
       "displayType": "redashChart",
       "error": null,
       "errorDetails": null,
       "errorSummary": null,
       "errorTraceType": null,
       "finishTime": 0,
       "globalVars": {},
       "guid": "",
       "height": "auto",
       "hideCommandCode": false,
       "hideCommandResult": false,
       "iPythonMetadata": null,
       "inputWidgets": {},
       "isLockedInExamMode": false,
       "latestUser": "a user",
       "latestUserId": null,
       "listResultMetadata": null,
       "metadata": {},
       "nuid": "3f686fe4-1e38-4cd7-9ec1-1331f6435435",
       "origId": 0,
       "parentHierarchy": [],
       "pivotAggregation": null,
       "pivotColumns": null,
       "position": 5.5,
       "resultDbfsErrorMessage": null,
       "resultDbfsStatus": "INLINED_IN_TREE",
       "results": null,
       "showCommandTitle": false,
       "startTime": 0,
       "state": "input",
       "streamStates": {},
       "subcommandOptions": {
        "queryPlan": {
         "groups": [
          {
           "column": "mes_ano",
           "type": "column"
          }
         ],
         "selects": [
          {
           "column": "mes_ano",
           "type": "column"
          },
          {
           "alias": "column_20ad4ebb30",
           "args": [
            {
             "column": "total_pedidos",
             "type": "column"
            }
           ],
           "function": "SUM",
           "type": "function"
          }
         ]
        }
       },
       "submitTime": 0,
       "subtype": "tableResultSubCmd.visualization",
       "tableResultIndex": 0,
       "useConsistentColors": false,
       "version": "CommandV1",
       "width": "auto",
       "workflows": [],
       "xColumns": null,
       "yColumns": null
      }
     },
     "output_type": "display_data"
    }
   ],
   "source": [
    "%sql\n",
    "WITH total_pedidos \n",
    "AS (\n",
    "SELECT  \n",
    "  date_format(ops.order_purchase_timestamp, 'yyyy-MM' ) AS mes_ano ,*\n",
    "FROM \n",
    "  poc_datum.olist.order_silver AS ops )\n",
    "\n",
    "SELECT\n",
    "  mes_ano,\n",
    "  count(*) as total_pedidos\n",
    "FROM total_pedidos\n",
    "GROUP BY mes_ano\n",
    "ORDER BY 1 "
   ]
  },
  {
   "cell_type": "markdown",
   "metadata": {
    "application/vnd.databricks.v1+cell": {
     "cellMetadata": {},
     "inputWidgets": {},
     "nuid": "2efe971c-8fac-449a-be3a-ccfd08d02482",
     "showTitle": false,
     "title": ""
    }
   },
   "source": [
    "### Premissa: Identificando Padrões de Compra\n",
    "_Introduza uma regra mais complexa, como identificar padrões de comportamento de compra ao longo do tempo ou criar categorias personalizadas de produtos com base em determinados critérios._"
   ]
  },
  {
   "cell_type": "code",
   "execution_count": 0,
   "metadata": {
    "application/vnd.databricks.v1+cell": {
     "cellMetadata": {
      "byteLimit": 2048000,
      "implicitDf": true,
      "rowLimit": 10000
     },
     "inputWidgets": {},
     "nuid": "a967f8a9-28a0-4d34-972c-7c17b99cb023",
     "showTitle": true,
     "title": "Evolução de Pedidos ao longo do tempo"
    }
   },
   "outputs": [
    {
     "output_type": "display_data",
     "data": {
      "text/html": [
       "<style scoped>\n",
       "  .table-result-container {\n",
       "    max-height: 300px;\n",
       "    overflow: auto;\n",
       "  }\n",
       "  table, th, td {\n",
       "    border: 1px solid black;\n",
       "    border-collapse: collapse;\n",
       "  }\n",
       "  th, td {\n",
       "    padding: 5px;\n",
       "  }\n",
       "  th {\n",
       "    text-align: left;\n",
       "  }\n",
       "</style><div class='table-result-container'><table class='table-result'><thead style='background-color: white'><tr><th>dia</th><th>total_pedidos</th></tr></thead><tbody><tr><td>2016-09-04</td><td>1</td></tr><tr><td>2016-09-05</td><td>1</td></tr><tr><td>2016-09-13</td><td>1</td></tr><tr><td>2016-09-15</td><td>1</td></tr><tr><td>2016-10-02</td><td>1</td></tr><tr><td>2016-10-03</td><td>8</td></tr><tr><td>2016-10-04</td><td>63</td></tr><tr><td>2016-10-05</td><td>47</td></tr><tr><td>2016-10-06</td><td>51</td></tr><tr><td>2016-10-07</td><td>46</td></tr><tr><td>2016-10-08</td><td>42</td></tr><tr><td>2016-10-09</td><td>26</td></tr><tr><td>2016-10-10</td><td>39</td></tr><tr><td>2016-10-22</td><td>1</td></tr><tr><td>2016-12-23</td><td>1</td></tr><tr><td>2017-01-05</td><td>32</td></tr><tr><td>2017-01-06</td><td>4</td></tr><tr><td>2017-01-07</td><td>4</td></tr><tr><td>2017-01-08</td><td>6</td></tr><tr><td>2017-01-09</td><td>5</td></tr><tr><td>2017-01-10</td><td>6</td></tr><tr><td>2017-01-11</td><td>12</td></tr><tr><td>2017-01-12</td><td>13</td></tr><tr><td>2017-01-13</td><td>12</td></tr><tr><td>2017-01-14</td><td>18</td></tr><tr><td>2017-01-15</td><td>14</td></tr><tr><td>2017-01-16</td><td>19</td></tr><tr><td>2017-01-17</td><td>32</td></tr><tr><td>2017-01-18</td><td>33</td></tr><tr><td>2017-01-19</td><td>29</td></tr><tr><td>2017-01-20</td><td>29</td></tr><tr><td>2017-01-21</td><td>24</td></tr><tr><td>2017-01-22</td><td>31</td></tr><tr><td>2017-01-23</td><td>39</td></tr><tr><td>2017-01-24</td><td>40</td></tr><tr><td>2017-01-25</td><td>63</td></tr><tr><td>2017-01-26</td><td>86</td></tr><tr><td>2017-01-27</td><td>62</td></tr><tr><td>2017-01-28</td><td>29</td></tr><tr><td>2017-01-29</td><td>35</td></tr><tr><td>2017-01-30</td><td>53</td></tr><tr><td>2017-01-31</td><td>70</td></tr><tr><td>2017-02-01</td><td>73</td></tr><tr><td>2017-02-02</td><td>69</td></tr><tr><td>2017-02-03</td><td>60</td></tr><tr><td>2017-02-04</td><td>67</td></tr><tr><td>2017-02-05</td><td>75</td></tr><tr><td>2017-02-06</td><td>85</td></tr><tr><td>2017-02-07</td><td>112</td></tr><tr><td>2017-02-08</td><td>95</td></tr><tr><td>2017-02-09</td><td>77</td></tr><tr><td>2017-02-10</td><td>66</td></tr><tr><td>2017-02-11</td><td>49</td></tr><tr><td>2017-02-12</td><td>64</td></tr><tr><td>2017-02-13</td><td>78</td></tr><tr><td>2017-02-14</td><td>76</td></tr><tr><td>2017-02-15</td><td>62</td></tr><tr><td>2017-02-16</td><td>55</td></tr><tr><td>2017-02-17</td><td>46</td></tr><tr><td>2017-02-18</td><td>54</td></tr><tr><td>2017-02-19</td><td>40</td></tr><tr><td>2017-02-20</td><td>63</td></tr><tr><td>2017-02-21</td><td>41</td></tr><tr><td>2017-02-22</td><td>63</td></tr><tr><td>2017-02-23</td><td>59</td></tr><tr><td>2017-02-24</td><td>64</td></tr><tr><td>2017-02-25</td><td>43</td></tr><tr><td>2017-02-26</td><td>46</td></tr><tr><td>2017-02-27</td><td>43</td></tr><tr><td>2017-02-28</td><td>55</td></tr><tr><td>2017-03-01</td><td>99</td></tr><tr><td>2017-03-02</td><td>72</td></tr><tr><td>2017-03-03</td><td>74</td></tr><tr><td>2017-03-04</td><td>80</td></tr><tr><td>2017-03-05</td><td>74</td></tr><tr><td>2017-03-06</td><td>105</td></tr><tr><td>2017-03-07</td><td>82</td></tr><tr><td>2017-03-08</td><td>79</td></tr><tr><td>2017-03-09</td><td>93</td></tr><tr><td>2017-03-10</td><td>88</td></tr><tr><td>2017-03-11</td><td>71</td></tr><tr><td>2017-03-12</td><td>64</td></tr><tr><td>2017-03-13</td><td>111</td></tr><tr><td>2017-03-14</td><td>99</td></tr><tr><td>2017-03-15</td><td>108</td></tr><tr><td>2017-03-16</td><td>103</td></tr><tr><td>2017-03-17</td><td>65</td></tr><tr><td>2017-03-18</td><td>73</td></tr><tr><td>2017-03-19</td><td>56</td></tr><tr><td>2017-03-20</td><td>119</td></tr><tr><td>2017-03-21</td><td>97</td></tr><tr><td>2017-03-22</td><td>105</td></tr><tr><td>2017-03-23</td><td>114</td></tr><tr><td>2017-03-24</td><td>79</td></tr><tr><td>2017-03-25</td><td>76</td></tr><tr><td>2017-03-26</td><td>64</td></tr><tr><td>2017-03-27</td><td>111</td></tr><tr><td>2017-03-28</td><td>103</td></tr><tr><td>2017-03-29</td><td>74</td></tr><tr><td>2017-03-30</td><td>74</td></tr><tr><td>2017-03-31</td><td>70</td></tr><tr><td>2017-04-01</td><td>68</td></tr><tr><td>2017-04-02</td><td>65</td></tr><tr><td>2017-04-03</td><td>72</td></tr><tr><td>2017-04-04</td><td>96</td></tr><tr><td>2017-04-05</td><td>96</td></tr><tr><td>2017-04-06</td><td>96</td></tr><tr><td>2017-04-07</td><td>85</td></tr><tr><td>2017-04-08</td><td>68</td></tr><tr><td>2017-04-09</td><td>73</td></tr><tr><td>2017-04-10</td><td>87</td></tr><tr><td>2017-04-11</td><td>78</td></tr><tr><td>2017-04-12</td><td>63</td></tr><tr><td>2017-04-13</td><td>60</td></tr><tr><td>2017-04-14</td><td>54</td></tr><tr><td>2017-04-15</td><td>52</td></tr><tr><td>2017-04-16</td><td>49</td></tr><tr><td>2017-04-17</td><td>65</td></tr><tr><td>2017-04-18</td><td>71</td></tr><tr><td>2017-04-19</td><td>97</td></tr><tr><td>2017-04-20</td><td>98</td></tr><tr><td>2017-04-21</td><td>68</td></tr><tr><td>2017-04-22</td><td>84</td></tr><tr><td>2017-04-23</td><td>88</td></tr><tr><td>2017-04-24</td><td>115</td></tr><tr><td>2017-04-25</td><td>111</td></tr><tr><td>2017-04-26</td><td>125</td></tr><tr><td>2017-04-27</td><td>80</td></tr><tr><td>2017-04-28</td><td>98</td></tr><tr><td>2017-04-29</td><td>74</td></tr><tr><td>2017-04-30</td><td>68</td></tr><tr><td>2017-05-01</td><td>117</td></tr><tr><td>2017-05-02</td><td>128</td></tr><tr><td>2017-05-03</td><td>103</td></tr><tr><td>2017-05-04</td><td>109</td></tr><tr><td>2017-05-05</td><td>111</td></tr><tr><td>2017-05-06</td><td>109</td></tr><tr><td>2017-05-07</td><td>111</td></tr><tr><td>2017-05-08</td><td>124</td></tr><tr><td>2017-05-09</td><td>128</td></tr><tr><td>2017-05-10</td><td>116</td></tr><tr><td>2017-05-11</td><td>126</td></tr><tr><td>2017-05-12</td><td>115</td></tr><tr><td>2017-05-13</td><td>73</td></tr><tr><td>2017-05-14</td><td>112</td></tr><tr><td>2017-05-15</td><td>157</td></tr><tr><td>2017-05-16</td><td>153</td></tr><tr><td>2017-05-17</td><td>141</td></tr><tr><td>2017-05-18</td><td>125</td></tr><tr><td>2017-05-19</td><td>144</td></tr><tr><td>2017-05-20</td><td>72</td></tr><tr><td>2017-05-21</td><td>148</td></tr><tr><td>2017-05-22</td><td>148</td></tr><tr><td>2017-05-23</td><td>125</td></tr><tr><td>2017-05-24</td><td>142</td></tr><tr><td>2017-05-25</td><td>108</td></tr><tr><td>2017-05-26</td><td>80</td></tr><tr><td>2017-05-27</td><td>83</td></tr><tr><td>2017-05-28</td><td>98</td></tr><tr><td>2017-05-29</td><td>160</td></tr><tr><td>2017-05-30</td><td>105</td></tr><tr><td>2017-05-31</td><td>129</td></tr><tr><td>2017-06-01</td><td>124</td></tr><tr><td>2017-06-02</td><td>127</td></tr><tr><td>2017-06-03</td><td>89</td></tr><tr><td>2017-06-04</td><td>102</td></tr><tr><td>2017-06-05</td><td>147</td></tr><tr><td>2017-06-06</td><td>134</td></tr><tr><td>2017-06-07</td><td>129</td></tr><tr><td>2017-06-08</td><td>137</td></tr><tr><td>2017-06-09</td><td>108</td></tr><tr><td>2017-06-10</td><td>77</td></tr><tr><td>2017-06-11</td><td>115</td></tr><tr><td>2017-06-12</td><td>126</td></tr><tr><td>2017-06-13</td><td>126</td></tr><tr><td>2017-06-14</td><td>131</td></tr><tr><td>2017-06-15</td><td>108</td></tr><tr><td>2017-06-16</td><td>97</td></tr><tr><td>2017-06-17</td><td>75</td></tr><tr><td>2017-06-18</td><td>90</td></tr><tr><td>2017-06-19</td><td>156</td></tr><tr><td>2017-06-20</td><td>94</td></tr><tr><td>2017-06-21</td><td>35</td></tr><tr><td>2017-06-22</td><td>88</td></tr><tr><td>2017-06-23</td><td>107</td></tr><tr><td>2017-06-24</td><td>76</td></tr><tr><td>2017-06-25</td><td>105</td></tr><tr><td>2017-06-26</td><td>72</td></tr><tr><td>2017-06-27</td><td>141</td></tr><tr><td>2017-06-28</td><td>120</td></tr><tr><td>2017-06-29</td><td>114</td></tr><tr><td>2017-06-30</td><td>95</td></tr><tr><td>2017-07-01</td><td>80</td></tr><tr><td>2017-07-02</td><td>108</td></tr><tr><td>2017-07-03</td><td>118</td></tr><tr><td>2017-07-04</td><td>125</td></tr><tr><td>2017-07-05</td><td>145</td></tr><tr><td>2017-07-06</td><td>154</td></tr><tr><td>2017-07-07</td><td>121</td></tr><tr><td>2017-07-08</td><td>84</td></tr><tr><td>2017-07-09</td><td>94</td></tr><tr><td>2017-07-10</td><td>143</td></tr><tr><td>2017-07-11</td><td>165</td></tr><tr><td>2017-07-12</td><td>153</td></tr><tr><td>2017-07-13</td><td>137</td></tr><tr><td>2017-07-14</td><td>149</td></tr><tr><td>2017-07-15</td><td>98</td></tr><tr><td>2017-07-16</td><td>114</td></tr><tr><td>2017-07-17</td><td>168</td></tr><tr><td>2017-07-18</td><td>192</td></tr><tr><td>2017-07-19</td><td>153</td></tr><tr><td>2017-07-20</td><td>142</td></tr><tr><td>2017-07-21</td><td>115</td></tr><tr><td>2017-07-22</td><td>88</td></tr><tr><td>2017-07-23</td><td>105</td></tr><tr><td>2017-07-24</td><td>162</td></tr><tr><td>2017-07-25</td><td>153</td></tr><tr><td>2017-07-26</td><td>124</td></tr><tr><td>2017-07-27</td><td>124</td></tr><tr><td>2017-07-28</td><td>132</td></tr><tr><td>2017-07-29</td><td>115</td></tr><tr><td>2017-07-30</td><td>117</td></tr><tr><td>2017-07-31</td><td>148</td></tr><tr><td>2017-08-01</td><td>165</td></tr><tr><td>2017-08-02</td><td>157</td></tr><tr><td>2017-08-03</td><td>148</td></tr><tr><td>2017-08-04</td><td>142</td></tr><tr><td>2017-08-05</td><td>115</td></tr><tr><td>2017-08-06</td><td>109</td></tr><tr><td>2017-08-07</td><td>157</td></tr><tr><td>2017-08-08</td><td>146</td></tr><tr><td>2017-08-09</td><td>144</td></tr><tr><td>2017-08-10</td><td>157</td></tr><tr><td>2017-08-11</td><td>141</td></tr><tr><td>2017-08-12</td><td>98</td></tr><tr><td>2017-08-13</td><td>96</td></tr><tr><td>2017-08-14</td><td>159</td></tr><tr><td>2017-08-15</td><td>194</td></tr><tr><td>2017-08-16</td><td>174</td></tr><tr><td>2017-08-17</td><td>158</td></tr><tr><td>2017-08-18</td><td>147</td></tr><tr><td>2017-08-19</td><td>108</td></tr><tr><td>2017-08-20</td><td>104</td></tr><tr><td>2017-08-21</td><td>177</td></tr><tr><td>2017-08-22</td><td>138</td></tr><tr><td>2017-08-23</td><td>112</td></tr><tr><td>2017-08-24</td><td>128</td></tr><tr><td>2017-08-25</td><td>123</td></tr><tr><td>2017-08-26</td><td>93</td></tr><tr><td>2017-08-27</td><td>119</td></tr><tr><td>2017-08-28</td><td>155</td></tr><tr><td>2017-08-29</td><td>137</td></tr><tr><td>2017-08-30</td><td>181</td></tr><tr><td>2017-08-31</td><td>149</td></tr><tr><td>2017-09-01</td><td>158</td></tr><tr><td>2017-09-02</td><td>104</td></tr><tr><td>2017-09-03</td><td>125</td></tr><tr><td>2017-09-04</td><td>150</td></tr><tr><td>2017-09-05</td><td>157</td></tr><tr><td>2017-09-06</td><td>140</td></tr><tr><td>2017-09-07</td><td>99</td></tr><tr><td>2017-09-08</td><td>116</td></tr><tr><td>2017-09-09</td><td>106</td></tr><tr><td>2017-09-10</td><td>136</td></tr><tr><td>2017-09-11</td><td>180</td></tr><tr><td>2017-09-12</td><td>206</td></tr><tr><td>2017-09-13</td><td>207</td></tr><tr><td>2017-09-14</td><td>166</td></tr><tr><td>2017-09-15</td><td>150</td></tr><tr><td>2017-09-16</td><td>129</td></tr><tr><td>2017-09-17</td><td>126</td></tr><tr><td>2017-09-18</td><td>183</td></tr><tr><td>2017-09-19</td><td>154</td></tr><tr><td>2017-09-20</td><td>163</td></tr><tr><td>2017-09-21</td><td>150</td></tr><tr><td>2017-09-22</td><td>138</td></tr><tr><td>2017-09-23</td><td>88</td></tr><tr><td>2017-09-24</td><td>118</td></tr><tr><td>2017-09-25</td><td>136</td></tr><tr><td>2017-09-26</td><td>180</td></tr><tr><td>2017-09-27</td><td>147</td></tr><tr><td>2017-09-28</td><td>143</td></tr><tr><td>2017-09-29</td><td>121</td></tr><tr><td>2017-09-30</td><td>109</td></tr><tr><td>2017-10-01</td><td>128</td></tr><tr><td>2017-10-02</td><td>143</td></tr><tr><td>2017-10-03</td><td>198</td></tr><tr><td>2017-10-04</td><td>157</td></tr><tr><td>2017-10-05</td><td>140</td></tr><tr><td>2017-10-06</td><td>130</td></tr><tr><td>2017-10-07</td><td>105</td></tr><tr><td>2017-10-08</td><td>126</td></tr><tr><td>2017-10-09</td><td>193</td></tr><tr><td>2017-10-10</td><td>185</td></tr><tr><td>2017-10-11</td><td>158</td></tr><tr><td>2017-10-12</td><td>143</td></tr><tr><td>2017-10-13</td><td>154</td></tr><tr><td>2017-10-14</td><td>116</td></tr><tr><td>2017-10-15</td><td>121</td></tr><tr><td>2017-10-16</td><td>195</td></tr><tr><td>2017-10-17</td><td>202</td></tr><tr><td>2017-10-18</td><td>179</td></tr><tr><td>2017-10-19</td><td>176</td></tr><tr><td>2017-10-20</td><td>124</td></tr><tr><td>2017-10-21</td><td>113</td></tr><tr><td>2017-10-22</td><td>158</td></tr><tr><td>2017-10-23</td><td>161</td></tr><tr><td>2017-10-24</td><td>164</td></tr><tr><td>2017-10-25</td><td>156</td></tr><tr><td>2017-10-26</td><td>144</td></tr><tr><td>2017-10-27</td><td>133</td></tr><tr><td>2017-10-28</td><td>88</td></tr><tr><td>2017-10-29</td><td>132</td></tr><tr><td>2017-10-30</td><td>149</td></tr><tr><td>2017-10-31</td><td>160</td></tr><tr><td>2017-11-01</td><td>111</td></tr><tr><td>2017-11-02</td><td>124</td></tr><tr><td>2017-11-03</td><td>143</td></tr><tr><td>2017-11-04</td><td>111</td></tr><tr><td>2017-11-05</td><td>144</td></tr><tr><td>2017-11-06</td><td>193</td></tr><tr><td>2017-11-07</td><td>160</td></tr><tr><td>2017-11-08</td><td>175</td></tr><tr><td>2017-11-09</td><td>191</td></tr><tr><td>2017-11-10</td><td>165</td></tr><tr><td>2017-11-11</td><td>159</td></tr><tr><td>2017-11-12</td><td>174</td></tr><tr><td>2017-11-13</td><td>205</td></tr><tr><td>2017-11-14</td><td>192</td></tr><tr><td>2017-11-15</td><td>186</td></tr><tr><td>2017-11-16</td><td>226</td></tr><tr><td>2017-11-17</td><td>197</td></tr><tr><td>2017-11-18</td><td>149</td></tr><tr><td>2017-11-19</td><td>158</td></tr><tr><td>2017-11-20</td><td>230</td></tr><tr><td>2017-11-21</td><td>228</td></tr><tr><td>2017-11-22</td><td>201</td></tr><tr><td>2017-11-23</td><td>283</td></tr><tr><td>2017-11-24</td><td>1176</td></tr><tr><td>2017-11-25</td><td>499</td></tr><tr><td>2017-11-26</td><td>391</td></tr><tr><td>2017-11-27</td><td>403</td></tr><tr><td>2017-11-28</td><td>380</td></tr><tr><td>2017-11-29</td><td>323</td></tr><tr><td>2017-11-30</td><td>267</td></tr><tr><td>2017-12-01</td><td>275</td></tr><tr><td>2017-12-02</td><td>216</td></tr><tr><td>2017-12-03</td><td>234</td></tr><tr><td>2017-12-04</td><td>337</td></tr><tr><td>2017-12-05</td><td>282</td></tr><tr><td>2017-12-06</td><td>280</td></tr><tr><td>2017-12-07</td><td>229</td></tr><tr><td>2017-12-08</td><td>219</td></tr><tr><td>2017-12-09</td><td>155</td></tr><tr><td>2017-12-10</td><td>190</td></tr><tr><td>2017-12-11</td><td>267</td></tr><tr><td>2017-12-12</td><td>260</td></tr><tr><td>2017-12-13</td><td>218</td></tr><tr><td>2017-12-14</td><td>200</td></tr><tr><td>2017-12-15</td><td>192</td></tr><tr><td>2017-12-16</td><td>131</td></tr><tr><td>2017-12-17</td><td>133</td></tr><tr><td>2017-12-18</td><td>209</td></tr><tr><td>2017-12-19</td><td>176</td></tr><tr><td>2017-12-20</td><td>171</td></tr><tr><td>2017-12-21</td><td>143</td></tr><tr><td>2017-12-22</td><td>111</td></tr><tr><td>2017-12-23</td><td>109</td></tr><tr><td>2017-12-24</td><td>59</td></tr><tr><td>2017-12-25</td><td>90</td></tr><tr><td>2017-12-26</td><td>168</td></tr><tr><td>2017-12-27</td><td>167</td></tr><tr><td>2017-12-28</td><td>146</td></tr><tr><td>2017-12-29</td><td>135</td></tr><tr><td>2017-12-30</td><td>97</td></tr><tr><td>2017-12-31</td><td>74</td></tr><tr><td>2018-01-01</td><td>74</td></tr><tr><td>2018-01-02</td><td>204</td></tr><tr><td>2018-01-03</td><td>225</td></tr><tr><td>2018-01-04</td><td>258</td></tr><tr><td>2018-01-05</td><td>210</td></tr><tr><td>2018-01-06</td><td>216</td></tr><tr><td>2018-01-07</td><td>196</td></tr><tr><td>2018-01-08</td><td>293</td></tr><tr><td>2018-01-09</td><td>252</td></tr><tr><td>2018-01-10</td><td>277</td></tr><tr><td>2018-01-11</td><td>266</td></tr><tr><td>2018-01-12</td><td>243</td></tr><tr><td>2018-01-13</td><td>219</td></tr><tr><td>2018-01-14</td><td>235</td></tr><tr><td>2018-01-15</td><td>307</td></tr><tr><td>2018-01-16</td><td>302</td></tr><tr><td>2018-01-17</td><td>282</td></tr><tr><td>2018-01-18</td><td>241</td></tr><tr><td>2018-01-19</td><td>235</td></tr><tr><td>2018-01-20</td><td>184</td></tr><tr><td>2018-01-21</td><td>199</td></tr><tr><td>2018-01-22</td><td>314</td></tr><tr><td>2018-01-23</td><td>262</td></tr><tr><td>2018-01-24</td><td>244</td></tr><tr><td>2018-01-25</td><td>233</td></tr><tr><td>2018-01-26</td><td>229</td></tr><tr><td>2018-01-27</td><td>153</td></tr><tr><td>2018-01-28</td><td>156</td></tr><tr><td>2018-01-29</td><td>246</td></tr><tr><td>2018-01-30</td><td>258</td></tr><tr><td>2018-01-31</td><td>256</td></tr><tr><td>2018-02-01</td><td>232</td></tr><tr><td>2018-02-02</td><td>212</td></tr><tr><td>2018-02-03</td><td>193</td></tr><tr><td>2018-02-04</td><td>201</td></tr><tr><td>2018-02-05</td><td>271</td></tr><tr><td>2018-02-06</td><td>268</td></tr><tr><td>2018-02-07</td><td>248</td></tr><tr><td>2018-02-08</td><td>230</td></tr><tr><td>2018-02-09</td><td>216</td></tr><tr><td>2018-02-10</td><td>179</td></tr><tr><td>2018-02-11</td><td>172</td></tr><tr><td>2018-02-12</td><td>218</td></tr><tr><td>2018-02-13</td><td>224</td></tr><tr><td>2018-02-14</td><td>295</td></tr><tr><td>2018-02-15</td><td>283</td></tr><tr><td>2018-02-16</td><td>214</td></tr><tr><td>2018-02-17</td><td>204</td></tr><tr><td>2018-02-18</td><td>202</td></tr><tr><td>2018-02-19</td><td>259</td></tr><tr><td>2018-02-20</td><td>289</td></tr><tr><td>2018-02-21</td><td>266</td></tr><tr><td>2018-02-22</td><td>279</td></tr><tr><td>2018-02-23</td><td>235</td></tr><tr><td>2018-02-24</td><td>191</td></tr><tr><td>2018-02-25</td><td>237</td></tr><tr><td>2018-02-26</td><td>299</td></tr><tr><td>2018-02-27</td><td>298</td></tr><tr><td>2018-02-28</td><td>313</td></tr><tr><td>2018-03-01</td><td>277</td></tr><tr><td>2018-03-02</td><td>266</td></tr><tr><td>2018-03-03</td><td>214</td></tr><tr><td>2018-03-04</td><td>236</td></tr><tr><td>2018-03-05</td><td>264</td></tr><tr><td>2018-03-06</td><td>271</td></tr><tr><td>2018-03-07</td><td>259</td></tr><tr><td>2018-03-08</td><td>234</td></tr><tr><td>2018-03-09</td><td>204</td></tr><tr><td>2018-03-10</td><td>193</td></tr><tr><td>2018-03-11</td><td>218</td></tr><tr><td>2018-03-12</td><td>232</td></tr><tr><td>2018-03-13</td><td>227</td></tr><tr><td>2018-03-14</td><td>199</td></tr><tr><td>2018-03-15</td><td>290</td></tr><tr><td>2018-03-16</td><td>252</td></tr><tr><td>2018-03-17</td><td>180</td></tr><tr><td>2018-03-18</td><td>215</td></tr><tr><td>2018-03-19</td><td>303</td></tr><tr><td>2018-03-20</td><td>297</td></tr><tr><td>2018-03-21</td><td>286</td></tr><tr><td>2018-03-22</td><td>254</td></tr><tr><td>2018-03-23</td><td>221</td></tr><tr><td>2018-03-24</td><td>165</td></tr><tr><td>2018-03-25</td><td>190</td></tr><tr><td>2018-03-26</td><td>272</td></tr><tr><td>2018-03-27</td><td>245</td></tr><tr><td>2018-03-28</td><td>220</td></tr><tr><td>2018-03-29</td><td>194</td></tr><tr><td>2018-03-30</td><td>165</td></tr><tr><td>2018-03-31</td><td>168</td></tr><tr><td>2018-04-01</td><td>207</td></tr><tr><td>2018-04-02</td><td>282</td></tr><tr><td>2018-04-03</td><td>247</td></tr><tr><td>2018-04-04</td><td>257</td></tr><tr><td>2018-04-05</td><td>266</td></tr><tr><td>2018-04-06</td><td>189</td></tr><tr><td>2018-04-07</td><td>164</td></tr><tr><td>2018-04-08</td><td>185</td></tr><tr><td>2018-04-09</td><td>253</td></tr><tr><td>2018-04-10</td><td>201</td></tr><tr><td>2018-04-11</td><td>274</td></tr><tr><td>2018-04-12</td><td>255</td></tr><tr><td>2018-04-13</td><td>202</td></tr><tr><td>2018-04-14</td><td>146</td></tr><tr><td>2018-04-15</td><td>223</td></tr><tr><td>2018-04-16</td><td>280</td></tr><tr><td>2018-04-17</td><td>266</td></tr><tr><td>2018-04-18</td><td>280</td></tr><tr><td>2018-04-19</td><td>293</td></tr><tr><td>2018-04-20</td><td>197</td></tr><tr><td>2018-04-21</td><td>156</td></tr><tr><td>2018-04-22</td><td>200</td></tr><tr><td>2018-04-23</td><td>285</td></tr><tr><td>2018-04-24</td><td>271</td></tr><tr><td>2018-04-25</td><td>284</td></tr><tr><td>2018-04-26</td><td>254</td></tr><tr><td>2018-04-27</td><td>242</td></tr><tr><td>2018-04-28</td><td>169</td></tr><tr><td>2018-04-29</td><td>171</td></tr><tr><td>2018-04-30</td><td>240</td></tr><tr><td>2018-05-01</td><td>256</td></tr><tr><td>2018-05-02</td><td>296</td></tr><tr><td>2018-05-03</td><td>305</td></tr><tr><td>2018-05-04</td><td>265</td></tr><tr><td>2018-05-05</td><td>197</td></tr><tr><td>2018-05-06</td><td>211</td></tr><tr><td>2018-05-07</td><td>372</td></tr><tr><td>2018-05-08</td><td>331</td></tr><tr><td>2018-05-09</td><td>344</td></tr><tr><td>2018-05-10</td><td>279</td></tr><tr><td>2018-05-11</td><td>247</td></tr><tr><td>2018-05-12</td><td>207</td></tr><tr><td>2018-05-13</td><td>207</td></tr><tr><td>2018-05-14</td><td>364</td></tr><tr><td>2018-05-15</td><td>352</td></tr><tr><td>2018-05-16</td><td>357</td></tr><tr><td>2018-05-17</td><td>228</td></tr><tr><td>2018-05-18</td><td>236</td></tr><tr><td>2018-05-19</td><td>139</td></tr><tr><td>2018-05-20</td><td>161</td></tr><tr><td>2018-05-21</td><td>206</td></tr><tr><td>2018-05-22</td><td>199</td></tr><tr><td>2018-05-23</td><td>132</td></tr><tr><td>2018-05-24</td><td>114</td></tr><tr><td>2018-05-25</td><td>104</td></tr><tr><td>2018-05-26</td><td>99</td></tr><tr><td>2018-05-27</td><td>100</td></tr><tr><td>2018-05-28</td><td>143</td></tr><tr><td>2018-05-29</td><td>149</td></tr><tr><td>2018-05-30</td><td>140</td></tr><tr><td>2018-05-31</td><td>133</td></tr><tr><td>2018-06-01</td><td>184</td></tr><tr><td>2018-06-02</td><td>142</td></tr><tr><td>2018-06-03</td><td>192</td></tr><tr><td>2018-06-04</td><td>225</td></tr><tr><td>2018-06-05</td><td>200</td></tr><tr><td>2018-06-06</td><td>227</td></tr><tr><td>2018-06-07</td><td>223</td></tr><tr><td>2018-06-08</td><td>198</td></tr><tr><td>2018-06-09</td><td>172</td></tr><tr><td>2018-06-10</td><td>193</td></tr><tr><td>2018-06-11</td><td>294</td></tr><tr><td>2018-06-12</td><td>246</td></tr><tr><td>2018-06-13</td><td>259</td></tr><tr><td>2018-06-14</td><td>212</td></tr><tr><td>2018-06-15</td><td>186</td></tr><tr><td>2018-06-16</td><td>165</td></tr><tr><td>2018-06-17</td><td>152</td></tr><tr><td>2018-06-18</td><td>246</td></tr><tr><td>2018-06-19</td><td>231</td></tr><tr><td>2018-06-20</td><td>217</td></tr><tr><td>2018-06-21</td><td>234</td></tr><tr><td>2018-06-22</td><td>179</td></tr><tr><td>2018-06-23</td><td>151</td></tr><tr><td>2018-06-24</td><td>199</td></tr><tr><td>2018-06-25</td><td>241</td></tr><tr><td>2018-06-26</td><td>243</td></tr><tr><td>2018-06-27</td><td>215</td></tr><tr><td>2018-06-28</td><td>243</td></tr><tr><td>2018-06-29</td><td>174</td></tr><tr><td>2018-06-30</td><td>124</td></tr><tr><td>2018-07-01</td><td>161</td></tr><tr><td>2018-07-02</td><td>195</td></tr><tr><td>2018-07-03</td><td>216</td></tr><tr><td>2018-07-04</td><td>256</td></tr><tr><td>2018-07-05</td><td>195</td></tr><tr><td>2018-07-06</td><td>121</td></tr><tr><td>2018-07-07</td><td>91</td></tr><tr><td>2018-07-08</td><td>122</td></tr><tr><td>2018-07-09</td><td>148</td></tr><tr><td>2018-07-10</td><td>134</td></tr><tr><td>2018-07-11</td><td>127</td></tr><tr><td>2018-07-12</td><td>124</td></tr><tr><td>2018-07-13</td><td>168</td></tr><tr><td>2018-07-14</td><td>148</td></tr><tr><td>2018-07-15</td><td>152</td></tr><tr><td>2018-07-16</td><td>245</td></tr><tr><td>2018-07-17</td><td>221</td></tr><tr><td>2018-07-18</td><td>307</td></tr><tr><td>2018-07-19</td><td>253</td></tr><tr><td>2018-07-20</td><td>250</td></tr><tr><td>2018-07-21</td><td>187</td></tr><tr><td>2018-07-22</td><td>215</td></tr><tr><td>2018-07-23</td><td>307</td></tr><tr><td>2018-07-24</td><td>271</td></tr><tr><td>2018-07-25</td><td>268</td></tr><tr><td>2018-07-26</td><td>247</td></tr><tr><td>2018-07-27</td><td>189</td></tr><tr><td>2018-07-28</td><td>176</td></tr><tr><td>2018-07-29</td><td>188</td></tr><tr><td>2018-07-30</td><td>288</td></tr><tr><td>2018-07-31</td><td>322</td></tr><tr><td>2018-08-01</td><td>311</td></tr><tr><td>2018-08-02</td><td>302</td></tr><tr><td>2018-08-03</td><td>314</td></tr><tr><td>2018-08-04</td><td>245</td></tr><tr><td>2018-08-05</td><td>276</td></tr><tr><td>2018-08-06</td><td>372</td></tr><tr><td>2018-08-07</td><td>370</td></tr><tr><td>2018-08-08</td><td>316</td></tr><tr><td>2018-08-09</td><td>289</td></tr><tr><td>2018-08-10</td><td>256</td></tr><tr><td>2018-08-11</td><td>188</td></tr><tr><td>2018-08-12</td><td>197</td></tr><tr><td>2018-08-13</td><td>292</td></tr><tr><td>2018-08-14</td><td>316</td></tr><tr><td>2018-08-15</td><td>288</td></tr><tr><td>2018-08-16</td><td>320</td></tr><tr><td>2018-08-17</td><td>257</td></tr><tr><td>2018-08-18</td><td>198</td></tr><tr><td>2018-08-19</td><td>204</td></tr><tr><td>2018-08-20</td><td>256</td></tr><tr><td>2018-08-21</td><td>243</td></tr><tr><td>2018-08-22</td><td>187</td></tr><tr><td>2018-08-23</td><td>144</td></tr><tr><td>2018-08-24</td><td>99</td></tr><tr><td>2018-08-25</td><td>69</td></tr><tr><td>2018-08-26</td><td>73</td></tr><tr><td>2018-08-27</td><td>67</td></tr><tr><td>2018-08-28</td><td>44</td></tr><tr><td>2018-08-29</td><td>14</td></tr><tr><td>2018-08-30</td><td>4</td></tr><tr><td>2018-08-31</td><td>1</td></tr><tr><td>2018-09-03</td><td>4</td></tr><tr><td>2018-09-06</td><td>3</td></tr><tr><td>2018-09-10</td><td>1</td></tr><tr><td>2018-09-11</td><td>1</td></tr><tr><td>2018-09-12</td><td>1</td></tr><tr><td>2018-09-13</td><td>1</td></tr><tr><td>2018-09-17</td><td>1</td></tr><tr><td>2018-09-20</td><td>1</td></tr><tr><td>2018-09-25</td><td>1</td></tr><tr><td>2018-09-26</td><td>1</td></tr><tr><td>2018-09-29</td><td>1</td></tr><tr><td>2018-10-01</td><td>1</td></tr><tr><td>2018-10-03</td><td>1</td></tr><tr><td>2018-10-16</td><td>1</td></tr><tr><td>2018-10-17</td><td>1</td></tr></tbody></table></div>"
      ]
     },
     "metadata": {
      "application/vnd.databricks.v1+output": {
       "addedWidgets": {},
       "aggData": [],
       "aggError": "",
       "aggOverflow": false,
       "aggSchema": [],
       "aggSeriesLimitReached": false,
       "aggType": "",
       "arguments": {},
       "columnCustomDisplayInfos": {},
       "data": [
        [
         "2016-09-04",
         1
        ],
        [
         "2016-09-05",
         1
        ],
        [
         "2016-09-13",
         1
        ],
        [
         "2016-09-15",
         1
        ],
        [
         "2016-10-02",
         1
        ],
        [
         "2016-10-03",
         8
        ],
        [
         "2016-10-04",
         63
        ],
        [
         "2016-10-05",
         47
        ],
        [
         "2016-10-06",
         51
        ],
        [
         "2016-10-07",
         46
        ],
        [
         "2016-10-08",
         42
        ],
        [
         "2016-10-09",
         26
        ],
        [
         "2016-10-10",
         39
        ],
        [
         "2016-10-22",
         1
        ],
        [
         "2016-12-23",
         1
        ],
        [
         "2017-01-05",
         32
        ],
        [
         "2017-01-06",
         4
        ],
        [
         "2017-01-07",
         4
        ],
        [
         "2017-01-08",
         6
        ],
        [
         "2017-01-09",
         5
        ],
        [
         "2017-01-10",
         6
        ],
        [
         "2017-01-11",
         12
        ],
        [
         "2017-01-12",
         13
        ],
        [
         "2017-01-13",
         12
        ],
        [
         "2017-01-14",
         18
        ],
        [
         "2017-01-15",
         14
        ],
        [
         "2017-01-16",
         19
        ],
        [
         "2017-01-17",
         32
        ],
        [
         "2017-01-18",
         33
        ],
        [
         "2017-01-19",
         29
        ],
        [
         "2017-01-20",
         29
        ],
        [
         "2017-01-21",
         24
        ],
        [
         "2017-01-22",
         31
        ],
        [
         "2017-01-23",
         39
        ],
        [
         "2017-01-24",
         40
        ],
        [
         "2017-01-25",
         63
        ],
        [
         "2017-01-26",
         86
        ],
        [
         "2017-01-27",
         62
        ],
        [
         "2017-01-28",
         29
        ],
        [
         "2017-01-29",
         35
        ],
        [
         "2017-01-30",
         53
        ],
        [
         "2017-01-31",
         70
        ],
        [
         "2017-02-01",
         73
        ],
        [
         "2017-02-02",
         69
        ],
        [
         "2017-02-03",
         60
        ],
        [
         "2017-02-04",
         67
        ],
        [
         "2017-02-05",
         75
        ],
        [
         "2017-02-06",
         85
        ],
        [
         "2017-02-07",
         112
        ],
        [
         "2017-02-08",
         95
        ],
        [
         "2017-02-09",
         77
        ],
        [
         "2017-02-10",
         66
        ],
        [
         "2017-02-11",
         49
        ],
        [
         "2017-02-12",
         64
        ],
        [
         "2017-02-13",
         78
        ],
        [
         "2017-02-14",
         76
        ],
        [
         "2017-02-15",
         62
        ],
        [
         "2017-02-16",
         55
        ],
        [
         "2017-02-17",
         46
        ],
        [
         "2017-02-18",
         54
        ],
        [
         "2017-02-19",
         40
        ],
        [
         "2017-02-20",
         63
        ],
        [
         "2017-02-21",
         41
        ],
        [
         "2017-02-22",
         63
        ],
        [
         "2017-02-23",
         59
        ],
        [
         "2017-02-24",
         64
        ],
        [
         "2017-02-25",
         43
        ],
        [
         "2017-02-26",
         46
        ],
        [
         "2017-02-27",
         43
        ],
        [
         "2017-02-28",
         55
        ],
        [
         "2017-03-01",
         99
        ],
        [
         "2017-03-02",
         72
        ],
        [
         "2017-03-03",
         74
        ],
        [
         "2017-03-04",
         80
        ],
        [
         "2017-03-05",
         74
        ],
        [
         "2017-03-06",
         105
        ],
        [
         "2017-03-07",
         82
        ],
        [
         "2017-03-08",
         79
        ],
        [
         "2017-03-09",
         93
        ],
        [
         "2017-03-10",
         88
        ],
        [
         "2017-03-11",
         71
        ],
        [
         "2017-03-12",
         64
        ],
        [
         "2017-03-13",
         111
        ],
        [
         "2017-03-14",
         99
        ],
        [
         "2017-03-15",
         108
        ],
        [
         "2017-03-16",
         103
        ],
        [
         "2017-03-17",
         65
        ],
        [
         "2017-03-18",
         73
        ],
        [
         "2017-03-19",
         56
        ],
        [
         "2017-03-20",
         119
        ],
        [
         "2017-03-21",
         97
        ],
        [
         "2017-03-22",
         105
        ],
        [
         "2017-03-23",
         114
        ],
        [
         "2017-03-24",
         79
        ],
        [
         "2017-03-25",
         76
        ],
        [
         "2017-03-26",
         64
        ],
        [
         "2017-03-27",
         111
        ],
        [
         "2017-03-28",
         103
        ],
        [
         "2017-03-29",
         74
        ],
        [
         "2017-03-30",
         74
        ],
        [
         "2017-03-31",
         70
        ],
        [
         "2017-04-01",
         68
        ],
        [
         "2017-04-02",
         65
        ],
        [
         "2017-04-03",
         72
        ],
        [
         "2017-04-04",
         96
        ],
        [
         "2017-04-05",
         96
        ],
        [
         "2017-04-06",
         96
        ],
        [
         "2017-04-07",
         85
        ],
        [
         "2017-04-08",
         68
        ],
        [
         "2017-04-09",
         73
        ],
        [
         "2017-04-10",
         87
        ],
        [
         "2017-04-11",
         78
        ],
        [
         "2017-04-12",
         63
        ],
        [
         "2017-04-13",
         60
        ],
        [
         "2017-04-14",
         54
        ],
        [
         "2017-04-15",
         52
        ],
        [
         "2017-04-16",
         49
        ],
        [
         "2017-04-17",
         65
        ],
        [
         "2017-04-18",
         71
        ],
        [
         "2017-04-19",
         97
        ],
        [
         "2017-04-20",
         98
        ],
        [
         "2017-04-21",
         68
        ],
        [
         "2017-04-22",
         84
        ],
        [
         "2017-04-23",
         88
        ],
        [
         "2017-04-24",
         115
        ],
        [
         "2017-04-25",
         111
        ],
        [
         "2017-04-26",
         125
        ],
        [
         "2017-04-27",
         80
        ],
        [
         "2017-04-28",
         98
        ],
        [
         "2017-04-29",
         74
        ],
        [
         "2017-04-30",
         68
        ],
        [
         "2017-05-01",
         117
        ],
        [
         "2017-05-02",
         128
        ],
        [
         "2017-05-03",
         103
        ],
        [
         "2017-05-04",
         109
        ],
        [
         "2017-05-05",
         111
        ],
        [
         "2017-05-06",
         109
        ],
        [
         "2017-05-07",
         111
        ],
        [
         "2017-05-08",
         124
        ],
        [
         "2017-05-09",
         128
        ],
        [
         "2017-05-10",
         116
        ],
        [
         "2017-05-11",
         126
        ],
        [
         "2017-05-12",
         115
        ],
        [
         "2017-05-13",
         73
        ],
        [
         "2017-05-14",
         112
        ],
        [
         "2017-05-15",
         157
        ],
        [
         "2017-05-16",
         153
        ],
        [
         "2017-05-17",
         141
        ],
        [
         "2017-05-18",
         125
        ],
        [
         "2017-05-19",
         144
        ],
        [
         "2017-05-20",
         72
        ],
        [
         "2017-05-21",
         148
        ],
        [
         "2017-05-22",
         148
        ],
        [
         "2017-05-23",
         125
        ],
        [
         "2017-05-24",
         142
        ],
        [
         "2017-05-25",
         108
        ],
        [
         "2017-05-26",
         80
        ],
        [
         "2017-05-27",
         83
        ],
        [
         "2017-05-28",
         98
        ],
        [
         "2017-05-29",
         160
        ],
        [
         "2017-05-30",
         105
        ],
        [
         "2017-05-31",
         129
        ],
        [
         "2017-06-01",
         124
        ],
        [
         "2017-06-02",
         127
        ],
        [
         "2017-06-03",
         89
        ],
        [
         "2017-06-04",
         102
        ],
        [
         "2017-06-05",
         147
        ],
        [
         "2017-06-06",
         134
        ],
        [
         "2017-06-07",
         129
        ],
        [
         "2017-06-08",
         137
        ],
        [
         "2017-06-09",
         108
        ],
        [
         "2017-06-10",
         77
        ],
        [
         "2017-06-11",
         115
        ],
        [
         "2017-06-12",
         126
        ],
        [
         "2017-06-13",
         126
        ],
        [
         "2017-06-14",
         131
        ],
        [
         "2017-06-15",
         108
        ],
        [
         "2017-06-16",
         97
        ],
        [
         "2017-06-17",
         75
        ],
        [
         "2017-06-18",
         90
        ],
        [
         "2017-06-19",
         156
        ],
        [
         "2017-06-20",
         94
        ],
        [
         "2017-06-21",
         35
        ],
        [
         "2017-06-22",
         88
        ],
        [
         "2017-06-23",
         107
        ],
        [
         "2017-06-24",
         76
        ],
        [
         "2017-06-25",
         105
        ],
        [
         "2017-06-26",
         72
        ],
        [
         "2017-06-27",
         141
        ],
        [
         "2017-06-28",
         120
        ],
        [
         "2017-06-29",
         114
        ],
        [
         "2017-06-30",
         95
        ],
        [
         "2017-07-01",
         80
        ],
        [
         "2017-07-02",
         108
        ],
        [
         "2017-07-03",
         118
        ],
        [
         "2017-07-04",
         125
        ],
        [
         "2017-07-05",
         145
        ],
        [
         "2017-07-06",
         154
        ],
        [
         "2017-07-07",
         121
        ],
        [
         "2017-07-08",
         84
        ],
        [
         "2017-07-09",
         94
        ],
        [
         "2017-07-10",
         143
        ],
        [
         "2017-07-11",
         165
        ],
        [
         "2017-07-12",
         153
        ],
        [
         "2017-07-13",
         137
        ],
        [
         "2017-07-14",
         149
        ],
        [
         "2017-07-15",
         98
        ],
        [
         "2017-07-16",
         114
        ],
        [
         "2017-07-17",
         168
        ],
        [
         "2017-07-18",
         192
        ],
        [
         "2017-07-19",
         153
        ],
        [
         "2017-07-20",
         142
        ],
        [
         "2017-07-21",
         115
        ],
        [
         "2017-07-22",
         88
        ],
        [
         "2017-07-23",
         105
        ],
        [
         "2017-07-24",
         162
        ],
        [
         "2017-07-25",
         153
        ],
        [
         "2017-07-26",
         124
        ],
        [
         "2017-07-27",
         124
        ],
        [
         "2017-07-28",
         132
        ],
        [
         "2017-07-29",
         115
        ],
        [
         "2017-07-30",
         117
        ],
        [
         "2017-07-31",
         148
        ],
        [
         "2017-08-01",
         165
        ],
        [
         "2017-08-02",
         157
        ],
        [
         "2017-08-03",
         148
        ],
        [
         "2017-08-04",
         142
        ],
        [
         "2017-08-05",
         115
        ],
        [
         "2017-08-06",
         109
        ],
        [
         "2017-08-07",
         157
        ],
        [
         "2017-08-08",
         146
        ],
        [
         "2017-08-09",
         144
        ],
        [
         "2017-08-10",
         157
        ],
        [
         "2017-08-11",
         141
        ],
        [
         "2017-08-12",
         98
        ],
        [
         "2017-08-13",
         96
        ],
        [
         "2017-08-14",
         159
        ],
        [
         "2017-08-15",
         194
        ],
        [
         "2017-08-16",
         174
        ],
        [
         "2017-08-17",
         158
        ],
        [
         "2017-08-18",
         147
        ],
        [
         "2017-08-19",
         108
        ],
        [
         "2017-08-20",
         104
        ],
        [
         "2017-08-21",
         177
        ],
        [
         "2017-08-22",
         138
        ],
        [
         "2017-08-23",
         112
        ],
        [
         "2017-08-24",
         128
        ],
        [
         "2017-08-25",
         123
        ],
        [
         "2017-08-26",
         93
        ],
        [
         "2017-08-27",
         119
        ],
        [
         "2017-08-28",
         155
        ],
        [
         "2017-08-29",
         137
        ],
        [
         "2017-08-30",
         181
        ],
        [
         "2017-08-31",
         149
        ],
        [
         "2017-09-01",
         158
        ],
        [
         "2017-09-02",
         104
        ],
        [
         "2017-09-03",
         125
        ],
        [
         "2017-09-04",
         150
        ],
        [
         "2017-09-05",
         157
        ],
        [
         "2017-09-06",
         140
        ],
        [
         "2017-09-07",
         99
        ],
        [
         "2017-09-08",
         116
        ],
        [
         "2017-09-09",
         106
        ],
        [
         "2017-09-10",
         136
        ],
        [
         "2017-09-11",
         180
        ],
        [
         "2017-09-12",
         206
        ],
        [
         "2017-09-13",
         207
        ],
        [
         "2017-09-14",
         166
        ],
        [
         "2017-09-15",
         150
        ],
        [
         "2017-09-16",
         129
        ],
        [
         "2017-09-17",
         126
        ],
        [
         "2017-09-18",
         183
        ],
        [
         "2017-09-19",
         154
        ],
        [
         "2017-09-20",
         163
        ],
        [
         "2017-09-21",
         150
        ],
        [
         "2017-09-22",
         138
        ],
        [
         "2017-09-23",
         88
        ],
        [
         "2017-09-24",
         118
        ],
        [
         "2017-09-25",
         136
        ],
        [
         "2017-09-26",
         180
        ],
        [
         "2017-09-27",
         147
        ],
        [
         "2017-09-28",
         143
        ],
        [
         "2017-09-29",
         121
        ],
        [
         "2017-09-30",
         109
        ],
        [
         "2017-10-01",
         128
        ],
        [
         "2017-10-02",
         143
        ],
        [
         "2017-10-03",
         198
        ],
        [
         "2017-10-04",
         157
        ],
        [
         "2017-10-05",
         140
        ],
        [
         "2017-10-06",
         130
        ],
        [
         "2017-10-07",
         105
        ],
        [
         "2017-10-08",
         126
        ],
        [
         "2017-10-09",
         193
        ],
        [
         "2017-10-10",
         185
        ],
        [
         "2017-10-11",
         158
        ],
        [
         "2017-10-12",
         143
        ],
        [
         "2017-10-13",
         154
        ],
        [
         "2017-10-14",
         116
        ],
        [
         "2017-10-15",
         121
        ],
        [
         "2017-10-16",
         195
        ],
        [
         "2017-10-17",
         202
        ],
        [
         "2017-10-18",
         179
        ],
        [
         "2017-10-19",
         176
        ],
        [
         "2017-10-20",
         124
        ],
        [
         "2017-10-21",
         113
        ],
        [
         "2017-10-22",
         158
        ],
        [
         "2017-10-23",
         161
        ],
        [
         "2017-10-24",
         164
        ],
        [
         "2017-10-25",
         156
        ],
        [
         "2017-10-26",
         144
        ],
        [
         "2017-10-27",
         133
        ],
        [
         "2017-10-28",
         88
        ],
        [
         "2017-10-29",
         132
        ],
        [
         "2017-10-30",
         149
        ],
        [
         "2017-10-31",
         160
        ],
        [
         "2017-11-01",
         111
        ],
        [
         "2017-11-02",
         124
        ],
        [
         "2017-11-03",
         143
        ],
        [
         "2017-11-04",
         111
        ],
        [
         "2017-11-05",
         144
        ],
        [
         "2017-11-06",
         193
        ],
        [
         "2017-11-07",
         160
        ],
        [
         "2017-11-08",
         175
        ],
        [
         "2017-11-09",
         191
        ],
        [
         "2017-11-10",
         165
        ],
        [
         "2017-11-11",
         159
        ],
        [
         "2017-11-12",
         174
        ],
        [
         "2017-11-13",
         205
        ],
        [
         "2017-11-14",
         192
        ],
        [
         "2017-11-15",
         186
        ],
        [
         "2017-11-16",
         226
        ],
        [
         "2017-11-17",
         197
        ],
        [
         "2017-11-18",
         149
        ],
        [
         "2017-11-19",
         158
        ],
        [
         "2017-11-20",
         230
        ],
        [
         "2017-11-21",
         228
        ],
        [
         "2017-11-22",
         201
        ],
        [
         "2017-11-23",
         283
        ],
        [
         "2017-11-24",
         1176
        ],
        [
         "2017-11-25",
         499
        ],
        [
         "2017-11-26",
         391
        ],
        [
         "2017-11-27",
         403
        ],
        [
         "2017-11-28",
         380
        ],
        [
         "2017-11-29",
         323
        ],
        [
         "2017-11-30",
         267
        ],
        [
         "2017-12-01",
         275
        ],
        [
         "2017-12-02",
         216
        ],
        [
         "2017-12-03",
         234
        ],
        [
         "2017-12-04",
         337
        ],
        [
         "2017-12-05",
         282
        ],
        [
         "2017-12-06",
         280
        ],
        [
         "2017-12-07",
         229
        ],
        [
         "2017-12-08",
         219
        ],
        [
         "2017-12-09",
         155
        ],
        [
         "2017-12-10",
         190
        ],
        [
         "2017-12-11",
         267
        ],
        [
         "2017-12-12",
         260
        ],
        [
         "2017-12-13",
         218
        ],
        [
         "2017-12-14",
         200
        ],
        [
         "2017-12-15",
         192
        ],
        [
         "2017-12-16",
         131
        ],
        [
         "2017-12-17",
         133
        ],
        [
         "2017-12-18",
         209
        ],
        [
         "2017-12-19",
         176
        ],
        [
         "2017-12-20",
         171
        ],
        [
         "2017-12-21",
         143
        ],
        [
         "2017-12-22",
         111
        ],
        [
         "2017-12-23",
         109
        ],
        [
         "2017-12-24",
         59
        ],
        [
         "2017-12-25",
         90
        ],
        [
         "2017-12-26",
         168
        ],
        [
         "2017-12-27",
         167
        ],
        [
         "2017-12-28",
         146
        ],
        [
         "2017-12-29",
         135
        ],
        [
         "2017-12-30",
         97
        ],
        [
         "2017-12-31",
         74
        ],
        [
         "2018-01-01",
         74
        ],
        [
         "2018-01-02",
         204
        ],
        [
         "2018-01-03",
         225
        ],
        [
         "2018-01-04",
         258
        ],
        [
         "2018-01-05",
         210
        ],
        [
         "2018-01-06",
         216
        ],
        [
         "2018-01-07",
         196
        ],
        [
         "2018-01-08",
         293
        ],
        [
         "2018-01-09",
         252
        ],
        [
         "2018-01-10",
         277
        ],
        [
         "2018-01-11",
         266
        ],
        [
         "2018-01-12",
         243
        ],
        [
         "2018-01-13",
         219
        ],
        [
         "2018-01-14",
         235
        ],
        [
         "2018-01-15",
         307
        ],
        [
         "2018-01-16",
         302
        ],
        [
         "2018-01-17",
         282
        ],
        [
         "2018-01-18",
         241
        ],
        [
         "2018-01-19",
         235
        ],
        [
         "2018-01-20",
         184
        ],
        [
         "2018-01-21",
         199
        ],
        [
         "2018-01-22",
         314
        ],
        [
         "2018-01-23",
         262
        ],
        [
         "2018-01-24",
         244
        ],
        [
         "2018-01-25",
         233
        ],
        [
         "2018-01-26",
         229
        ],
        [
         "2018-01-27",
         153
        ],
        [
         "2018-01-28",
         156
        ],
        [
         "2018-01-29",
         246
        ],
        [
         "2018-01-30",
         258
        ],
        [
         "2018-01-31",
         256
        ],
        [
         "2018-02-01",
         232
        ],
        [
         "2018-02-02",
         212
        ],
        [
         "2018-02-03",
         193
        ],
        [
         "2018-02-04",
         201
        ],
        [
         "2018-02-05",
         271
        ],
        [
         "2018-02-06",
         268
        ],
        [
         "2018-02-07",
         248
        ],
        [
         "2018-02-08",
         230
        ],
        [
         "2018-02-09",
         216
        ],
        [
         "2018-02-10",
         179
        ],
        [
         "2018-02-11",
         172
        ],
        [
         "2018-02-12",
         218
        ],
        [
         "2018-02-13",
         224
        ],
        [
         "2018-02-14",
         295
        ],
        [
         "2018-02-15",
         283
        ],
        [
         "2018-02-16",
         214
        ],
        [
         "2018-02-17",
         204
        ],
        [
         "2018-02-18",
         202
        ],
        [
         "2018-02-19",
         259
        ],
        [
         "2018-02-20",
         289
        ],
        [
         "2018-02-21",
         266
        ],
        [
         "2018-02-22",
         279
        ],
        [
         "2018-02-23",
         235
        ],
        [
         "2018-02-24",
         191
        ],
        [
         "2018-02-25",
         237
        ],
        [
         "2018-02-26",
         299
        ],
        [
         "2018-02-27",
         298
        ],
        [
         "2018-02-28",
         313
        ],
        [
         "2018-03-01",
         277
        ],
        [
         "2018-03-02",
         266
        ],
        [
         "2018-03-03",
         214
        ],
        [
         "2018-03-04",
         236
        ],
        [
         "2018-03-05",
         264
        ],
        [
         "2018-03-06",
         271
        ],
        [
         "2018-03-07",
         259
        ],
        [
         "2018-03-08",
         234
        ],
        [
         "2018-03-09",
         204
        ],
        [
         "2018-03-10",
         193
        ],
        [
         "2018-03-11",
         218
        ],
        [
         "2018-03-12",
         232
        ],
        [
         "2018-03-13",
         227
        ],
        [
         "2018-03-14",
         199
        ],
        [
         "2018-03-15",
         290
        ],
        [
         "2018-03-16",
         252
        ],
        [
         "2018-03-17",
         180
        ],
        [
         "2018-03-18",
         215
        ],
        [
         "2018-03-19",
         303
        ],
        [
         "2018-03-20",
         297
        ],
        [
         "2018-03-21",
         286
        ],
        [
         "2018-03-22",
         254
        ],
        [
         "2018-03-23",
         221
        ],
        [
         "2018-03-24",
         165
        ],
        [
         "2018-03-25",
         190
        ],
        [
         "2018-03-26",
         272
        ],
        [
         "2018-03-27",
         245
        ],
        [
         "2018-03-28",
         220
        ],
        [
         "2018-03-29",
         194
        ],
        [
         "2018-03-30",
         165
        ],
        [
         "2018-03-31",
         168
        ],
        [
         "2018-04-01",
         207
        ],
        [
         "2018-04-02",
         282
        ],
        [
         "2018-04-03",
         247
        ],
        [
         "2018-04-04",
         257
        ],
        [
         "2018-04-05",
         266
        ],
        [
         "2018-04-06",
         189
        ],
        [
         "2018-04-07",
         164
        ],
        [
         "2018-04-08",
         185
        ],
        [
         "2018-04-09",
         253
        ],
        [
         "2018-04-10",
         201
        ],
        [
         "2018-04-11",
         274
        ],
        [
         "2018-04-12",
         255
        ],
        [
         "2018-04-13",
         202
        ],
        [
         "2018-04-14",
         146
        ],
        [
         "2018-04-15",
         223
        ],
        [
         "2018-04-16",
         280
        ],
        [
         "2018-04-17",
         266
        ],
        [
         "2018-04-18",
         280
        ],
        [
         "2018-04-19",
         293
        ],
        [
         "2018-04-20",
         197
        ],
        [
         "2018-04-21",
         156
        ],
        [
         "2018-04-22",
         200
        ],
        [
         "2018-04-23",
         285
        ],
        [
         "2018-04-24",
         271
        ],
        [
         "2018-04-25",
         284
        ],
        [
         "2018-04-26",
         254
        ],
        [
         "2018-04-27",
         242
        ],
        [
         "2018-04-28",
         169
        ],
        [
         "2018-04-29",
         171
        ],
        [
         "2018-04-30",
         240
        ],
        [
         "2018-05-01",
         256
        ],
        [
         "2018-05-02",
         296
        ],
        [
         "2018-05-03",
         305
        ],
        [
         "2018-05-04",
         265
        ],
        [
         "2018-05-05",
         197
        ],
        [
         "2018-05-06",
         211
        ],
        [
         "2018-05-07",
         372
        ],
        [
         "2018-05-08",
         331
        ],
        [
         "2018-05-09",
         344
        ],
        [
         "2018-05-10",
         279
        ],
        [
         "2018-05-11",
         247
        ],
        [
         "2018-05-12",
         207
        ],
        [
         "2018-05-13",
         207
        ],
        [
         "2018-05-14",
         364
        ],
        [
         "2018-05-15",
         352
        ],
        [
         "2018-05-16",
         357
        ],
        [
         "2018-05-17",
         228
        ],
        [
         "2018-05-18",
         236
        ],
        [
         "2018-05-19",
         139
        ],
        [
         "2018-05-20",
         161
        ],
        [
         "2018-05-21",
         206
        ],
        [
         "2018-05-22",
         199
        ],
        [
         "2018-05-23",
         132
        ],
        [
         "2018-05-24",
         114
        ],
        [
         "2018-05-25",
         104
        ],
        [
         "2018-05-26",
         99
        ],
        [
         "2018-05-27",
         100
        ],
        [
         "2018-05-28",
         143
        ],
        [
         "2018-05-29",
         149
        ],
        [
         "2018-05-30",
         140
        ],
        [
         "2018-05-31",
         133
        ],
        [
         "2018-06-01",
         184
        ],
        [
         "2018-06-02",
         142
        ],
        [
         "2018-06-03",
         192
        ],
        [
         "2018-06-04",
         225
        ],
        [
         "2018-06-05",
         200
        ],
        [
         "2018-06-06",
         227
        ],
        [
         "2018-06-07",
         223
        ],
        [
         "2018-06-08",
         198
        ],
        [
         "2018-06-09",
         172
        ],
        [
         "2018-06-10",
         193
        ],
        [
         "2018-06-11",
         294
        ],
        [
         "2018-06-12",
         246
        ],
        [
         "2018-06-13",
         259
        ],
        [
         "2018-06-14",
         212
        ],
        [
         "2018-06-15",
         186
        ],
        [
         "2018-06-16",
         165
        ],
        [
         "2018-06-17",
         152
        ],
        [
         "2018-06-18",
         246
        ],
        [
         "2018-06-19",
         231
        ],
        [
         "2018-06-20",
         217
        ],
        [
         "2018-06-21",
         234
        ],
        [
         "2018-06-22",
         179
        ],
        [
         "2018-06-23",
         151
        ],
        [
         "2018-06-24",
         199
        ],
        [
         "2018-06-25",
         241
        ],
        [
         "2018-06-26",
         243
        ],
        [
         "2018-06-27",
         215
        ],
        [
         "2018-06-28",
         243
        ],
        [
         "2018-06-29",
         174
        ],
        [
         "2018-06-30",
         124
        ],
        [
         "2018-07-01",
         161
        ],
        [
         "2018-07-02",
         195
        ],
        [
         "2018-07-03",
         216
        ],
        [
         "2018-07-04",
         256
        ],
        [
         "2018-07-05",
         195
        ],
        [
         "2018-07-06",
         121
        ],
        [
         "2018-07-07",
         91
        ],
        [
         "2018-07-08",
         122
        ],
        [
         "2018-07-09",
         148
        ],
        [
         "2018-07-10",
         134
        ],
        [
         "2018-07-11",
         127
        ],
        [
         "2018-07-12",
         124
        ],
        [
         "2018-07-13",
         168
        ],
        [
         "2018-07-14",
         148
        ],
        [
         "2018-07-15",
         152
        ],
        [
         "2018-07-16",
         245
        ],
        [
         "2018-07-17",
         221
        ],
        [
         "2018-07-18",
         307
        ],
        [
         "2018-07-19",
         253
        ],
        [
         "2018-07-20",
         250
        ],
        [
         "2018-07-21",
         187
        ],
        [
         "2018-07-22",
         215
        ],
        [
         "2018-07-23",
         307
        ],
        [
         "2018-07-24",
         271
        ],
        [
         "2018-07-25",
         268
        ],
        [
         "2018-07-26",
         247
        ],
        [
         "2018-07-27",
         189
        ],
        [
         "2018-07-28",
         176
        ],
        [
         "2018-07-29",
         188
        ],
        [
         "2018-07-30",
         288
        ],
        [
         "2018-07-31",
         322
        ],
        [
         "2018-08-01",
         311
        ],
        [
         "2018-08-02",
         302
        ],
        [
         "2018-08-03",
         314
        ],
        [
         "2018-08-04",
         245
        ],
        [
         "2018-08-05",
         276
        ],
        [
         "2018-08-06",
         372
        ],
        [
         "2018-08-07",
         370
        ],
        [
         "2018-08-08",
         316
        ],
        [
         "2018-08-09",
         289
        ],
        [
         "2018-08-10",
         256
        ],
        [
         "2018-08-11",
         188
        ],
        [
         "2018-08-12",
         197
        ],
        [
         "2018-08-13",
         292
        ],
        [
         "2018-08-14",
         316
        ],
        [
         "2018-08-15",
         288
        ],
        [
         "2018-08-16",
         320
        ],
        [
         "2018-08-17",
         257
        ],
        [
         "2018-08-18",
         198
        ],
        [
         "2018-08-19",
         204
        ],
        [
         "2018-08-20",
         256
        ],
        [
         "2018-08-21",
         243
        ],
        [
         "2018-08-22",
         187
        ],
        [
         "2018-08-23",
         144
        ],
        [
         "2018-08-24",
         99
        ],
        [
         "2018-08-25",
         69
        ],
        [
         "2018-08-26",
         73
        ],
        [
         "2018-08-27",
         67
        ],
        [
         "2018-08-28",
         44
        ],
        [
         "2018-08-29",
         14
        ],
        [
         "2018-08-30",
         4
        ],
        [
         "2018-08-31",
         1
        ],
        [
         "2018-09-03",
         4
        ],
        [
         "2018-09-06",
         3
        ],
        [
         "2018-09-10",
         1
        ],
        [
         "2018-09-11",
         1
        ],
        [
         "2018-09-12",
         1
        ],
        [
         "2018-09-13",
         1
        ],
        [
         "2018-09-17",
         1
        ],
        [
         "2018-09-20",
         1
        ],
        [
         "2018-09-25",
         1
        ],
        [
         "2018-09-26",
         1
        ],
        [
         "2018-09-29",
         1
        ],
        [
         "2018-10-01",
         1
        ],
        [
         "2018-10-03",
         1
        ],
        [
         "2018-10-16",
         1
        ],
        [
         "2018-10-17",
         1
        ]
       ],
       "datasetInfos": [],
       "dbfsResultPath": null,
       "isJsonSchema": true,
       "metadata": {
        "dataframeName": "_sqldf",
        "executionCount": 84
       },
       "overflow": false,
       "plotOptions": {
        "customPlotOptions": {},
        "displayType": "table",
        "pivotAggregation": null,
        "pivotColumns": null,
        "xColumns": null,
        "yColumns": null
       },
       "removedWidgets": [],
       "schema": [
        {
         "metadata": "{}",
         "name": "dia",
         "type": "\"string\""
        },
        {
         "metadata": "{}",
         "name": "total_pedidos",
         "type": "\"long\""
        }
       ],
       "type": "table"
      }
     },
     "output_type": "display_data"
    },
    {
     "output_type": "display_data",
     "data": {
      "text/plain": [
       "Databricks visualization. Run in Databricks to view."
      ]
     },
     "metadata": {
      "application/vnd.databricks.v1.subcommand+json": {
       "baseErrorDetails": null,
       "bindings": {},
       "collapsed": false,
       "command": "%sql WITH q AS (SELECT DISTINCT\ndate_format(order_purchase_timestamp, 'yyyy-MM'),\ncount(*) as total_pedidos\nFROM poc_datum.olist.order_silver\nGROUP BY ALL\nORDER BY 1) SELECT `date_format(order_purchase_timestamp, yyyy-MM)`,SUM(`total_pedidos`) `column_20ad4ebb30` FROM q GROUP BY `date_format(order_purchase_timestamp, yyyy-MM)`",
       "commandTitle": "Visualization 1",
       "commandType": "auto",
       "commandVersion": 0,
       "commentThread": [],
       "commentsVisible": false,
       "contentSha256Hex": null,
       "customPlotOptions": {
        "redashChart": [
         {
          "key": "type",
          "value": "CHART"
         },
         {
          "key": "options",
          "value": {
           "alignYAxesAtZero": true,
           "coefficient": 1,
           "columnConfigurationMap": {
            "x": {
             "column": "dia",
             "id": "column_20ad4ebb66"
            },
            "y": [
             {
              "column": "total_pedidos",
              "id": "column_20ad4ebb30",
              "transform": "SUM"
             }
            ]
           },
           "dateTimeFormat": "DD/MM/YYYY HH:mm",
           "direction": {
            "type": "counterclockwise"
           },
           "error_y": {
            "type": "data",
            "visible": true
           },
           "globalSeriesType": "area",
           "hideXAxis": false,
           "isAggregationOn": true,
           "legend": {
            "traceorder": "normal"
           },
           "missingValuesAsZero": true,
           "numberFormat": "0,0.[00000]",
           "percentFormat": "0[.]00%",
           "reverseX": false,
           "series": {
            "error_y": {
             "type": "data",
             "visible": true
            },
            "stacking": null
           },
           "seriesOptions": {
            "column_20ad4ebb30": {
             "name": "total_pedidos",
             "type": "area",
             "yAxis": 0
            }
           },
           "showDataLabels": false,
           "sizemode": "diameter",
           "sortX": false,
           "sortY": true,
           "swappedAxes": false,
           "textFormat": "",
           "useAggregationsUi": true,
           "valuesOptions": {},
           "version": 2,
           "xAxis": {
            "labels": {
             "enabled": true
            },
            "title": {
             "text": "Dia"
            },
            "type": "-"
           },
           "yAxis": [
            {
             "title": {
              "text": "Total Pedidos"
             },
             "type": "-"
            },
            {
             "opposite": true,
             "type": "-"
            }
           ]
          }
         }
        ]
       },
       "datasetPreviewNameToCmdIdMap": {},
       "diffDeletes": [],
       "diffInserts": [],
       "displayType": "redashChart",
       "error": null,
       "errorDetails": null,
       "errorSummary": null,
       "errorTraceType": null,
       "finishTime": 0,
       "globalVars": {},
       "guid": "",
       "height": "auto",
       "hideCommandCode": false,
       "hideCommandResult": false,
       "iPythonMetadata": null,
       "inputWidgets": {},
       "isLockedInExamMode": false,
       "latestUser": "a user",
       "latestUserId": null,
       "listResultMetadata": null,
       "metadata": {},
       "nuid": "15712769-2c12-4235-a48a-637ce958eadf",
       "origId": 0,
       "parentHierarchy": [],
       "pivotAggregation": null,
       "pivotColumns": null,
       "position": 1.0,
       "resultDbfsErrorMessage": null,
       "resultDbfsStatus": "INLINED_IN_TREE",
       "results": null,
       "showCommandTitle": false,
       "startTime": 0,
       "state": "input",
       "streamStates": {},
       "subcommandOptions": {
        "queryPlan": {
         "groups": [
          {
           "column": "dia",
           "type": "column"
          }
         ],
         "selects": [
          {
           "column": "dia",
           "type": "column"
          },
          {
           "alias": "column_20ad4ebb30",
           "args": [
            {
             "column": "total_pedidos",
             "type": "column"
            }
           ],
           "function": "SUM",
           "type": "function"
          }
         ]
        }
       },
       "submitTime": 0,
       "subtype": "tableResultSubCmd.visualization",
       "tableResultIndex": 0,
       "useConsistentColors": false,
       "version": "CommandV1",
       "width": "auto",
       "workflows": [],
       "xColumns": null,
       "yColumns": null
      }
     },
     "output_type": "display_data"
    }
   ],
   "source": [
    "%sql\n",
    "WITH total_pedidos \n",
    "AS (\n",
    "SELECT  \n",
    "  date_format(ops.order_purchase_timestamp, 'yyyy-MM-dd' ) AS dia ,*\n",
    "FROM \n",
    "  poc_datum.olist.order_silver AS ops )\n",
    "\n",
    "SELECT\n",
    "  dia,\n",
    "  count(*) as total_pedidos\n",
    "FROM total_pedidos\n",
    "GROUP BY dia\n",
    "ORDER BY 1 "
   ]
  },
  {
   "cell_type": "markdown",
   "metadata": {
    "application/vnd.databricks.v1+cell": {
     "cellMetadata": {},
     "inputWidgets": {},
     "nuid": "1a9e0d8e-86d1-4b45-aecd-60364c70c8d4",
     "showTitle": false,
     "title": ""
    }
   },
   "source": [
    "1. **Crescimento ao Longo do Tempo**: Existe uma tendência geral de crescimento no volume de pedidos ao longo do tempo, indicando um aumento na atividade de vendas ou na aquisição de clientes.\n",
    "\n",
    "2. **Flutuações Sazonais**: Parece haver uma sazonalidade nas vendas, com picos e vales que podem corresponder a períodos específicos do ano, como feriados, eventos sazonais ou promoções.\n",
    "\n",
    "3. **Pico de Vendas**: Houve um pico de vendas com mais de 1.000 pedidos em 24 de novembro de 2017, em pesquisas, nota-se que foi em função da Blackfriday.\n",
    "\n",
    "4. **Queda Recente**: Há uma queda acentuada no número de pedidos no ponto mais recente do gráfico. Isso pode ser devido à dados incompletos para o mês mais recente."
   ]
  },
  {
   "cell_type": "code",
   "execution_count": 0,
   "metadata": {
    "application/vnd.databricks.v1+cell": {
     "cellMetadata": {
      "byteLimit": 2048000,
      "implicitDf": true,
      "rowLimit": 10000
     },
     "inputWidgets": {},
     "nuid": "e415e529-2c45-49ef-a738-9dcc3895f7c7",
     "showTitle": false,
     "title": ""
    }
   },
   "outputs": [
    {
     "output_type": "display_data",
     "data": {
      "text/html": [
       "<style scoped>\n",
       "  .table-result-container {\n",
       "    max-height: 300px;\n",
       "    overflow: auto;\n",
       "  }\n",
       "  table, th, td {\n",
       "    border: 1px solid black;\n",
       "    border-collapse: collapse;\n",
       "  }\n",
       "  th, td {\n",
       "    padding: 5px;\n",
       "  }\n",
       "  th {\n",
       "    text-align: left;\n",
       "  }\n",
       "</style><div class='table-result-container'><table class='table-result'><thead style='background-color: white'><tr><th>hora</th><th>total_pedidos</th></tr></thead><tbody><tr><td>00</td><td>2394</td></tr><tr><td>01</td><td>1170</td></tr><tr><td>02</td><td>510</td></tr><tr><td>03</td><td>272</td></tr><tr><td>04</td><td>206</td></tr><tr><td>05</td><td>188</td></tr><tr><td>06</td><td>502</td></tr><tr><td>07</td><td>1231</td></tr><tr><td>08</td><td>2967</td></tr><tr><td>09</td><td>4785</td></tr><tr><td>10</td><td>6177</td></tr><tr><td>11</td><td>6578</td></tr><tr><td>12</td><td>5995</td></tr><tr><td>13</td><td>6518</td></tr><tr><td>14</td><td>6569</td></tr><tr><td>15</td><td>6454</td></tr><tr><td>16</td><td>6675</td></tr><tr><td>17</td><td>6150</td></tr><tr><td>18</td><td>5769</td></tr><tr><td>19</td><td>5982</td></tr><tr><td>20</td><td>6193</td></tr><tr><td>21</td><td>6217</td></tr><tr><td>22</td><td>5816</td></tr><tr><td>23</td><td>4123</td></tr></tbody></table></div>"
      ]
     },
     "metadata": {
      "application/vnd.databricks.v1+output": {
       "addedWidgets": {},
       "aggData": [],
       "aggError": "",
       "aggOverflow": false,
       "aggSchema": [],
       "aggSeriesLimitReached": false,
       "aggType": "",
       "arguments": {},
       "columnCustomDisplayInfos": {},
       "data": [
        [
         "00",
         2394
        ],
        [
         "01",
         1170
        ],
        [
         "02",
         510
        ],
        [
         "03",
         272
        ],
        [
         "04",
         206
        ],
        [
         "05",
         188
        ],
        [
         "06",
         502
        ],
        [
         "07",
         1231
        ],
        [
         "08",
         2967
        ],
        [
         "09",
         4785
        ],
        [
         "10",
         6177
        ],
        [
         "11",
         6578
        ],
        [
         "12",
         5995
        ],
        [
         "13",
         6518
        ],
        [
         "14",
         6569
        ],
        [
         "15",
         6454
        ],
        [
         "16",
         6675
        ],
        [
         "17",
         6150
        ],
        [
         "18",
         5769
        ],
        [
         "19",
         5982
        ],
        [
         "20",
         6193
        ],
        [
         "21",
         6217
        ],
        [
         "22",
         5816
        ],
        [
         "23",
         4123
        ]
       ],
       "datasetInfos": [],
       "dbfsResultPath": null,
       "isJsonSchema": true,
       "metadata": {
        "dataframeName": "_sqldf",
        "executionCount": 38
       },
       "overflow": false,
       "plotOptions": {
        "customPlotOptions": {},
        "displayType": "table",
        "pivotAggregation": null,
        "pivotColumns": null,
        "xColumns": null,
        "yColumns": null
       },
       "removedWidgets": [],
       "schema": [
        {
         "metadata": "{}",
         "name": "hora",
         "type": "\"string\""
        },
        {
         "metadata": "{}",
         "name": "total_pedidos",
         "type": "\"long\""
        }
       ],
       "type": "table"
      }
     },
     "output_type": "display_data"
    },
    {
     "output_type": "display_data",
     "data": {
      "text/plain": [
       "Databricks visualization. Run in Databricks to view."
      ]
     },
     "metadata": {
      "application/vnd.databricks.v1.subcommand+json": {
       "baseErrorDetails": null,
       "bindings": {},
       "collapsed": false,
       "command": "%sql WITH q AS (SELECT DISTINCT\ndate_format(order_purchase_timestamp, 'HH') AS hora,\ncount(*) as total_pedidos\nFROM poc_datum.olist.order_silver\nGROUP BY ALL\nORDER BY 1) SELECT `hora`,SUM(`total_pedidos`) `column_20ad4ebb40` FROM q GROUP BY `hora`",
       "commandTitle": "Visualization 1",
       "commandType": "auto",
       "commandVersion": 0,
       "commentThread": [],
       "commentsVisible": false,
       "contentSha256Hex": null,
       "customPlotOptions": {
        "redashChart": [
         {
          "key": "type",
          "value": "CHART"
         },
         {
          "key": "options",
          "value": {
           "alignYAxesAtZero": true,
           "coefficient": 1,
           "columnConfigurationMap": {
            "x": {
             "column": "hora",
             "id": "column_20ad4ebb47"
            },
            "y": [
             {
              "column": "total_pedidos",
              "id": "column_20ad4ebb40",
              "transform": "SUM"
             }
            ]
           },
           "dateTimeFormat": "DD/MM/YYYY HH:mm",
           "direction": {
            "type": "counterclockwise"
           },
           "error_y": {
            "type": "data",
            "visible": true
           },
           "globalSeriesType": "column",
           "hideXAxis": false,
           "hideYAxes": true,
           "isAggregationOn": true,
           "legend": {
            "traceorder": "normal"
           },
           "missingValuesAsZero": true,
           "numberFormat": "0,0.[00000]",
           "percentFormat": "0[.]00%",
           "reverseX": false,
           "series": {
            "error_y": {
             "type": "data",
             "visible": true
            },
            "stacking": null
           },
           "seriesOptions": {
            "00": {
             "name": "",
             "yAxis": 0
            },
            "01": {
             "yAxis": 0
            },
            "column_20ad4ebb40": {
             "name": "total_pedidos",
             "type": "column",
             "yAxis": 0
            }
           },
           "showDataLabels": true,
           "sizemode": "diameter",
           "sortX": false,
           "sortY": true,
           "swappedAxes": false,
           "textFormat": "",
           "useAggregationsUi": true,
           "valuesOptions": {},
           "version": 2,
           "xAxis": {
            "labels": {
             "enabled": true
            },
            "type": "-"
           },
           "yAxis": [
            {
             "type": "-"
            },
            {
             "opposite": true,
             "type": "-"
            }
           ]
          }
         }
        ]
       },
       "datasetPreviewNameToCmdIdMap": {},
       "diffDeletes": [],
       "diffInserts": [],
       "displayType": "redashChart",
       "error": null,
       "errorDetails": null,
       "errorSummary": null,
       "errorTraceType": null,
       "finishTime": 0,
       "globalVars": {},
       "guid": "",
       "height": "auto",
       "hideCommandCode": false,
       "hideCommandResult": false,
       "iPythonMetadata": null,
       "inputWidgets": {},
       "isLockedInExamMode": false,
       "latestUser": "a user",
       "latestUserId": null,
       "listResultMetadata": null,
       "metadata": {},
       "nuid": "957f7854-f765-4ced-a95f-27e07ead6f8c",
       "origId": 0,
       "parentHierarchy": [],
       "pivotAggregation": null,
       "pivotColumns": null,
       "position": 6.5,
       "resultDbfsErrorMessage": null,
       "resultDbfsStatus": "INLINED_IN_TREE",
       "results": null,
       "showCommandTitle": false,
       "startTime": 0,
       "state": "input",
       "streamStates": {},
       "subcommandOptions": {
        "queryPlan": {
         "groups": [
          {
           "column": "hora",
           "type": "column"
          }
         ],
         "selects": [
          {
           "column": "hora",
           "type": "column"
          },
          {
           "alias": "column_20ad4ebb40",
           "args": [
            {
             "column": "total_pedidos",
             "type": "column"
            }
           ],
           "function": "SUM",
           "type": "function"
          }
         ]
        }
       },
       "submitTime": 0,
       "subtype": "tableResultSubCmd.visualization",
       "tableResultIndex": 0,
       "useConsistentColors": false,
       "version": "CommandV1",
       "width": "auto",
       "workflows": [],
       "xColumns": null,
       "yColumns": null
      }
     },
     "output_type": "display_data"
    }
   ],
   "source": [
    "%sql\n",
    "SELECT DISTINCT\n",
    "date_format(order_purchase_timestamp, 'HH') AS hora,\n",
    "count(*) as total_pedidos\n",
    "FROM poc_datum.olist.order_silver\n",
    "GROUP BY ALL\n",
    "ORDER BY 1"
   ]
  },
  {
   "cell_type": "markdown",
   "metadata": {
    "application/vnd.databricks.v1+cell": {
     "cellMetadata": {},
     "inputWidgets": {},
     "nuid": "ec0bf12b-bb6b-4ac6-8770-8a2877123026",
     "showTitle": false,
     "title": ""
    }
   },
   "source": [
    "1. **Horário de Pico**: Há um pico evidente à partir das 8h, que é crescente até o horário de almoço (por volta das 11h até as 13h) e no meio da tarde se mantem até as 22h. Isso sugere que as pessoas podem estar fazendo compras durante o horário de trabalho ou aproveitando as pausas para realizar pedidos. Também pode indicar que o comportamento de compra online é consistente ao longo da tarde e início da noite, o que pode refletir o tempo livre que os consumidores têm após o trabalho para atividades de lazer, como compras online\n",
    "\n",
    "2. **Horas da Madrugada**: As vendas caem significativamente após a meia-noite e começam a aumentar novamente após as 6h. Isso é consistente com os padrões de sono e atividade da maioria das pessoas.\n",
    "\n",
    "3. **Manhã vs. Noite**: As vendas parecem ser mais altas à tarde e à noite em comparação com as horas da manhã. Isso sugere oportunidade em campanhas de marketing e promoções nesse período.\n",
    "\n",
    "4. **Menor Atividade**: O período entre 3h e 5h da manhã tem o menor número de pedidos, o que é típico, considerando que a maioria das pessoas está dormindo.\n"
   ]
  },
  {
   "cell_type": "markdown",
   "metadata": {
    "application/vnd.databricks.v1+cell": {
     "cellMetadata": {},
     "inputWidgets": {},
     "nuid": "1d59044d-645d-4375-9253-51108826e701",
     "showTitle": false,
     "title": ""
    }
   },
   "source": [
    "### Modalidade de pagamento"
   ]
  },
  {
   "cell_type": "code",
   "execution_count": 0,
   "metadata": {
    "application/vnd.databricks.v1+cell": {
     "cellMetadata": {
      "byteLimit": 2048000,
      "implicitDf": true,
      "rowLimit": 10000
     },
     "inputWidgets": {},
     "nuid": "df3dcd68-5541-480c-8297-6ab56a8caed5",
     "showTitle": true,
     "title": "Total de Pedidos por Modalidade de Pagamento"
    }
   },
   "outputs": [
    {
     "output_type": "display_data",
     "data": {
      "text/html": [
       "<style scoped>\n",
       "  .table-result-container {\n",
       "    max-height: 300px;\n",
       "    overflow: auto;\n",
       "  }\n",
       "  table, th, td {\n",
       "    border: 1px solid black;\n",
       "    border-collapse: collapse;\n",
       "  }\n",
       "  th, td {\n",
       "    padding: 5px;\n",
       "  }\n",
       "  th {\n",
       "    text-align: left;\n",
       "  }\n",
       "</style><div class='table-result-container'><table class='table-result'><thead style='background-color: white'><tr><th>payment_type</th><th>total_pedidos</th></tr></thead><tbody><tr><td>credit_card</td><td>76795</td></tr><tr><td>boleto</td><td>19784</td></tr><tr><td>voucher</td><td>5775</td></tr><tr><td>debit_card</td><td>1529</td></tr><tr><td>not_defined</td><td>3</td></tr></tbody></table></div>"
      ]
     },
     "metadata": {
      "application/vnd.databricks.v1+output": {
       "addedWidgets": {},
       "aggData": [],
       "aggError": "",
       "aggOverflow": false,
       "aggSchema": [],
       "aggSeriesLimitReached": false,
       "aggType": "",
       "arguments": {},
       "columnCustomDisplayInfos": {},
       "data": [
        [
         "credit_card",
         76795
        ],
        [
         "boleto",
         19784
        ],
        [
         "voucher",
         5775
        ],
        [
         "debit_card",
         1529
        ],
        [
         "not_defined",
         3
        ]
       ],
       "datasetInfos": [],
       "dbfsResultPath": null,
       "isJsonSchema": true,
       "metadata": {
        "dataframeName": "_sqldf",
        "executionCount": 42
       },
       "overflow": false,
       "plotOptions": {
        "customPlotOptions": {},
        "displayType": "table",
        "pivotAggregation": null,
        "pivotColumns": null,
        "xColumns": null,
        "yColumns": null
       },
       "removedWidgets": [],
       "schema": [
        {
         "metadata": "{}",
         "name": "payment_type",
         "type": "\"string\""
        },
        {
         "metadata": "{}",
         "name": "total_pedidos",
         "type": "\"long\""
        }
       ],
       "type": "table"
      }
     },
     "output_type": "display_data"
    },
    {
     "output_type": "display_data",
     "data": {
      "text/plain": [
       "Databricks visualization. Run in Databricks to view."
      ]
     },
     "metadata": {
      "application/vnd.databricks.v1.subcommand+json": {
       "baseErrorDetails": null,
       "bindings": {},
       "collapsed": false,
       "command": "%sql WITH q AS (SELECT DISTINCT \n  payment_type, \n  count(*) as total_pedidos \nFROM \n  poc_datum.olist.order_payments_silver\nGROUP BY payment_type\nORDER BY 2 DESC) SELECT `payment_type`,SUM(`total_pedidos`) `column_20ad4ebb59` FROM q GROUP BY `payment_type`",
       "commandTitle": "Visualization 1",
       "commandType": "auto",
       "commandVersion": 0,
       "commentThread": [],
       "commentsVisible": false,
       "contentSha256Hex": null,
       "customPlotOptions": {
        "redashChart": [
         {
          "key": "type",
          "value": "CHART"
         },
         {
          "key": "options",
          "value": {
           "alignYAxesAtZero": true,
           "coefficient": 1,
           "columnConfigurationMap": {
            "series": {
             "column": "payment_type",
             "id": "column_20ad4ebb63"
            },
            "x": {
             "column": "payment_type",
             "id": "column_20ad4ebb58"
            },
            "y": [
             {
              "column": "total_pedidos",
              "id": "column_20ad4ebb59",
              "transform": "SUM"
             }
            ]
           },
           "dateTimeFormat": "DD/MM/YYYY HH:mm",
           "direction": {
            "type": "counterclockwise"
           },
           "error_y": {
            "type": "data",
            "visible": true
           },
           "globalSeriesType": "column",
           "hideXAxis": false,
           "hideYAxes": true,
           "isAggregationOn": true,
           "legend": {
            "traceorder": "normal"
           },
           "missingValuesAsZero": true,
           "numberFormat": "0,0.[00000]",
           "percentFormat": "0[.]00%",
           "series": {
            "error_y": {
             "type": "data",
             "visible": true
            },
            "stacking": null
           },
           "seriesOptions": {
            "boleto": {
             "color": "#FFAB00"
            },
            "column_20ad4ebb59": {
             "name": "total_pedidos",
             "yAxis": 0
            },
            "credit_card": {
             "color": "#077A9D"
            }
           },
           "showDataLabels": true,
           "sizemode": "diameter",
           "sortX": false,
           "sortY": true,
           "swappedAxes": true,
           "textFormat": "",
           "useAggregationsUi": true,
           "valuesOptions": {},
           "version": 2,
           "xAxis": {
            "labels": {
             "enabled": true
            },
            "type": "-"
           },
           "yAxis": [
            {
             "type": "-"
            },
            {
             "opposite": true,
             "type": "-"
            }
           ]
          }
         }
        ]
       },
       "datasetPreviewNameToCmdIdMap": {},
       "diffDeletes": [],
       "diffInserts": [],
       "displayType": "redashChart",
       "error": null,
       "errorDetails": null,
       "errorSummary": null,
       "errorTraceType": null,
       "finishTime": 0,
       "globalVars": {},
       "guid": "",
       "height": "auto",
       "hideCommandCode": false,
       "hideCommandResult": false,
       "iPythonMetadata": null,
       "inputWidgets": {},
       "isLockedInExamMode": false,
       "latestUser": "a user",
       "latestUserId": null,
       "listResultMetadata": null,
       "metadata": {},
       "nuid": "dbaf12bc-ec54-49a5-9619-2e22d40dee16",
       "origId": 0,
       "parentHierarchy": [],
       "pivotAggregation": null,
       "pivotColumns": null,
       "position": 7.5,
       "resultDbfsErrorMessage": null,
       "resultDbfsStatus": "INLINED_IN_TREE",
       "results": null,
       "showCommandTitle": false,
       "startTime": 0,
       "state": "input",
       "streamStates": {},
       "subcommandOptions": {
        "queryPlan": {
         "groups": [
          {
           "column": "payment_type",
           "type": "column"
          },
          {
           "column": "payment_type",
           "type": "column"
          }
         ],
         "selects": [
          {
           "column": "payment_type",
           "type": "column"
          },
          {
           "alias": "column_20ad4ebb59",
           "args": [
            {
             "column": "total_pedidos",
             "type": "column"
            }
           ],
           "function": "SUM",
           "type": "function"
          },
          {
           "column": "payment_type",
           "type": "column"
          }
         ]
        }
       },
       "submitTime": 0,
       "subtype": "tableResultSubCmd.visualization",
       "tableResultIndex": 0,
       "useConsistentColors": false,
       "version": "CommandV1",
       "width": "auto",
       "workflows": [],
       "xColumns": null,
       "yColumns": null
      }
     },
     "output_type": "display_data"
    }
   ],
   "source": [
    "%sql\n",
    "SELECT DISTINCT \n",
    "  payment_type, \n",
    "  count(*) as total_pedidos \n",
    "FROM \n",
    "  poc_datum.olist.order_payments_silver\n",
    "GROUP BY payment_type\n",
    "ORDER BY 2 DESC"
   ]
  },
  {
   "cell_type": "markdown",
   "metadata": {
    "application/vnd.databricks.v1+cell": {
     "cellMetadata": {},
     "inputWidgets": {},
     "nuid": "aabfeda8-ef13-46d6-b428-e573ec2b7573",
     "showTitle": false,
     "title": ""
    }
   },
   "source": [
    "1. **Cartão de Crédito**: É o método mais popular, com a maior barra no gráfico, indicando que a grande maioria dos clientes prefere pagar com cartão de crédito. Isso pode refletir a conveniência do pagamento a prazo, a segurança, a acumulação de pontos de recompensa, ou a possibilidade de financiamento das compras.\n",
    "\n",
    "2. **Boleto**: O segundo método mais comum é o boleto bancário. Esta preferência pode estar ligada à popularidade do boleto no Brasil como método de pagamento confiável e amplamente aceito, ou ao fato de ser uma opção para quem não possui cartão de crédito ou não deseja usá-lo online.\n",
    "\n",
    "3. **Voucher**: Os vouchers são a terceira forma de pagamento mais utilizada, o que pode indicar promoções, programas de fidelidade ou a utilização de créditos de devoluções anteriores.\n",
    "\n",
    "4. **Cartão de Débito**: O cartão de débito aparece em menor medida, o que pode sugerir uma preferência menor por pagamentos imediatos ou talvez menos promoções ou benefícios associados a esta forma de pagamento em comparação com cartões de crédito.\n",
    "\n",
    "5. **Não Definido**: Há um número muito pequeno de transações categorizadas como \"não definido\", que poderia ser devido a erros de processamento ou categorização."
   ]
  }
 ],
 "metadata": {
  "application/vnd.databricks.v1+notebook": {
   "dashboards": [],
   "language": "python",
   "notebookMetadata": {
    "mostRecentlyExecutedCommandWithImplicitDF": {
     "commandId": 2262144926015218,
     "dataframes": [
      "_sqldf"
     ]
    },
    "pythonIndentUnit": 4
   },
   "notebookName": "Exploração de Dados",
   "widgets": {}
  }
 },
 "nbformat": 4,
 "nbformat_minor": 0
}
