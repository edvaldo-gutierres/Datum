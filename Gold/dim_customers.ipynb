{
 "cells": [
  {
   "cell_type": "markdown",
   "metadata": {
    "application/vnd.databricks.v1+cell": {
     "cellMetadata": {
      "byteLimit": 2048000,
      "rowLimit": 10000
     },
     "inputWidgets": {},
     "nuid": "f2054e25-3354-4ea4-8cbe-adfe1a7f74d2",
     "showTitle": false,
     "title": ""
    }
   },
   "source": [
    "### Premissas:\n",
    "- Nome: dim_customers\n",
    "- Descrição da tabela: Tabela composta por variáveis qualitativas de clientes.\n",
    "- Tipo: SCD-2"
   ]
  },
  {
   "cell_type": "code",
   "execution_count": 0,
   "metadata": {
    "application/vnd.databricks.v1+cell": {
     "cellMetadata": {
      "byteLimit": 2048000,
      "rowLimit": 10000
     },
     "inputWidgets": {},
     "nuid": "24c231a1-a86a-44a2-807a-161f48f2ef23",
     "showTitle": false,
     "title": ""
    }
   },
   "outputs": [],
   "source": [
    "# Importa bibliotecas\n",
    "from pyspark.sql.types import StructType, StructField, StringType, IntegerType, TimestampType, ArrayType\n",
    "from pyspark.sql.functions import *\n",
    "from pyspark.sql.window import Window\n",
    "from datetime import datetime"
   ]
  },
  {
   "cell_type": "code",
   "execution_count": 0,
   "metadata": {
    "application/vnd.databricks.v1+cell": {
     "cellMetadata": {
      "byteLimit": 2048000,
      "implicitDf": true,
      "rowLimit": 10000
     },
     "inputWidgets": {},
     "nuid": "05c7b777-ed13-4cc7-b657-83528d31496d",
     "showTitle": false,
     "title": ""
    }
   },
   "outputs": [
    {
     "output_type": "display_data",
     "data": {
      "text/html": [
       "<style scoped>\n",
       "  .table-result-container {\n",
       "    max-height: 300px;\n",
       "    overflow: auto;\n",
       "  }\n",
       "  table, th, td {\n",
       "    border: 1px solid black;\n",
       "    border-collapse: collapse;\n",
       "  }\n",
       "  th, td {\n",
       "    padding: 5px;\n",
       "  }\n",
       "  th {\n",
       "    text-align: left;\n",
       "  }\n",
       "</style><div class='table-result-container'><table class='table-result'><thead style='background-color: white'><tr><th>customer_id</th><th>customer_zip_code_prefix</th><th>customer_city</th><th>customer_state</th></tr></thead><tbody><tr><td>2455a94ebab82b39829283f823a69bba</td><td>39900</td><td>almenara</td><td>MG</td></tr><tr><td>95e3388b5dcbb48857ce7d634e15ead3</td><td>11520</td><td>cubatao</td><td>SP</td></tr><tr><td>3bc36b88b6987a920fc6aa2e63f6c76a</td><td>97015</td><td>santa maria</td><td>RS</td></tr><tr><td>af7f6c91d4cd411589ac2e001c331dc6</td><td>68540</td><td>conceicao do araguaia</td><td>PA</td></tr><tr><td>4734aa9452fd42498c835eb1a71caf69</td><td>74684</td><td>goiania</td><td>GO</td></tr><tr><td>1a39d706d531bfbb53490b3b30396aa6</td><td>84020</td><td>ponta grossa</td><td>PR</td></tr><tr><td>0359e57f5d0093284997d0cf36a75e7c</td><td>2722</td><td>sao paulo</td><td>SP</td></tr><tr><td>3bfd6087dc6d9b4982748af54b599117</td><td>13172</td><td>sumare</td><td>SP</td></tr><tr><td>27d2e4ebaa061c90646c53dce7079645</td><td>28360</td><td>bom jesus do itabapoana</td><td>RJ</td></tr><tr><td>176f7fae9b66b96ab07b7b3385f834aa</td><td>14401</td><td>franca</td><td>SP</td></tr></tbody></table></div>"
      ]
     },
     "metadata": {
      "application/vnd.databricks.v1+output": {
       "addedWidgets": {},
       "aggData": [],
       "aggError": "",
       "aggOverflow": false,
       "aggSchema": [],
       "aggSeriesLimitReached": false,
       "aggType": "",
       "arguments": {},
       "columnCustomDisplayInfos": {},
       "data": [
        [
         "2455a94ebab82b39829283f823a69bba",
         39900,
         "almenara",
         "MG"
        ],
        [
         "95e3388b5dcbb48857ce7d634e15ead3",
         11520,
         "cubatao",
         "SP"
        ],
        [
         "3bc36b88b6987a920fc6aa2e63f6c76a",
         97015,
         "santa maria",
         "RS"
        ],
        [
         "af7f6c91d4cd411589ac2e001c331dc6",
         68540,
         "conceicao do araguaia",
         "PA"
        ],
        [
         "4734aa9452fd42498c835eb1a71caf69",
         74684,
         "goiania",
         "GO"
        ],
        [
         "1a39d706d531bfbb53490b3b30396aa6",
         84020,
         "ponta grossa",
         "PR"
        ],
        [
         "0359e57f5d0093284997d0cf36a75e7c",
         2722,
         "sao paulo",
         "SP"
        ],
        [
         "3bfd6087dc6d9b4982748af54b599117",
         13172,
         "sumare",
         "SP"
        ],
        [
         "27d2e4ebaa061c90646c53dce7079645",
         28360,
         "bom jesus do itabapoana",
         "RJ"
        ],
        [
         "176f7fae9b66b96ab07b7b3385f834aa",
         14401,
         "franca",
         "SP"
        ]
       ],
       "datasetInfos": [],
       "dbfsResultPath": null,
       "isJsonSchema": true,
       "metadata": {},
       "overflow": false,
       "plotOptions": {
        "customPlotOptions": {},
        "displayType": "table",
        "pivotAggregation": null,
        "pivotColumns": null,
        "xColumns": null,
        "yColumns": null
       },
       "removedWidgets": [],
       "schema": [
        {
         "metadata": "{}",
         "name": "customer_id",
         "type": "\"string\""
        },
        {
         "metadata": "{}",
         "name": "customer_zip_code_prefix",
         "type": "\"integer\""
        },
        {
         "metadata": "{}",
         "name": "customer_city",
         "type": "\"string\""
        },
        {
         "metadata": "{}",
         "name": "customer_state",
         "type": "\"string\""
        }
       ],
       "type": "table"
      }
     },
     "output_type": "display_data"
    }
   ],
   "source": [
    "# Cria dataframe com dados para a criação da dimensão\n",
    "df_dimensao = spark.sql(\"\"\"\n",
    "SELECT DISTINCT\n",
    "  customer_id,\n",
    "  customer_zip_code_prefix,\n",
    "  customer_city,\n",
    "  customer_state\n",
    "FROM poc_datum.olist.customers_silver \n",
    "-- WHERE customer_unique_id = '7e4bebe20140a71b34263a659ba1ce11'\n",
    "\"\"\")\n",
    "\n",
    "display(df_dimensao.limit(10))"
   ]
  },
  {
   "cell_type": "code",
   "execution_count": 0,
   "metadata": {
    "application/vnd.databricks.v1+cell": {
     "cellMetadata": {
      "byteLimit": 2048000,
      "rowLimit": 10000
     },
     "inputWidgets": {},
     "nuid": "35561e84-d098-4171-9a6c-f84616a946a0",
     "showTitle": false,
     "title": ""
    }
   },
   "outputs": [
    {
     "output_type": "display_data",
     "data": {
      "text/html": [
       "<style scoped>\n",
       "  .table-result-container {\n",
       "    max-height: 300px;\n",
       "    overflow: auto;\n",
       "  }\n",
       "  table, th, td {\n",
       "    border: 1px solid black;\n",
       "    border-collapse: collapse;\n",
       "  }\n",
       "  th, td {\n",
       "    padding: 5px;\n",
       "  }\n",
       "  th {\n",
       "    text-align: left;\n",
       "  }\n",
       "</style><div class='table-result-container'><table class='table-result'><thead style='background-color: white'><tr><th>sk_dim_customers</th><th>row_ingestion_timestamp</th><th>row_version</th><th>row_current_indicator</th><th>row_effective_date</th><th>row_expiration_date</th><th>customer_id</th><th>customer_zip_code_prefix</th><th>customer_city</th><th>customer_state</th></tr></thead><tbody><tr><td>254671a74f5abf559be264b863e4d7a53c638c57456c1e86bb212f1b3322a749</td><td>2024-04-29T16:26:01.863Z</td><td>1</td><td>true</td><td>1900-01-01T00:00:00Z</td><td>2200-01-01T00:00:00Z</td><td>-1</td><td>-1</td><td>Não informado</td><td>Não informado</td></tr><tr><td>f4cb514e9296118e47b62fb247ce074072a7914d32e44297e1520537c0eae5e5</td><td>2024-04-29T16:26:01.863Z</td><td>1</td><td>true</td><td>1900-01-01T00:00:00Z</td><td>2200-01-01T00:00:00Z</td><td>2455a94ebab82b39829283f823a69bba</td><td>39900</td><td>almenara</td><td>MG</td></tr><tr><td>02b9016c47da7f833853643abc419410723a4b676adf1b07a6ce217bd544d042</td><td>2024-04-29T16:26:01.863Z</td><td>1</td><td>true</td><td>1900-01-01T00:00:00Z</td><td>2200-01-01T00:00:00Z</td><td>95e3388b5dcbb48857ce7d634e15ead3</td><td>11520</td><td>cubatao</td><td>SP</td></tr><tr><td>e04846cef2a4fb414cf01e26789c886f122428551528a2c77fab6297f4e68ed0</td><td>2024-04-29T16:26:01.863Z</td><td>1</td><td>true</td><td>1900-01-01T00:00:00Z</td><td>2200-01-01T00:00:00Z</td><td>3bc36b88b6987a920fc6aa2e63f6c76a</td><td>97015</td><td>santa maria</td><td>RS</td></tr><tr><td>1cb5d86f6267996db327587c4fc0094b42c03895782e5647afe39d3514802b6b</td><td>2024-04-29T16:26:01.863Z</td><td>1</td><td>true</td><td>1900-01-01T00:00:00Z</td><td>2200-01-01T00:00:00Z</td><td>af7f6c91d4cd411589ac2e001c331dc6</td><td>68540</td><td>conceicao do araguaia</td><td>PA</td></tr><tr><td>65c48d3ca6e7c000c190aca4e40f114ac59387d9794283d0aab5acdbce65b45b</td><td>2024-04-29T16:26:01.863Z</td><td>1</td><td>true</td><td>1900-01-01T00:00:00Z</td><td>2200-01-01T00:00:00Z</td><td>4734aa9452fd42498c835eb1a71caf69</td><td>74684</td><td>goiania</td><td>GO</td></tr><tr><td>84d8d456a5c166a1547d4f54df38e26060a1b0b018dc651d273eb102b64c5862</td><td>2024-04-29T16:26:01.863Z</td><td>1</td><td>true</td><td>1900-01-01T00:00:00Z</td><td>2200-01-01T00:00:00Z</td><td>1a39d706d531bfbb53490b3b30396aa6</td><td>84020</td><td>ponta grossa</td><td>PR</td></tr><tr><td>5c98b1c6e10c0fd4e72f2e917220b34d47f123e600d204ee8c0258131178d55f</td><td>2024-04-29T16:26:01.863Z</td><td>1</td><td>true</td><td>1900-01-01T00:00:00Z</td><td>2200-01-01T00:00:00Z</td><td>0359e57f5d0093284997d0cf36a75e7c</td><td>2722</td><td>sao paulo</td><td>SP</td></tr><tr><td>d7bdb9d500adbbdbe1ff803f8a2707bf9057f4e3abce9a12a839b317ffd8f109</td><td>2024-04-29T16:26:01.863Z</td><td>1</td><td>true</td><td>1900-01-01T00:00:00Z</td><td>2200-01-01T00:00:00Z</td><td>3bfd6087dc6d9b4982748af54b599117</td><td>13172</td><td>sumare</td><td>SP</td></tr><tr><td>335c0c20fbb7a46fe593823a76843f9e4e5d5f264c02010bd7b9b541e1471989</td><td>2024-04-29T16:26:01.863Z</td><td>1</td><td>true</td><td>1900-01-01T00:00:00Z</td><td>2200-01-01T00:00:00Z</td><td>27d2e4ebaa061c90646c53dce7079645</td><td>28360</td><td>bom jesus do itabapoana</td><td>RJ</td></tr></tbody></table></div>"
      ]
     },
     "metadata": {
      "application/vnd.databricks.v1+output": {
       "addedWidgets": {},
       "aggData": [],
       "aggError": "",
       "aggOverflow": false,
       "aggSchema": [],
       "aggSeriesLimitReached": false,
       "aggType": "",
       "arguments": {},
       "columnCustomDisplayInfos": {},
       "data": [
        [
         "254671a74f5abf559be264b863e4d7a53c638c57456c1e86bb212f1b3322a749",
         "2024-04-29T16:26:01.863Z",
         1,
         true,
         "1900-01-01T00:00:00Z",
         "2200-01-01T00:00:00Z",
         "-1",
         -1,
         "Não informado",
         "Não informado"
        ],
        [
         "f4cb514e9296118e47b62fb247ce074072a7914d32e44297e1520537c0eae5e5",
         "2024-04-29T16:26:01.863Z",
         1,
         true,
         "1900-01-01T00:00:00Z",
         "2200-01-01T00:00:00Z",
         "2455a94ebab82b39829283f823a69bba",
         39900,
         "almenara",
         "MG"
        ],
        [
         "02b9016c47da7f833853643abc419410723a4b676adf1b07a6ce217bd544d042",
         "2024-04-29T16:26:01.863Z",
         1,
         true,
         "1900-01-01T00:00:00Z",
         "2200-01-01T00:00:00Z",
         "95e3388b5dcbb48857ce7d634e15ead3",
         11520,
         "cubatao",
         "SP"
        ],
        [
         "e04846cef2a4fb414cf01e26789c886f122428551528a2c77fab6297f4e68ed0",
         "2024-04-29T16:26:01.863Z",
         1,
         true,
         "1900-01-01T00:00:00Z",
         "2200-01-01T00:00:00Z",
         "3bc36b88b6987a920fc6aa2e63f6c76a",
         97015,
         "santa maria",
         "RS"
        ],
        [
         "1cb5d86f6267996db327587c4fc0094b42c03895782e5647afe39d3514802b6b",
         "2024-04-29T16:26:01.863Z",
         1,
         true,
         "1900-01-01T00:00:00Z",
         "2200-01-01T00:00:00Z",
         "af7f6c91d4cd411589ac2e001c331dc6",
         68540,
         "conceicao do araguaia",
         "PA"
        ],
        [
         "65c48d3ca6e7c000c190aca4e40f114ac59387d9794283d0aab5acdbce65b45b",
         "2024-04-29T16:26:01.863Z",
         1,
         true,
         "1900-01-01T00:00:00Z",
         "2200-01-01T00:00:00Z",
         "4734aa9452fd42498c835eb1a71caf69",
         74684,
         "goiania",
         "GO"
        ],
        [
         "84d8d456a5c166a1547d4f54df38e26060a1b0b018dc651d273eb102b64c5862",
         "2024-04-29T16:26:01.863Z",
         1,
         true,
         "1900-01-01T00:00:00Z",
         "2200-01-01T00:00:00Z",
         "1a39d706d531bfbb53490b3b30396aa6",
         84020,
         "ponta grossa",
         "PR"
        ],
        [
         "5c98b1c6e10c0fd4e72f2e917220b34d47f123e600d204ee8c0258131178d55f",
         "2024-04-29T16:26:01.863Z",
         1,
         true,
         "1900-01-01T00:00:00Z",
         "2200-01-01T00:00:00Z",
         "0359e57f5d0093284997d0cf36a75e7c",
         2722,
         "sao paulo",
         "SP"
        ],
        [
         "d7bdb9d500adbbdbe1ff803f8a2707bf9057f4e3abce9a12a839b317ffd8f109",
         "2024-04-29T16:26:01.863Z",
         1,
         true,
         "1900-01-01T00:00:00Z",
         "2200-01-01T00:00:00Z",
         "3bfd6087dc6d9b4982748af54b599117",
         13172,
         "sumare",
         "SP"
        ],
        [
         "335c0c20fbb7a46fe593823a76843f9e4e5d5f264c02010bd7b9b541e1471989",
         "2024-04-29T16:26:01.863Z",
         1,
         true,
         "1900-01-01T00:00:00Z",
         "2200-01-01T00:00:00Z",
         "27d2e4ebaa061c90646c53dce7079645",
         28360,
         "bom jesus do itabapoana",
         "RJ"
        ]
       ],
       "datasetInfos": [],
       "dbfsResultPath": null,
       "isJsonSchema": true,
       "metadata": {},
       "overflow": false,
       "plotOptions": {
        "customPlotOptions": {},
        "displayType": "table",
        "pivotAggregation": null,
        "pivotColumns": null,
        "xColumns": null,
        "yColumns": null
       },
       "removedWidgets": [],
       "schema": [
        {
         "metadata": "{}",
         "name": "sk_dim_customers",
         "type": "\"string\""
        },
        {
         "metadata": "{}",
         "name": "row_ingestion_timestamp",
         "type": "\"timestamp\""
        },
        {
         "metadata": "{}",
         "name": "row_version",
         "type": "\"integer\""
        },
        {
         "metadata": "{}",
         "name": "row_current_indicator",
         "type": "\"boolean\""
        },
        {
         "metadata": "{}",
         "name": "row_effective_date",
         "type": "\"timestamp\""
        },
        {
         "metadata": "{}",
         "name": "row_expiration_date",
         "type": "\"timestamp\""
        },
        {
         "metadata": "{}",
         "name": "customer_id",
         "type": "\"string\""
        },
        {
         "metadata": "{}",
         "name": "customer_zip_code_prefix",
         "type": "\"long\""
        },
        {
         "metadata": "{}",
         "name": "customer_city",
         "type": "\"string\""
        },
        {
         "metadata": "{}",
         "name": "customer_state",
         "type": "\"string\""
        }
       ],
       "type": "table"
      }
     },
     "output_type": "display_data"
    }
   ],
   "source": [
    "# Primeira carga\n",
    "\n",
    "# Cria DataFrame com os dados de \"NÃO INFORMADO\"\n",
    "data = [(-1, -1, \"Não informado\", \"Não informado\")]\n",
    "column = df_dimensao.schema.fieldNames()\n",
    "df = spark.createDataFrame( data, schema=column )\n",
    "# df.show()\n",
    "\n",
    "# Faz o join com o dataframe com dados para a criação da dimensão\n",
    "dim_customers = df.union(df_dimensao)\n",
    "# dim_customers.show()\n",
    "\n",
    "# Inseri as colunas default de dimensão\n",
    "dim_customers = dim_customers.withColumn( \"row_ingestion_timestamp\", current_timestamp() ) \\\n",
    "    .withColumn( \"row_version\", lit(1) ) \\\n",
    "    .withColumn( \"row_current_indicator\", lit(True) ) \\\n",
    "    .withColumn( \"row_effective_date\", to_timestamp( lit('1900-01-01 00:00:00'), \"yyyy-MM-dd HH:mm:ss\") ) \\\n",
    "    .withColumn( \"row_expiration_date\", to_timestamp( lit('2200-01-01 00:00:00') , \"yyyy-MM-dd HH:mm:ss\" ) )\n",
    "\n",
    "# Inseri coluna SK\n",
    "# dim_customers = dim_customers.withColumn( 'sk_dim_customers', monotonically_increasing_id() ) \n",
    "dim_customers = dim_customers.withColumn( \n",
    "    'sk_dim_customers', \n",
    "    sha2(concat_ws(\"|\", \n",
    "        dim_customers.row_ingestion_timestamp,\n",
    "        dim_customers.customer_id, \n",
    "        dim_customers.customer_zip_code_prefix), 256))\n",
    "\n",
    "# Ordena as colunas\n",
    "dim_customers_select = dim_customers.select( \n",
    "    'sk_dim_customers',\n",
    "    'row_ingestion_timestamp',\n",
    "    'row_version',\n",
    "    'row_current_indicator',\n",
    "    'row_effective_date',\n",
    "    'row_expiration_date',\n",
    "    'customer_id',\n",
    "    'customer_zip_code_prefix',\n",
    "    'customer_city',\n",
    "    'customer_state'\n",
    "    )\n",
    "\n",
    "display(dim_customers_select.limit(10))"
   ]
  },
  {
   "cell_type": "code",
   "execution_count": 0,
   "metadata": {
    "application/vnd.databricks.v1+cell": {
     "cellMetadata": {
      "byteLimit": 2048000,
      "rowLimit": 10000
     },
     "inputWidgets": {},
     "nuid": "b25aaad8-16af-4a87-ac7c-a98af08061ec",
     "showTitle": false,
     "title": ""
    }
   },
   "outputs": [],
   "source": [
    "table_name = 'dim_customers'\n",
    "spark.sql('USE olist')\n",
    "spark.sql(f'DROP TABLE IF EXISTS dim_customers')\n",
    "dim_customers_select.write.format(\"delta\").mode('overwrite').saveAsTable(table_name)"
   ]
  },
  {
   "cell_type": "markdown",
   "metadata": {
    "application/vnd.databricks.v1+cell": {
     "cellMetadata": {
      "byteLimit": 2048000,
      "rowLimit": 10000
     },
     "inputWidgets": {},
     "nuid": "0f68ef48-4016-4605-87f8-40255beef6d8",
     "showTitle": false,
     "title": ""
    }
   },
   "source": [
    "### Carga Diferencial (Upsert)"
   ]
  },
  {
   "cell_type": "code",
   "execution_count": 0,
   "metadata": {
    "application/vnd.databricks.v1+cell": {
     "cellMetadata": {
      "byteLimit": 2048000,
      "rowLimit": 10000
     },
     "inputWidgets": {},
     "nuid": "75de2e32-cf43-4da7-b983-babeab3f4a58",
     "showTitle": false,
     "title": ""
    }
   },
   "outputs": [
    {
     "output_type": "stream",
     "name": "stdout",
     "output_type": "stream",
     "text": [
      "+--------------------+------------------------+-------------+--------------+\n|         customer_id|customer_zip_code_prefix|customer_city|customer_state|\n+--------------------+------------------------+-------------+--------------+\n|2455a94ebab82b398...|                   39900|    almenara1|            MG|\n+--------------------+------------------------+-------------+--------------+\n\n"
     ]
    }
   ],
   "source": [
    "#teste\n",
    "data = [('2455a94ebab82b39829283f823a69bba',39900,'almenara1','MG')]\n",
    "column = ['customer_id', 'customer_zip_code_prefix', 'customer_city', 'customer_state']\n",
    "\n",
    "df_dimensao = spark.createDataFrame(data, schema=column)\n",
    "df_dimensao.show()"
   ]
  },
  {
   "cell_type": "code",
   "execution_count": 0,
   "metadata": {
    "application/vnd.databricks.v1+cell": {
     "cellMetadata": {
      "byteLimit": 2048000,
      "rowLimit": 10000
     },
     "inputWidgets": {},
     "nuid": "b1512afa-a014-4ec5-8a7d-3e1025f21cc8",
     "showTitle": false,
     "title": ""
    }
   },
   "outputs": [
    {
     "output_type": "display_data",
     "data": {
      "text/html": [
       "<style scoped>\n",
       "  .table-result-container {\n",
       "    max-height: 300px;\n",
       "    overflow: auto;\n",
       "  }\n",
       "  table, th, td {\n",
       "    border: 1px solid black;\n",
       "    border-collapse: collapse;\n",
       "  }\n",
       "  th, td {\n",
       "    padding: 5px;\n",
       "  }\n",
       "  th {\n",
       "    text-align: left;\n",
       "  }\n",
       "</style><div class='table-result-container'><table class='table-result'><thead style='background-color: white'><tr><th>customer_id</th><th>customer_zip_code_prefix</th><th>customer_city</th><th>customer_state</th></tr></thead><tbody><tr><td>2455a94ebab82b39829283f823a69bba</td><td>39900</td><td>almenara1</td><td>MG</td></tr></tbody></table></div>"
      ]
     },
     "metadata": {
      "application/vnd.databricks.v1+output": {
       "addedWidgets": {},
       "aggData": [],
       "aggError": "",
       "aggOverflow": false,
       "aggSchema": [],
       "aggSeriesLimitReached": false,
       "aggType": "",
       "arguments": {},
       "columnCustomDisplayInfos": {},
       "data": [
        [
         "2455a94ebab82b39829283f823a69bba",
         39900,
         "almenara1",
         "MG"
        ]
       ],
       "datasetInfos": [],
       "dbfsResultPath": null,
       "isJsonSchema": true,
       "metadata": {},
       "overflow": false,
       "plotOptions": {
        "customPlotOptions": {},
        "displayType": "table",
        "pivotAggregation": null,
        "pivotColumns": null,
        "xColumns": null,
        "yColumns": null
       },
       "removedWidgets": [],
       "schema": [
        {
         "metadata": "{}",
         "name": "customer_id",
         "type": "\"string\""
        },
        {
         "metadata": "{}",
         "name": "customer_zip_code_prefix",
         "type": "\"long\""
        },
        {
         "metadata": "{}",
         "name": "customer_city",
         "type": "\"string\""
        },
        {
         "metadata": "{}",
         "name": "customer_state",
         "type": "\"string\""
        }
       ],
       "type": "table"
      }
     },
     "output_type": "display_data"
    }
   ],
   "source": [
    "# Dados Novos\n",
    "df_origem = df_dimensao\n",
    "\n",
    "# Dados da dimensão\n",
    "df_destino = spark.sql(\"\"\"\n",
    "    SELECT   \n",
    "        customer_id,\n",
    "        customer_zip_code_prefix,\n",
    "        customer_city,\n",
    "        customer_state \n",
    "    FROM \n",
    "        poc_datum.olist.dim_customers \n",
    "    ORDER BY customer_id \"\"\")\n",
    "\n",
    "# Realize o EXCEPT (retornar apenas registros novos)\n",
    "df_dados_novos = df_origem.exceptAll(df_destino)\n",
    "\n",
    "display(df_dados_novos)\n",
    "\n",
    "# Cria uma tabela temporária\n",
    "df_dados_novos.createOrReplaceTempView(\"temp_dados_novos\")"
   ]
  },
  {
   "cell_type": "code",
   "execution_count": 0,
   "metadata": {
    "application/vnd.databricks.v1+cell": {
     "cellMetadata": {
      "byteLimit": 2048000,
      "rowLimit": 10000
     },
     "inputWidgets": {},
     "nuid": "7425d5c9-d661-499d-915d-eb74423fb544",
     "showTitle": false,
     "title": ""
    }
   },
   "outputs": [
    {
     "output_type": "stream",
     "name": "stdout",
     "output_type": "stream",
     "text": [
      "2024-04-29 16:26:34.544675\n"
     ]
    }
   ],
   "source": [
    "# Paramêtros\n",
    "table_merge = 'dim_customers'\n",
    "change_date = datetime.now().strftime('%Y-%m-%d %H:%M:%S.%f')\n",
    "print(change_date)"
   ]
  },
  {
   "cell_type": "code",
   "execution_count": 0,
   "metadata": {
    "application/vnd.databricks.v1+cell": {
     "cellMetadata": {
      "byteLimit": 2048000,
      "rowLimit": 10000
     },
     "inputWidgets": {},
     "nuid": "eceb7677-1c28-4df6-92ac-b48593e28d60",
     "showTitle": false,
     "title": ""
    }
   },
   "outputs": [],
   "source": [
    "# spark.sql('USE olist')"
   ]
  },
  {
   "cell_type": "code",
   "execution_count": 0,
   "metadata": {
    "application/vnd.databricks.v1+cell": {
     "cellMetadata": {
      "byteLimit": 2048000,
      "implicitDf": true,
      "rowLimit": 10000
     },
     "inputWidgets": {},
     "nuid": "e9c01d44-357a-40ba-9b77-692dd1c591df",
     "showTitle": false,
     "title": ""
    }
   },
   "outputs": [
    {
     "output_type": "execute_result",
     "data": {
      "text/plain": [
       "DataFrame[]"
      ]
     },
     "execution_count": 9,
     "metadata": {},
     "output_type": "execute_result"
    }
   ],
   "source": [
    "spark.sql(f\"\"\"\n",
    "CREATE OR REPLACE TEMPORARY VIEW dados_novos AS \n",
    "SELECT\n",
    "     sha2(concat_ws(\"|\",  '{change_date}',  a.customer_id, a.customer_zip_code_prefix), 256) AS sk_dim_customers\n",
    "    ,a.customer_id\n",
    "    ,a.customer_zip_code_prefix\n",
    "    ,a.customer_city\n",
    "    ,a.customer_state\n",
    "    ,to_timestamp('{change_date}')  AS change_date\n",
    "    ,(\n",
    "        SELECT\n",
    "            MAX(b.sk_dim_customers)\n",
    "        FROM\n",
    "            dim_customers as b\n",
    "        WHERE\n",
    "            a.customer_id = b.customer_id\n",
    "    ) AS max_sk_dim_customers\n",
    "    ,COALESCE(\n",
    "        (\n",
    "            SELECT\n",
    "                MAX(c.row_version) + 1\n",
    "            FROM\n",
    "                dim_customers as c\n",
    "            WHERE\n",
    "                a.customer_id = c.customer_id\n",
    "        ), 1\n",
    "    ) AS max_row_version\n",
    "FROM\n",
    "    temp_dados_novos AS a\n",
    "\"\"\")"
   ]
  },
  {
   "cell_type": "code",
   "execution_count": 0,
   "metadata": {
    "application/vnd.databricks.v1+cell": {
     "cellMetadata": {
      "byteLimit": 2048000,
      "implicitDf": true,
      "rowLimit": 10000
     },
     "inputWidgets": {},
     "nuid": "a87945c4-4772-46e9-a8f0-7df103ca5c3a",
     "showTitle": false,
     "title": ""
    }
   },
   "outputs": [
    {
     "output_type": "display_data",
     "data": {
      "text/html": [
       "<style scoped>\n",
       "  .table-result-container {\n",
       "    max-height: 300px;\n",
       "    overflow: auto;\n",
       "  }\n",
       "  table, th, td {\n",
       "    border: 1px solid black;\n",
       "    border-collapse: collapse;\n",
       "  }\n",
       "  th, td {\n",
       "    padding: 5px;\n",
       "  }\n",
       "  th {\n",
       "    text-align: left;\n",
       "  }\n",
       "</style><div class='table-result-container'><table class='table-result'><thead style='background-color: white'><tr><th>sk_dim_customers</th><th>customer_id</th><th>customer_zip_code_prefix</th><th>customer_city</th><th>customer_state</th><th>change_date</th><th>max_sk_dim_customers</th><th>max_row_version</th></tr></thead><tbody><tr><td>7f3681466e8fe944581e95579f5de2c6e241ce9a75b176c2f86ad9ce9cbefbf4</td><td>2455a94ebab82b39829283f823a69bba</td><td>39900</td><td>almenara1</td><td>MG</td><td>2024-04-29T16:26:34.544675Z</td><td>9ac264d784ce1abd044710d0cd85e6fdd2941a170a4aa4ed220f8f6737e01574</td><td>2</td></tr></tbody></table></div>"
      ]
     },
     "metadata": {
      "application/vnd.databricks.v1+output": {
       "addedWidgets": {},
       "aggData": [],
       "aggError": "",
       "aggOverflow": false,
       "aggSchema": [],
       "aggSeriesLimitReached": false,
       "aggType": "",
       "arguments": {},
       "columnCustomDisplayInfos": {},
       "data": [
        [
         "7f3681466e8fe944581e95579f5de2c6e241ce9a75b176c2f86ad9ce9cbefbf4",
         "2455a94ebab82b39829283f823a69bba",
         39900,
         "almenara1",
         "MG",
         "2024-04-29T16:26:34.544675Z",
         "9ac264d784ce1abd044710d0cd85e6fdd2941a170a4aa4ed220f8f6737e01574",
         2
        ]
       ],
       "datasetInfos": [],
       "dbfsResultPath": null,
       "isJsonSchema": true,
       "metadata": {
        "dataframeName": "_sqldf",
        "executionCount": 10
       },
       "overflow": false,
       "plotOptions": {
        "customPlotOptions": {},
        "displayType": "table",
        "pivotAggregation": null,
        "pivotColumns": null,
        "xColumns": null,
        "yColumns": null
       },
       "removedWidgets": [],
       "schema": [
        {
         "metadata": "{}",
         "name": "sk_dim_customers",
         "type": "\"string\""
        },
        {
         "metadata": "{}",
         "name": "customer_id",
         "type": "\"string\""
        },
        {
         "metadata": "{}",
         "name": "customer_zip_code_prefix",
         "type": "\"long\""
        },
        {
         "metadata": "{}",
         "name": "customer_city",
         "type": "\"string\""
        },
        {
         "metadata": "{}",
         "name": "customer_state",
         "type": "\"string\""
        },
        {
         "metadata": "{}",
         "name": "change_date",
         "type": "\"timestamp\""
        },
        {
         "metadata": "{}",
         "name": "max_sk_dim_customers",
         "type": "\"string\""
        },
        {
         "metadata": "{}",
         "name": "max_row_version",
         "type": "\"integer\""
        }
       ],
       "type": "table"
      }
     },
     "output_type": "display_data"
    }
   ],
   "source": [
    "%sql\n",
    "SELECT\n",
    "    *\n",
    "FROM\n",
    "    dados_novos AS a"
   ]
  },
  {
   "cell_type": "code",
   "execution_count": 0,
   "metadata": {
    "application/vnd.databricks.v1+cell": {
     "cellMetadata": {
      "byteLimit": 2048000,
      "rowLimit": 10000
     },
     "inputWidgets": {},
     "nuid": "44b0c859-11c4-4938-b8c5-81054aee7e09",
     "showTitle": false,
     "title": ""
    }
   },
   "outputs": [
    {
     "output_type": "execute_result",
     "data": {
      "text/plain": [
       "DataFrame[num_affected_rows: bigint, num_updated_rows: bigint, num_deleted_rows: bigint, num_inserted_rows: bigint]"
      ]
     },
     "execution_count": 11,
     "metadata": {},
     "output_type": "execute_result"
    }
   ],
   "source": [
    "spark.sql(f\"\"\" \n",
    "MERGE INTO {table_merge} as destino\n",
    "USING dados_novos \n",
    "ON destino.sk_dim_customers = dados_novos.max_sk_dim_customers\n",
    "\n",
    "WHEN MATCHED THEN \n",
    "  UPDATE SET\n",
    "   destino.row_expiration_date = to_timestamp('{change_date}') --dados_novos.change_date\n",
    "  ,destino.row_current_indicator = False\n",
    "  \"\"\")"
   ]
  },
  {
   "cell_type": "code",
   "execution_count": 0,
   "metadata": {
    "application/vnd.databricks.v1+cell": {
     "cellMetadata": {
      "byteLimit": 2048000,
      "rowLimit": 10000
     },
     "inputWidgets": {},
     "nuid": "cd5c9e85-574b-445c-baad-b20e1504a16f",
     "showTitle": false,
     "title": ""
    }
   },
   "outputs": [
    {
     "output_type": "execute_result",
     "data": {
      "text/plain": [
       "DataFrame[num_affected_rows: bigint, num_updated_rows: bigint, num_deleted_rows: bigint, num_inserted_rows: bigint]"
      ]
     },
     "execution_count": 12,
     "metadata": {},
     "output_type": "execute_result"
    }
   ],
   "source": [
    "spark.sql(f\"\"\"\n",
    "MERGE INTO {table_merge} as destino\n",
    "USING dados_novos \n",
    "ON destino.customer_id = dados_novos.customer_id\n",
    "AND destino.customer_city = dados_novos.customer_city\n",
    "\n",
    "WHEN NOT MATCHED \n",
    "  THEN INSERT (\n",
    "    sk_dim_customers\n",
    "    , row_ingestion_timestamp\n",
    "    ,row_version\n",
    "    ,row_current_indicator\n",
    "    ,row_effective_date\n",
    "    ,row_expiration_date\n",
    "    ,customer_id\n",
    "    ,customer_zip_code_prefix\n",
    "    ,customer_city\n",
    "    ,customer_state\n",
    "  )\n",
    "  VALUES (\n",
    "    dados_novos.sk_dim_customers\n",
    "    ,to_timestamp('{change_date}') --dados_novos.change_date\n",
    "    ,dados_novos.max_row_version\n",
    "    ,1\n",
    "    ,to_timestamp('{change_date}') --dados_novos.change_date\n",
    "    ,to_timestamp( '2200-01-01 00:00:00')\n",
    "    ,dados_novos.customer_id\n",
    "    ,dados_novos.customer_zip_code_prefix\n",
    "    ,dados_novos.customer_city\n",
    "    ,dados_novos.customer_state\n",
    "  )\n",
    "\"\"\")"
   ]
  },
  {
   "cell_type": "code",
   "execution_count": 0,
   "metadata": {
    "application/vnd.databricks.v1+cell": {
     "cellMetadata": {
      "byteLimit": 2048000,
      "implicitDf": true,
      "rowLimit": 10000
     },
     "inputWidgets": {},
     "nuid": "e0d45926-4051-45be-be6b-a793bd7dea8f",
     "showTitle": false,
     "title": ""
    }
   },
   "outputs": [
    {
     "output_type": "display_data",
     "data": {
      "text/html": [
       "<style scoped>\n",
       "  .table-result-container {\n",
       "    max-height: 300px;\n",
       "    overflow: auto;\n",
       "  }\n",
       "  table, th, td {\n",
       "    border: 1px solid black;\n",
       "    border-collapse: collapse;\n",
       "  }\n",
       "  th, td {\n",
       "    padding: 5px;\n",
       "  }\n",
       "  th {\n",
       "    text-align: left;\n",
       "  }\n",
       "</style><div class='table-result-container'><table class='table-result'><thead style='background-color: white'><tr><th>sk_dim_customers</th><th>row_ingestion_timestamp</th><th>row_version</th><th>row_current_indicator</th><th>row_effective_date</th><th>row_expiration_date</th><th>customer_id</th><th>customer_zip_code_prefix</th><th>customer_city</th><th>customer_state</th></tr></thead><tbody><tr><td>7f3681466e8fe944581e95579f5de2c6e241ce9a75b176c2f86ad9ce9cbefbf4</td><td>2024-04-29T16:26:34.544675Z</td><td>2</td><td>true</td><td>2024-04-29T16:26:34.544675Z</td><td>2200-01-01T00:00:00Z</td><td>2455a94ebab82b39829283f823a69bba</td><td>39900</td><td>almenara1</td><td>MG</td></tr><tr><td>9ac264d784ce1abd044710d0cd85e6fdd2941a170a4aa4ed220f8f6737e01574</td><td>2024-04-29T16:26:14.596Z</td><td>1</td><td>false</td><td>1900-01-01T00:00:00Z</td><td>2024-04-29T16:26:34.544675Z</td><td>2455a94ebab82b39829283f823a69bba</td><td>39900</td><td>almenara</td><td>MG</td></tr></tbody></table></div>"
      ]
     },
     "metadata": {
      "application/vnd.databricks.v1+output": {
       "addedWidgets": {},
       "aggData": [],
       "aggError": "",
       "aggOverflow": false,
       "aggSchema": [],
       "aggSeriesLimitReached": false,
       "aggType": "",
       "arguments": {},
       "columnCustomDisplayInfos": {},
       "data": [
        [
         "7f3681466e8fe944581e95579f5de2c6e241ce9a75b176c2f86ad9ce9cbefbf4",
         "2024-04-29T16:26:34.544675Z",
         2,
         true,
         "2024-04-29T16:26:34.544675Z",
         "2200-01-01T00:00:00Z",
         "2455a94ebab82b39829283f823a69bba",
         39900,
         "almenara1",
         "MG"
        ],
        [
         "9ac264d784ce1abd044710d0cd85e6fdd2941a170a4aa4ed220f8f6737e01574",
         "2024-04-29T16:26:14.596Z",
         1,
         false,
         "1900-01-01T00:00:00Z",
         "2024-04-29T16:26:34.544675Z",
         "2455a94ebab82b39829283f823a69bba",
         39900,
         "almenara",
         "MG"
        ]
       ],
       "datasetInfos": [],
       "dbfsResultPath": null,
       "isJsonSchema": true,
       "metadata": {
        "dataframeName": "_sqldf",
        "executionCount": 13
       },
       "overflow": false,
       "plotOptions": {
        "customPlotOptions": {},
        "displayType": "table",
        "pivotAggregation": null,
        "pivotColumns": null,
        "xColumns": null,
        "yColumns": null
       },
       "removedWidgets": [],
       "schema": [
        {
         "metadata": "{}",
         "name": "sk_dim_customers",
         "type": "\"string\""
        },
        {
         "metadata": "{}",
         "name": "row_ingestion_timestamp",
         "type": "\"timestamp\""
        },
        {
         "metadata": "{}",
         "name": "row_version",
         "type": "\"integer\""
        },
        {
         "metadata": "{}",
         "name": "row_current_indicator",
         "type": "\"boolean\""
        },
        {
         "metadata": "{}",
         "name": "row_effective_date",
         "type": "\"timestamp\""
        },
        {
         "metadata": "{}",
         "name": "row_expiration_date",
         "type": "\"timestamp\""
        },
        {
         "metadata": "{}",
         "name": "customer_id",
         "type": "\"string\""
        },
        {
         "metadata": "{}",
         "name": "customer_zip_code_prefix",
         "type": "\"long\""
        },
        {
         "metadata": "{}",
         "name": "customer_city",
         "type": "\"string\""
        },
        {
         "metadata": "{}",
         "name": "customer_state",
         "type": "\"string\""
        }
       ],
       "type": "table"
      }
     },
     "output_type": "display_data"
    }
   ],
   "source": [
    "%sql\n",
    "SELECT * FROM poc_datum.olist.dim_customers\n",
    "WHERE customer_id = '2455a94ebab82b39829283f823a69bba'"
   ]
  }
 ],
 "metadata": {
  "application/vnd.databricks.v1+notebook": {
   "dashboards": [],
   "language": "python",
   "notebookMetadata": {
    "mostRecentlyExecutedCommandWithImplicitDF": {
     "commandId": 2262144926015268,
     "dataframes": [
      "_sqldf"
     ]
    },
    "pythonIndentUnit": 4
   },
   "notebookName": "dim_customers",
   "widgets": {}
  }
 },
 "nbformat": 4,
 "nbformat_minor": 0
}
