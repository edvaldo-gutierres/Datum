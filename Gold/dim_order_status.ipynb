{
 "cells": [
  {
   "cell_type": "markdown",
   "metadata": {
    "application/vnd.databricks.v1+cell": {
     "cellMetadata": {
      "byteLimit": 2048000,
      "rowLimit": 10000
     },
     "inputWidgets": {},
     "nuid": "1ed3b06b-35b2-4a5e-8d0c-967e87ca3f45",
     "showTitle": true,
     "title": ""
    }
   },
   "source": [
    "### Premissas:\n",
    "- Nome: dim_order_status\n",
    "- Descrição da tabela: Tabela composta por variáveis qualitativas de status do pedido.\n",
    "- Tipo: SCD-2"
   ]
  },
  {
   "cell_type": "code",
   "execution_count": 0,
   "metadata": {
    "application/vnd.databricks.v1+cell": {
     "cellMetadata": {
      "byteLimit": 2048000,
      "rowLimit": 10000
     },
     "inputWidgets": {},
     "nuid": "9272a681-aed9-433a-a9ba-04f4d2e91179",
     "showTitle": false,
     "title": ""
    }
   },
   "outputs": [],
   "source": [
    "# Importa bibliotecas\n",
    "from pyspark.sql.types import StructType, StructField, IntegerType, FloatType, StringType, TimestampType, LongType\n",
    "from pyspark.sql.functions import *\n",
    "from pyspark.sql.window import Window\n",
    "from datetime import datetime"
   ]
  },
  {
   "cell_type": "code",
   "execution_count": 0,
   "metadata": {
    "application/vnd.databricks.v1+cell": {
     "cellMetadata": {
      "byteLimit": 2048000,
      "rowLimit": 10000
     },
     "inputWidgets": {},
     "nuid": "807a79a1-bf0c-476a-b094-dc9f0e1b77ff",
     "showTitle": false,
     "title": ""
    }
   },
   "outputs": [
    {
     "output_type": "display_data",
     "data": {
      "text/html": [
       "<style scoped>\n",
       "  .table-result-container {\n",
       "    max-height: 300px;\n",
       "    overflow: auto;\n",
       "  }\n",
       "  table, th, td {\n",
       "    border: 1px solid black;\n",
       "    border-collapse: collapse;\n",
       "  }\n",
       "  th, td {\n",
       "    padding: 5px;\n",
       "  }\n",
       "  th {\n",
       "    text-align: left;\n",
       "  }\n",
       "</style><div class='table-result-container'><table class='table-result'><thead style='background-color: white'><tr><th>order_status_id</th><th>order_status</th></tr></thead><tbody><tr><td>0</td><td>approved</td></tr><tr><td>1</td><td>canceled</td></tr><tr><td>2</td><td>delivered</td></tr><tr><td>3</td><td>invoiced</td></tr><tr><td>4</td><td>processing</td></tr><tr><td>5</td><td>shipped</td></tr><tr><td>6</td><td>unavailable</td></tr></tbody></table></div>"
      ]
     },
     "metadata": {
      "application/vnd.databricks.v1+output": {
       "addedWidgets": {},
       "aggData": [],
       "aggError": "",
       "aggOverflow": false,
       "aggSchema": [],
       "aggSeriesLimitReached": false,
       "aggType": "",
       "arguments": {},
       "columnCustomDisplayInfos": {},
       "data": [
        [
         0,
         "approved"
        ],
        [
         1,
         "canceled"
        ],
        [
         2,
         "delivered"
        ],
        [
         3,
         "invoiced"
        ],
        [
         4,
         "processing"
        ],
        [
         5,
         "shipped"
        ],
        [
         6,
         "unavailable"
        ]
       ],
       "datasetInfos": [],
       "dbfsResultPath": null,
       "isJsonSchema": true,
       "metadata": {},
       "overflow": false,
       "plotOptions": {
        "customPlotOptions": {},
        "displayType": "table",
        "pivotAggregation": null,
        "pivotColumns": null,
        "xColumns": null,
        "yColumns": null
       },
       "removedWidgets": [],
       "schema": [
        {
         "metadata": "{}",
         "name": "order_status_id",
         "type": "\"long\""
        },
        {
         "metadata": "{}",
         "name": "order_status",
         "type": "\"string\""
        }
       ],
       "type": "table"
      }
     },
     "output_type": "display_data"
    }
   ],
   "source": [
    "# Cria dataframe com dados para a criação da dimensão\n",
    "df_dimensao = spark.sql(\"SELECT DISTINCT order_status FROM poc_datum.olist.inter_sales ORDER BY 1\")     \n",
    "df_dimensao = df_dimensao.withColumn('order_status_id', monotonically_increasing_id() )\n",
    "\n",
    "# Ordena as colunas\n",
    "df_dimensao = df_dimensao.select('order_status_id', 'order_status')\n",
    "\n",
    "# Exibe o resultado\n",
    "display(df_dimensao)"
   ]
  },
  {
   "cell_type": "code",
   "execution_count": 0,
   "metadata": {
    "application/vnd.databricks.v1+cell": {
     "cellMetadata": {
      "byteLimit": 2048000,
      "rowLimit": 10000
     },
     "inputWidgets": {},
     "nuid": "bc06bd9e-b03e-4c5b-a556-c30636bbe0ac",
     "showTitle": false,
     "title": ""
    }
   },
   "outputs": [
    {
     "output_type": "display_data",
     "data": {
      "text/html": [
       "<style scoped>\n",
       "  .table-result-container {\n",
       "    max-height: 300px;\n",
       "    overflow: auto;\n",
       "  }\n",
       "  table, th, td {\n",
       "    border: 1px solid black;\n",
       "    border-collapse: collapse;\n",
       "  }\n",
       "  th, td {\n",
       "    padding: 5px;\n",
       "  }\n",
       "  th {\n",
       "    text-align: left;\n",
       "  }\n",
       "</style><div class='table-result-container'><table class='table-result'><thead style='background-color: white'><tr><th>sk_dim_order_status</th><th>row_ingestion_timestamp</th><th>row_version</th><th>row_current_indicator</th><th>row_effective_date</th><th>row_expiration_date</th><th>order_status_id</th><th>order_status</th></tr></thead><tbody><tr><td>af786bb765f6947dd7b24957e0d7e40ea499dee63f5b8ac23613fd0092bf4a17</td><td>2024-04-29T13:14:39.579Z</td><td>1</td><td>true</td><td>1900-01-01T00:00:00Z</td><td>2200-01-01T00:00:00Z</td><td>-1</td><td>Não informado</td></tr><tr><td>c5d152ae659a9eb074bd035dffa9f8e78c43ae44cfd1dd3bf5c8d5b7d42ec040</td><td>2024-04-29T13:14:39.579Z</td><td>1</td><td>true</td><td>1900-01-01T00:00:00Z</td><td>2200-01-01T00:00:00Z</td><td>0</td><td>approved</td></tr><tr><td>50078d3b42785c3bed7fd5c2af70bc38cb28956c0f9c34f58e9ad1ec8ecc0bd2</td><td>2024-04-29T13:14:39.579Z</td><td>1</td><td>true</td><td>1900-01-01T00:00:00Z</td><td>2200-01-01T00:00:00Z</td><td>1</td><td>canceled</td></tr><tr><td>0564f7b39b6c606de0668bd816f57211d96c9539366481a5ccaae51305f4acce</td><td>2024-04-29T13:14:39.579Z</td><td>1</td><td>true</td><td>1900-01-01T00:00:00Z</td><td>2200-01-01T00:00:00Z</td><td>2</td><td>delivered</td></tr><tr><td>a65209c9e0b9110f7efae7292e01ff2de1a03e4c80042aa10d19be02c503cf1b</td><td>2024-04-29T13:14:39.579Z</td><td>1</td><td>true</td><td>1900-01-01T00:00:00Z</td><td>2200-01-01T00:00:00Z</td><td>3</td><td>invoiced</td></tr><tr><td>6884278d9f9f6c1ec56beb307677effbdbb7bf7d6be40cd244048ba6b6d330b8</td><td>2024-04-29T13:14:39.579Z</td><td>1</td><td>true</td><td>1900-01-01T00:00:00Z</td><td>2200-01-01T00:00:00Z</td><td>4</td><td>processing</td></tr><tr><td>8184a768cc7a9fd348235393b411108de7fdc17ab711eb5b70cb4e2fa1aeb892</td><td>2024-04-29T13:14:39.579Z</td><td>1</td><td>true</td><td>1900-01-01T00:00:00Z</td><td>2200-01-01T00:00:00Z</td><td>5</td><td>shipped</td></tr><tr><td>c03a686765bb39b0cf62687bb7f2cb636a706d443facac95b4f7c12c66f413f0</td><td>2024-04-29T13:14:39.579Z</td><td>1</td><td>true</td><td>1900-01-01T00:00:00Z</td><td>2200-01-01T00:00:00Z</td><td>6</td><td>unavailable</td></tr></tbody></table></div>"
      ]
     },
     "metadata": {
      "application/vnd.databricks.v1+output": {
       "addedWidgets": {},
       "aggData": [],
       "aggError": "",
       "aggOverflow": false,
       "aggSchema": [],
       "aggSeriesLimitReached": false,
       "aggType": "",
       "arguments": {},
       "columnCustomDisplayInfos": {},
       "data": [
        [
         "af786bb765f6947dd7b24957e0d7e40ea499dee63f5b8ac23613fd0092bf4a17",
         "2024-04-29T13:14:39.579Z",
         1,
         true,
         "1900-01-01T00:00:00Z",
         "2200-01-01T00:00:00Z",
         -1,
         "Não informado"
        ],
        [
         "c5d152ae659a9eb074bd035dffa9f8e78c43ae44cfd1dd3bf5c8d5b7d42ec040",
         "2024-04-29T13:14:39.579Z",
         1,
         true,
         "1900-01-01T00:00:00Z",
         "2200-01-01T00:00:00Z",
         0,
         "approved"
        ],
        [
         "50078d3b42785c3bed7fd5c2af70bc38cb28956c0f9c34f58e9ad1ec8ecc0bd2",
         "2024-04-29T13:14:39.579Z",
         1,
         true,
         "1900-01-01T00:00:00Z",
         "2200-01-01T00:00:00Z",
         1,
         "canceled"
        ],
        [
         "0564f7b39b6c606de0668bd816f57211d96c9539366481a5ccaae51305f4acce",
         "2024-04-29T13:14:39.579Z",
         1,
         true,
         "1900-01-01T00:00:00Z",
         "2200-01-01T00:00:00Z",
         2,
         "delivered"
        ],
        [
         "a65209c9e0b9110f7efae7292e01ff2de1a03e4c80042aa10d19be02c503cf1b",
         "2024-04-29T13:14:39.579Z",
         1,
         true,
         "1900-01-01T00:00:00Z",
         "2200-01-01T00:00:00Z",
         3,
         "invoiced"
        ],
        [
         "6884278d9f9f6c1ec56beb307677effbdbb7bf7d6be40cd244048ba6b6d330b8",
         "2024-04-29T13:14:39.579Z",
         1,
         true,
         "1900-01-01T00:00:00Z",
         "2200-01-01T00:00:00Z",
         4,
         "processing"
        ],
        [
         "8184a768cc7a9fd348235393b411108de7fdc17ab711eb5b70cb4e2fa1aeb892",
         "2024-04-29T13:14:39.579Z",
         1,
         true,
         "1900-01-01T00:00:00Z",
         "2200-01-01T00:00:00Z",
         5,
         "shipped"
        ],
        [
         "c03a686765bb39b0cf62687bb7f2cb636a706d443facac95b4f7c12c66f413f0",
         "2024-04-29T13:14:39.579Z",
         1,
         true,
         "1900-01-01T00:00:00Z",
         "2200-01-01T00:00:00Z",
         6,
         "unavailable"
        ]
       ],
       "datasetInfos": [],
       "dbfsResultPath": null,
       "isJsonSchema": true,
       "metadata": {},
       "overflow": false,
       "plotOptions": {
        "customPlotOptions": {},
        "displayType": "table",
        "pivotAggregation": null,
        "pivotColumns": null,
        "xColumns": null,
        "yColumns": null
       },
       "removedWidgets": [],
       "schema": [
        {
         "metadata": "{}",
         "name": "sk_dim_order_status",
         "type": "\"string\""
        },
        {
         "metadata": "{}",
         "name": "row_ingestion_timestamp",
         "type": "\"timestamp\""
        },
        {
         "metadata": "{}",
         "name": "row_version",
         "type": "\"integer\""
        },
        {
         "metadata": "{}",
         "name": "row_current_indicator",
         "type": "\"boolean\""
        },
        {
         "metadata": "{}",
         "name": "row_effective_date",
         "type": "\"timestamp\""
        },
        {
         "metadata": "{}",
         "name": "row_expiration_date",
         "type": "\"timestamp\""
        },
        {
         "metadata": "{}",
         "name": "order_status_id",
         "type": "\"long\""
        },
        {
         "metadata": "{}",
         "name": "order_status",
         "type": "\"string\""
        }
       ],
       "type": "table"
      }
     },
     "output_type": "display_data"
    }
   ],
   "source": [
    "# Primeira carga\n",
    "\n",
    "# Cria DataFrame com os dados de \"NÃO INFORMADO\"\n",
    "data = [(-1, \"Não informado\")]\n",
    "column = df_dimensao.schema.fieldNames()\n",
    "df = spark.createDataFrame( data, schema=column )\n",
    "# df.show()\n",
    "\n",
    "# Faz o join com o dataframe com dados para a criação da dimensão\n",
    "dim_order_status = df.union(df_dimensao)\n",
    "# dim_customers.show()\n",
    "\n",
    "# Inseri as colunas default de dimensão\n",
    "dim_order_status = dim_order_status.withColumn( \"row_ingestion_timestamp\", current_timestamp() ) \\\n",
    "    .withColumn( \"row_version\", lit(1) ) \\\n",
    "    .withColumn( \"row_current_indicator\", lit(True) ) \\\n",
    "    .withColumn( \"row_effective_date\", to_timestamp( lit('1900-01-01 00:00:00'), \"yyyy-MM-dd HH:mm:ss\") ) \\\n",
    "    .withColumn( \"row_expiration_date\", to_timestamp( lit('2200-01-01 00:00:00') , \"yyyy-MM-dd HH:mm:ss\" ) )\n",
    "\n",
    "# Inseri coluna SK\n",
    "dim_order_status = dim_order_status.withColumn( \n",
    "    'sk_dim_order_status', \n",
    "    sha2(concat_ws(\"|\",  \n",
    "        dim_order_status.row_ingestion_timestamp,\n",
    "        dim_order_status.order_status_id, \n",
    "        dim_order_status.order_status), 256))\n",
    "\n",
    "# Ordena as colunas\n",
    "dim_order_status_select = dim_order_status.select( \n",
    "    'sk_dim_order_status',\n",
    "    'row_ingestion_timestamp',\n",
    "    'row_version',\n",
    "    'row_current_indicator',\n",
    "    'row_effective_date',\n",
    "    'row_expiration_date',\n",
    "    'order_status_id',\n",
    "    'order_status'\n",
    "    )\n",
    "\n",
    "display(dim_order_status_select)"
   ]
  },
  {
   "cell_type": "code",
   "execution_count": 0,
   "metadata": {
    "application/vnd.databricks.v1+cell": {
     "cellMetadata": {
      "byteLimit": 2048000,
      "rowLimit": 10000
     },
     "inputWidgets": {},
     "nuid": "716c3c77-e9f0-4cf3-88b1-4f1712e57b91",
     "showTitle": false,
     "title": ""
    }
   },
   "outputs": [],
   "source": [
    "table_name = 'dim_order_status'\n",
    "spark.sql('USE olist')\n",
    "spark.sql(f'DROP TABLE IF EXISTS dim_order_status')\n",
    "dim_order_status_select.write.format(\"delta\").mode('overwrite').saveAsTable(table_name)"
   ]
  },
  {
   "cell_type": "markdown",
   "metadata": {
    "application/vnd.databricks.v1+cell": {
     "cellMetadata": {
      "byteLimit": 2048000,
      "rowLimit": 10000
     },
     "inputWidgets": {},
     "nuid": "a0585e0e-638c-46b7-8c9a-00074e8b50c0",
     "showTitle": false,
     "title": ""
    }
   },
   "source": [
    "### Carga Diferencial (Upsert)"
   ]
  },
  {
   "cell_type": "code",
   "execution_count": 0,
   "metadata": {
    "application/vnd.databricks.v1+cell": {
     "cellMetadata": {
      "byteLimit": 2048000,
      "rowLimit": 10000
     },
     "inputWidgets": {},
     "nuid": "286794ad-051a-409f-aee2-168928eafc9e",
     "showTitle": false,
     "title": ""
    }
   },
   "outputs": [
    {
     "output_type": "stream",
     "name": "stdout",
     "output_type": "stream",
     "text": [
      "+---------------+------------+\n|order_status_id|order_status|\n+---------------+------------+\n|              0|   approvedD|\n+---------------+------------+\n\n"
     ]
    }
   ],
   "source": [
    "#teste\n",
    "data = [(0,\t'approvedD')]\n",
    "column = ['order_status_id','order_status']\n",
    "\n",
    "df_dimensao = spark.createDataFrame(data, schema=column)\n",
    "df_dimensao.show()"
   ]
  },
  {
   "cell_type": "code",
   "execution_count": 0,
   "metadata": {
    "application/vnd.databricks.v1+cell": {
     "cellMetadata": {
      "byteLimit": 2048000,
      "rowLimit": 10000
     },
     "inputWidgets": {},
     "nuid": "bf64326b-c5d5-4243-b761-da5f48cc1dae",
     "showTitle": false,
     "title": ""
    }
   },
   "outputs": [
    {
     "output_type": "display_data",
     "data": {
      "text/html": [
       "<style scoped>\n",
       "  .table-result-container {\n",
       "    max-height: 300px;\n",
       "    overflow: auto;\n",
       "  }\n",
       "  table, th, td {\n",
       "    border: 1px solid black;\n",
       "    border-collapse: collapse;\n",
       "  }\n",
       "  th, td {\n",
       "    padding: 5px;\n",
       "  }\n",
       "  th {\n",
       "    text-align: left;\n",
       "  }\n",
       "</style><div class='table-result-container'><table class='table-result'><thead style='background-color: white'><tr><th>order_status_id</th><th>order_status</th></tr></thead><tbody><tr><td>0</td><td>approvedD</td></tr></tbody></table></div>"
      ]
     },
     "metadata": {
      "application/vnd.databricks.v1+output": {
       "addedWidgets": {},
       "aggData": [],
       "aggError": "",
       "aggOverflow": false,
       "aggSchema": [],
       "aggSeriesLimitReached": false,
       "aggType": "",
       "arguments": {},
       "columnCustomDisplayInfos": {},
       "data": [
        [
         0,
         "approvedD"
        ]
       ],
       "datasetInfos": [],
       "dbfsResultPath": null,
       "isJsonSchema": true,
       "metadata": {},
       "overflow": false,
       "plotOptions": {
        "customPlotOptions": {},
        "displayType": "table",
        "pivotAggregation": null,
        "pivotColumns": null,
        "xColumns": null,
        "yColumns": null
       },
       "removedWidgets": [],
       "schema": [
        {
         "metadata": "{}",
         "name": "order_status_id",
         "type": "\"long\""
        },
        {
         "metadata": "{}",
         "name": "order_status",
         "type": "\"string\""
        }
       ],
       "type": "table"
      }
     },
     "output_type": "display_data"
    }
   ],
   "source": [
    "# Dados Novos\n",
    "df_origem = df_dimensao\n",
    "\n",
    "# Dados da dimensão\n",
    "df_destino = spark.sql(\"\"\"\n",
    "    SELECT   \n",
    "        order_status_id,\n",
    "        order_status\n",
    "    FROM \n",
    "        poc_datum.olist.dim_order_status\n",
    "    ORDER BY order_status_id \"\"\")\n",
    "\n",
    "# Realize o EXCEPT (retornar apenas registros novos)\n",
    "df_dados_novos = df_origem.exceptAll(df_destino)\n",
    "\n",
    "display(df_dados_novos)\n",
    "\n",
    "# Cria uma tabela temporária\n",
    "df_dados_novos.createOrReplaceTempView(\"temp_dados_novos\")"
   ]
  },
  {
   "cell_type": "code",
   "execution_count": 0,
   "metadata": {
    "application/vnd.databricks.v1+cell": {
     "cellMetadata": {
      "byteLimit": 2048000,
      "rowLimit": 10000
     },
     "inputWidgets": {},
     "nuid": "d928109b-f1e5-44f2-8af7-1d85f7017b34",
     "showTitle": false,
     "title": ""
    }
   },
   "outputs": [
    {
     "output_type": "stream",
     "name": "stdout",
     "output_type": "stream",
     "text": [
      "2024-04-29 13:14:48.199435\n"
     ]
    }
   ],
   "source": [
    "# Paramêtros\n",
    "table_merge = 'dim_order_status'\n",
    "change_date = datetime.now().strftime('%Y-%m-%d %H:%M:%S.%f')\n",
    "print(change_date)"
   ]
  },
  {
   "cell_type": "code",
   "execution_count": 0,
   "metadata": {
    "application/vnd.databricks.v1+cell": {
     "cellMetadata": {
      "byteLimit": 2048000,
      "rowLimit": 10000
     },
     "inputWidgets": {},
     "nuid": "7c68dd16-7b51-4952-8c35-162aa12c6e00",
     "showTitle": false,
     "title": ""
    }
   },
   "outputs": [
    {
     "output_type": "execute_result",
     "data": {
      "text/plain": [
       "DataFrame[]"
      ]
     },
     "execution_count": 57,
     "metadata": {},
     "output_type": "execute_result"
    }
   ],
   "source": [
    "spark.sql(f\"\"\"\n",
    "CREATE OR REPLACE TEMPORARY VIEW dados_novos AS \n",
    "SELECT\n",
    "     sha2(concat_ws(\"|\",  '{change_date}',  a.order_status_id, a.order_status), 256) AS sk_dim_order_status\n",
    "    ,a.order_status_id\n",
    "    ,a.order_status\n",
    "    ,to_timestamp('{change_date}')  AS change_date\n",
    "    ,(\n",
    "        SELECT\n",
    "            MAX(b.sk_dim_order_status)\n",
    "        FROM\n",
    "            dim_order_status as b\n",
    "        WHERE\n",
    "            a.order_status_id = b.order_status_id\n",
    "    ) AS max_sk_dim_order_status\n",
    "    ,COALESCE(\n",
    "        (\n",
    "            SELECT\n",
    "                MAX(c.row_version) + 1\n",
    "            FROM\n",
    "                dim_order_status as c\n",
    "            WHERE\n",
    "                a.order_status_id = c.order_status_id\n",
    "        ), 1\n",
    "    ) AS max_row_version\n",
    "FROM\n",
    "    temp_dados_novos AS a\n",
    "\"\"\")"
   ]
  },
  {
   "cell_type": "code",
   "execution_count": 0,
   "metadata": {
    "application/vnd.databricks.v1+cell": {
     "cellMetadata": {
      "byteLimit": 2048000,
      "implicitDf": true,
      "rowLimit": 10000
     },
     "inputWidgets": {},
     "nuid": "b8632c88-504b-422f-a71c-b462afbebc61",
     "showTitle": false,
     "title": ""
    }
   },
   "outputs": [
    {
     "output_type": "display_data",
     "data": {
      "text/html": [
       "<style scoped>\n",
       "  .table-result-container {\n",
       "    max-height: 300px;\n",
       "    overflow: auto;\n",
       "  }\n",
       "  table, th, td {\n",
       "    border: 1px solid black;\n",
       "    border-collapse: collapse;\n",
       "  }\n",
       "  th, td {\n",
       "    padding: 5px;\n",
       "  }\n",
       "  th {\n",
       "    text-align: left;\n",
       "  }\n",
       "</style><div class='table-result-container'><table class='table-result'><thead style='background-color: white'><tr><th>sk_dim_order_status</th><th>order_status_id</th><th>order_status</th><th>change_date</th><th>max_sk_dim_order_status</th><th>max_row_version</th></tr></thead><tbody><tr><td>9bf231d60e0eac864bd0fef44eb7a2a93330161ca113815ce063e67ae1c1b36e</td><td>0</td><td>approvedD</td><td>2024-04-29T13:14:48.199435Z</td><td>1c21607f1701994c4f6add5fdd5b6d39fbd7ec2f523968f8ea903459dceb9c8a</td><td>2</td></tr></tbody></table></div>"
      ]
     },
     "metadata": {
      "application/vnd.databricks.v1+output": {
       "addedWidgets": {},
       "aggData": [],
       "aggError": "",
       "aggOverflow": false,
       "aggSchema": [],
       "aggSeriesLimitReached": false,
       "aggType": "",
       "arguments": {},
       "columnCustomDisplayInfos": {},
       "data": [
        [
         "9bf231d60e0eac864bd0fef44eb7a2a93330161ca113815ce063e67ae1c1b36e",
         0,
         "approvedD",
         "2024-04-29T13:14:48.199435Z",
         "1c21607f1701994c4f6add5fdd5b6d39fbd7ec2f523968f8ea903459dceb9c8a",
         2
        ]
       ],
       "datasetInfos": [],
       "dbfsResultPath": null,
       "isJsonSchema": true,
       "metadata": {
        "dataframeName": "_sqldf",
        "executionCount": 58
       },
       "overflow": false,
       "plotOptions": {
        "customPlotOptions": {},
        "displayType": "table",
        "pivotAggregation": null,
        "pivotColumns": null,
        "xColumns": null,
        "yColumns": null
       },
       "removedWidgets": [],
       "schema": [
        {
         "metadata": "{}",
         "name": "sk_dim_order_status",
         "type": "\"string\""
        },
        {
         "metadata": "{}",
         "name": "order_status_id",
         "type": "\"long\""
        },
        {
         "metadata": "{}",
         "name": "order_status",
         "type": "\"string\""
        },
        {
         "metadata": "{}",
         "name": "change_date",
         "type": "\"timestamp\""
        },
        {
         "metadata": "{}",
         "name": "max_sk_dim_order_status",
         "type": "\"string\""
        },
        {
         "metadata": "{}",
         "name": "max_row_version",
         "type": "\"integer\""
        }
       ],
       "type": "table"
      }
     },
     "output_type": "display_data"
    }
   ],
   "source": [
    "%sql\n",
    "SELECT\n",
    "    *\n",
    "FROM\n",
    "    dados_novos AS a"
   ]
  },
  {
   "cell_type": "code",
   "execution_count": 0,
   "metadata": {
    "application/vnd.databricks.v1+cell": {
     "cellMetadata": {
      "byteLimit": 2048000,
      "rowLimit": 10000
     },
     "inputWidgets": {},
     "nuid": "12f90e03-d25f-40b1-9c4d-ff7eea9ae3ac",
     "showTitle": false,
     "title": ""
    }
   },
   "outputs": [
    {
     "output_type": "execute_result",
     "data": {
      "text/plain": [
       "DataFrame[num_affected_rows: bigint, num_updated_rows: bigint, num_deleted_rows: bigint, num_inserted_rows: bigint]"
      ]
     },
     "execution_count": 59,
     "metadata": {},
     "output_type": "execute_result"
    }
   ],
   "source": [
    "spark.sql(f\"\"\" \n",
    "MERGE INTO {table_merge} as destino\n",
    "USING dados_novos \n",
    "ON destino.sk_dim_order_status = dados_novos.max_sk_dim_order_status\n",
    "\n",
    "WHEN MATCHED THEN \n",
    "  UPDATE SET\n",
    "   destino.row_expiration_date = to_timestamp('{change_date}') --dados_novos.change_date\n",
    "  ,destino.row_current_indicator = False\n",
    "  \"\"\")"
   ]
  },
  {
   "cell_type": "code",
   "execution_count": 0,
   "metadata": {
    "application/vnd.databricks.v1+cell": {
     "cellMetadata": {
      "byteLimit": 2048000,
      "rowLimit": 10000
     },
     "inputWidgets": {},
     "nuid": "750557d8-fd82-43f3-9e1c-1846b1bf5a01",
     "showTitle": false,
     "title": ""
    }
   },
   "outputs": [
    {
     "output_type": "execute_result",
     "data": {
      "text/plain": [
       "DataFrame[num_affected_rows: bigint, num_updated_rows: bigint, num_deleted_rows: bigint, num_inserted_rows: bigint]"
      ]
     },
     "execution_count": 60,
     "metadata": {},
     "output_type": "execute_result"
    }
   ],
   "source": [
    "spark.sql(f\"\"\"\n",
    "MERGE INTO {table_merge} as destino\n",
    "USING dados_novos \n",
    "ON destino.order_status_id = dados_novos.order_status_id\n",
    "AND destino.order_status = dados_novos.order_status\n",
    "\n",
    "WHEN NOT MATCHED \n",
    "  THEN INSERT (\n",
    "    sk_dim_order_status\n",
    "    , row_ingestion_timestamp\n",
    "    ,row_version\n",
    "    ,row_current_indicator\n",
    "    ,row_effective_date\n",
    "    ,row_expiration_date\n",
    "    ,order_status_id\n",
    "    ,order_status\n",
    "  )\n",
    "  VALUES (\n",
    "    dados_novos.sk_dim_order_status\n",
    "    ,to_timestamp('{change_date}') --dados_novos.change_date\n",
    "    ,dados_novos.max_row_version\n",
    "    ,1\n",
    "    ,to_timestamp('{change_date}') --dados_novos.change_date\n",
    "    ,to_timestamp( '2200-01-01 00:00:00')\n",
    "    ,dados_novos.order_status_id\n",
    "    ,dados_novos.order_status\n",
    "  )\n",
    "\"\"\")"
   ]
  },
  {
   "cell_type": "code",
   "execution_count": 0,
   "metadata": {
    "application/vnd.databricks.v1+cell": {
     "cellMetadata": {
      "byteLimit": 2048000,
      "implicitDf": true,
      "rowLimit": 10000
     },
     "inputWidgets": {},
     "nuid": "29dc4512-4a8a-4125-ae7c-40cfa3f17cd8",
     "showTitle": false,
     "title": ""
    }
   },
   "outputs": [
    {
     "output_type": "display_data",
     "data": {
      "text/html": [
       "<style scoped>\n",
       "  .table-result-container {\n",
       "    max-height: 300px;\n",
       "    overflow: auto;\n",
       "  }\n",
       "  table, th, td {\n",
       "    border: 1px solid black;\n",
       "    border-collapse: collapse;\n",
       "  }\n",
       "  th, td {\n",
       "    padding: 5px;\n",
       "  }\n",
       "  th {\n",
       "    text-align: left;\n",
       "  }\n",
       "</style><div class='table-result-container'><table class='table-result'><thead style='background-color: white'><tr><th>sk_dim_order_status</th><th>row_ingestion_timestamp</th><th>row_version</th><th>row_current_indicator</th><th>row_effective_date</th><th>row_expiration_date</th><th>order_status_id</th><th>order_status</th></tr></thead><tbody><tr><td>9bf231d60e0eac864bd0fef44eb7a2a93330161ca113815ce063e67ae1c1b36e</td><td>2024-04-29T13:14:48.199435Z</td><td>2</td><td>true</td><td>2024-04-29T13:14:48.199435Z</td><td>2200-01-01T00:00:00Z</td><td>0</td><td>approvedD</td></tr><tr><td>1c21607f1701994c4f6add5fdd5b6d39fbd7ec2f523968f8ea903459dceb9c8a</td><td>2024-04-29T13:14:42.494Z</td><td>1</td><td>false</td><td>1900-01-01T00:00:00Z</td><td>2024-04-29T13:14:48.199435Z</td><td>0</td><td>approved</td></tr></tbody></table></div>"
      ]
     },
     "metadata": {
      "application/vnd.databricks.v1+output": {
       "addedWidgets": {},
       "aggData": [],
       "aggError": "",
       "aggOverflow": false,
       "aggSchema": [],
       "aggSeriesLimitReached": false,
       "aggType": "",
       "arguments": {},
       "columnCustomDisplayInfos": {},
       "data": [
        [
         "9bf231d60e0eac864bd0fef44eb7a2a93330161ca113815ce063e67ae1c1b36e",
         "2024-04-29T13:14:48.199435Z",
         2,
         true,
         "2024-04-29T13:14:48.199435Z",
         "2200-01-01T00:00:00Z",
         0,
         "approvedD"
        ],
        [
         "1c21607f1701994c4f6add5fdd5b6d39fbd7ec2f523968f8ea903459dceb9c8a",
         "2024-04-29T13:14:42.494Z",
         1,
         false,
         "1900-01-01T00:00:00Z",
         "2024-04-29T13:14:48.199435Z",
         0,
         "approved"
        ]
       ],
       "datasetInfos": [],
       "dbfsResultPath": null,
       "isJsonSchema": true,
       "metadata": {
        "dataframeName": "_sqldf",
        "executionCount": 61
       },
       "overflow": false,
       "plotOptions": {
        "customPlotOptions": {},
        "displayType": "table",
        "pivotAggregation": null,
        "pivotColumns": null,
        "xColumns": null,
        "yColumns": null
       },
       "removedWidgets": [],
       "schema": [
        {
         "metadata": "{}",
         "name": "sk_dim_order_status",
         "type": "\"string\""
        },
        {
         "metadata": "{}",
         "name": "row_ingestion_timestamp",
         "type": "\"timestamp\""
        },
        {
         "metadata": "{}",
         "name": "row_version",
         "type": "\"integer\""
        },
        {
         "metadata": "{}",
         "name": "row_current_indicator",
         "type": "\"boolean\""
        },
        {
         "metadata": "{}",
         "name": "row_effective_date",
         "type": "\"timestamp\""
        },
        {
         "metadata": "{}",
         "name": "row_expiration_date",
         "type": "\"timestamp\""
        },
        {
         "metadata": "{}",
         "name": "order_status_id",
         "type": "\"long\""
        },
        {
         "metadata": "{}",
         "name": "order_status",
         "type": "\"string\""
        }
       ],
       "type": "table"
      }
     },
     "output_type": "display_data"
    }
   ],
   "source": [
    "%sql\n",
    "SELECT * FROM poc_datum.olist.dim_order_status\n",
    "WHERE order_status_id = 0"
   ]
  }
 ],
 "metadata": {
  "application/vnd.databricks.v1+notebook": {
   "dashboards": [],
   "language": "python",
   "notebookMetadata": {
    "mostRecentlyExecutedCommandWithImplicitDF": {
     "commandId": 2279192075256329,
     "dataframes": [
      "_sqldf"
     ]
    },
    "pythonIndentUnit": 4
   },
   "notebookName": "dim_order_status",
   "widgets": {}
  }
 },
 "nbformat": 4,
 "nbformat_minor": 0
}
