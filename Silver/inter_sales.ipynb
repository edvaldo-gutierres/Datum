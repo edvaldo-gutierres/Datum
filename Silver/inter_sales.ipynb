{
 "cells": [
  {
   "cell_type": "code",
   "execution_count": 0,
   "metadata": {
    "application/vnd.databricks.v1+cell": {
     "cellMetadata": {
      "byteLimit": 2048000,
      "rowLimit": 10000
     },
     "inputWidgets": {},
     "nuid": "af959ef4-8077-4d7a-bb48-95634ff100ed",
     "showTitle": false,
     "title": ""
    }
   },
   "outputs": [],
   "source": [
    "# Importando Bibliotecas\n",
    "from pyspark.sql import DataFrame, Row\n",
    "from pyspark.sql.functions import current_timestamp, col\n",
    "from pyspark.sql.types import StructType, StructField, IntegerType, StringType, NumericType, DateType, BooleanType, TimestampType\n",
    "from datetime import datetime"
   ]
  },
  {
   "cell_type": "markdown",
   "metadata": {
    "application/vnd.databricks.v1+cell": {
     "cellMetadata": {
      "byteLimit": 2048000,
      "rowLimit": 10000
     },
     "inputWidgets": {},
     "nuid": "af699137-af07-4c06-9a0d-58c97c529933",
     "showTitle": false,
     "title": ""
    }
   },
   "source": [
    "# Cria tabela intermediária de vendas"
   ]
  },
  {
   "cell_type": "code",
   "execution_count": 0,
   "metadata": {
    "application/vnd.databricks.v1+cell": {
     "cellMetadata": {
      "byteLimit": 2048000,
      "implicitDf": true,
      "rowLimit": 10000
     },
     "inputWidgets": {},
     "nuid": "7f6d0ac0-80b6-45e7-a873-b4a092a4c645",
     "showTitle": false,
     "title": ""
    }
   },
   "outputs": [
    {
     "output_type": "display_data",
     "data": {
      "text/html": [
       "<style scoped>\n",
       "  .table-result-container {\n",
       "    max-height: 300px;\n",
       "    overflow: auto;\n",
       "  }\n",
       "  table, th, td {\n",
       "    border: 1px solid black;\n",
       "    border-collapse: collapse;\n",
       "  }\n",
       "  th, td {\n",
       "    padding: 5px;\n",
       "  }\n",
       "  th {\n",
       "    text-align: left;\n",
       "  }\n",
       "</style><div class='table-result-container'><table class='table-result'><thead style='background-color: white'><tr></tr></thead><tbody></tbody></table></div>"
      ]
     },
     "metadata": {
      "application/vnd.databricks.v1+output": {
       "addedWidgets": {},
       "aggData": [],
       "aggError": "",
       "aggOverflow": false,
       "aggSchema": [],
       "aggSeriesLimitReached": false,
       "aggType": "",
       "arguments": {},
       "columnCustomDisplayInfos": {},
       "data": [],
       "datasetInfos": [],
       "dbfsResultPath": null,
       "isJsonSchema": true,
       "metadata": {
        "dataframeName": null
       },
       "overflow": false,
       "plotOptions": {
        "customPlotOptions": {},
        "displayType": "table",
        "pivotAggregation": null,
        "pivotColumns": null,
        "xColumns": null,
        "yColumns": null
       },
       "removedWidgets": [],
       "schema": [],
       "type": "table"
      }
     },
     "output_type": "display_data"
    }
   ],
   "source": [
    "%sql\n",
    "CREATE OR REPLACE TEMPORARY VIEW inter_vendas AS\n",
    "WITH temp_order_items AS (\n",
    "  SELECT DISTINCT \n",
    "    order_id,\n",
    "    -- order_item_id,\n",
    "    product_id,\n",
    "    seller_id,\n",
    "    shipping_limit_date,\n",
    "    price,\n",
    "    freight_value,\n",
    "    row_ingestion_timestamp\n",
    "  FROM poc_datum.olist.order_items_silver\n",
    "  WHERE 1 =1 \n",
    ")\n",
    "\n",
    "SELECT \n",
    " o.order_id\t\n",
    ",o.customer_id\t\n",
    ",o.order_status\t\n",
    ",o.order_purchase_timestamp\t\n",
    ",o.order_approved_at\t\n",
    ",o.order_delivered_carrier_date\t\n",
    ",o.order_delivered_customer_date\t\n",
    ",o.order_estimated_delivery_date\n",
    ",o.row_ingestion_timestamp\n",
    ",oi.product_id\t\n",
    ",oi.seller_id\t\n",
    ",oi.shipping_limit_date\t\n",
    ",oi.price\t\n",
    ",oi.freight_value\t\n",
    "FROM poc_datum.olist.order_silver AS o\n",
    "INNER JOIN temp_order_items as oi\n",
    "  ON o.order_id = oi.order_id\n",
    "-- WHERE o.order_id = 'c642b243037172b9fa789eec22ab713c'\n"
   ]
  },
  {
   "cell_type": "code",
   "execution_count": 0,
   "metadata": {
    "application/vnd.databricks.v1+cell": {
     "cellMetadata": {
      "byteLimit": 2048000,
      "implicitDf": true,
      "rowLimit": 10000
     },
     "inputWidgets": {},
     "nuid": "f3f3efa5-1d52-4ca0-b63d-0e26f17c0759",
     "showTitle": false,
     "title": ""
    }
   },
   "outputs": [
    {
     "output_type": "display_data",
     "data": {
      "text/html": [
       "<style scoped>\n",
       "  .table-result-container {\n",
       "    max-height: 300px;\n",
       "    overflow: auto;\n",
       "  }\n",
       "  table, th, td {\n",
       "    border: 1px solid black;\n",
       "    border-collapse: collapse;\n",
       "  }\n",
       "  th, td {\n",
       "    padding: 5px;\n",
       "  }\n",
       "  th {\n",
       "    text-align: left;\n",
       "  }\n",
       "</style><div class='table-result-container'><table class='table-result'><thead style='background-color: white'><tr><th>order_status</th></tr></thead><tbody><tr><td>shipped</td></tr><tr><td>canceled</td></tr><tr><td>approved</td></tr><tr><td>invoiced</td></tr><tr><td>delivered</td></tr><tr><td>unavailable</td></tr><tr><td>processing</td></tr></tbody></table></div>"
      ]
     },
     "metadata": {
      "application/vnd.databricks.v1+output": {
       "addedWidgets": {},
       "aggData": [],
       "aggError": "",
       "aggOverflow": false,
       "aggSchema": [],
       "aggSeriesLimitReached": false,
       "aggType": "",
       "arguments": {},
       "columnCustomDisplayInfos": {},
       "data": [
        [
         "shipped"
        ],
        [
         "canceled"
        ],
        [
         "approved"
        ],
        [
         "invoiced"
        ],
        [
         "delivered"
        ],
        [
         "unavailable"
        ],
        [
         "processing"
        ]
       ],
       "datasetInfos": [],
       "dbfsResultPath": null,
       "isJsonSchema": true,
       "metadata": {
        "dataframeName": "_sqldf",
        "executionCount": 7
       },
       "overflow": false,
       "plotOptions": {
        "customPlotOptions": {},
        "displayType": "table",
        "pivotAggregation": null,
        "pivotColumns": null,
        "xColumns": null,
        "yColumns": null
       },
       "removedWidgets": [],
       "schema": [
        {
         "metadata": "{}",
         "name": "order_status",
         "type": "\"string\""
        }
       ],
       "type": "table"
      }
     },
     "output_type": "display_data"
    }
   ],
   "source": [
    "%sql\n",
    "SELECT DISTINCT order_status FROM inter_vendas"
   ]
  },
  {
   "cell_type": "code",
   "execution_count": 0,
   "metadata": {
    "application/vnd.databricks.v1+cell": {
     "cellMetadata": {
      "byteLimit": 2048000,
      "rowLimit": 10000
     },
     "inputWidgets": {},
     "nuid": "f74be141-30fc-4660-b7ce-cdc1c7f69d8d",
     "showTitle": false,
     "title": ""
    }
   },
   "outputs": [],
   "source": [
    "# Seleciona o banco de dados 'olist' para uso\n",
    "table_name = 'inter_sales'\n",
    "spark.sql('USE olist')\n",
    "spark.sql(f'DROP TABLE IF EXISTS inter_sales')\n",
    "\n",
    "df = spark.sql('SELECT * FROM inter_vendas')\n",
    "\n",
    "# Grava o DataFrame no formato Parquet\n",
    "destination_path = f'dbfs:/FileStore/datum/silver/olistbr-brazilian-ecommerce/{table_name}'\n",
    "df.write.mode('overwrite').parquet(destination_path)\n",
    "\n",
    "df.write.format(\"delta\").mode('overwrite').saveAsTable(table_name)"
   ]
  }
 ],
 "metadata": {
  "application/vnd.databricks.v1+notebook": {
   "dashboards": [],
   "language": "python",
   "notebookMetadata": {
    "mostRecentlyExecutedCommandWithImplicitDF": {
     "commandId": 2262144926015241,
     "dataframes": [
      "_sqldf"
     ]
    },
    "pythonIndentUnit": 4
   },
   "notebookName": "inter_sales",
   "widgets": {}
  }
 },
 "nbformat": 4,
 "nbformat_minor": 0
}
